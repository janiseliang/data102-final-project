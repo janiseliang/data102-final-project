{
 "cells": [
  {
   "cell_type": "markdown",
   "metadata": {
    "user_expressions": []
   },
   "source": [
    "# Data Fetching and Preprocessing\n",
    "\n",
    "Code in this notebook is used for downloading and processing data (from the CDC and other sources) to prepare for analysis. The data from this step is placed in the `data/` folder."
   ]
  },
  {
   "cell_type": "markdown",
   "metadata": {
    "user_expressions": []
   },
   "source": [
    "**For Air Quality Data:**\n",
    "\n",
    "Since we are trying see the effects of ozone and PM 2.5 concentration on chronic diseases, we are worried more about extended air quality patterns, rather than specific years of data. It is much more likely that chronic diseases will stem from extended exposure to air pollutants, rather than a small time period. We take the average over all the data available (January 2011 to December 2014), which assumes that this period is at least relatively representative of the long-term patterns before 2011.\n",
    "\n",
    "**For Population Data:**\n",
    "\n",
    "We load data from the US Census website and consolidate the population estimates into subgroups.\n",
    "\n",
    "**For CDC Chronic Disease Indicators:**\n",
    "\n",
    "Downloads and stores CDI dataset in data folder.\n",
    "\n",
    "**For Other Data:**\n",
    "\n",
    "Some preprocessing steps (for Diabetes Prevalence by Age/Sex) were not included in this notebook for brevity. The preprocessed file result is included in the data folder, and code to produce the data is also included."
   ]
  },
  {
   "cell_type": "code",
   "execution_count": 2,
   "metadata": {
    "id": "KxaZC8oZZDoP"
   },
   "outputs": [],
   "source": [
    "import pandas as pd\n",
    "import numpy as np\n",
    "import plotly.express as px\n",
    "import matplotlib.pyplot as plt\n",
    "from sodapy import Socrata\n",
    "from scripts.aqi_state_agg import get_cdc_data, agg_county_weighted_mean"
   ]
  },
  {
   "cell_type": "code",
   "execution_count": 3,
   "metadata": {},
   "outputs": [],
   "source": [
    "PATH_TO_DATA = \"../data\""
   ]
  },
  {
   "cell_type": "markdown",
   "metadata": {
    "user_expressions": []
   },
   "source": [
    "## Ozone Data Aggregation\n",
    "\n",
    "Downloads data from the CDC's [Daily Census Tract-Level Ozone Concentrations](https://data.cdc.gov/Environmental-Health-Toxicology/Daily-Census-Tract-Level-Ozone-Concentrations-2011/372p-dx3h) and aggregates county-level data to state-level using a weighted mean based on county's population. We do this for the first day of every month from January 2011 to December 2014, then take the mean over all of these to calculate the average ozone concentration for the 4 years.\n",
    "\n",
    "The resulting DataFrame is saved as a csv file at `data/average_ozone_per_state.csv`"
   ]
  },
  {
   "cell_type": "code",
   "execution_count": 4,
   "metadata": {},
   "outputs": [
    {
     "name": "stderr",
     "output_type": "stream",
     "text": [
      "WARNING:root:Requests made without an app_token will be subject to strict throttling limits.\n",
      "100%|██████████| 48/48 [00:23<00:00,  2.03it/s]\n"
     ]
    }
   ],
   "source": [
    "months = [\"JAN\", \"FEB\", \"MAR\", \"APR\", \"MAY\", \"JUN\", \"JUL\", \"AUG\", \"SEP\", \"OCT\", \"NOV\", \"DEC\"]\n",
    "dates = sum([[\"01\"+m+str(yr) for m in months] for yr in np.arange(2011, 2015)], [])\n",
    "ozone = get_cdc_data(dates, ozone=True)"
   ]
  },
  {
   "cell_type": "code",
   "execution_count": 5,
   "metadata": {},
   "outputs": [],
   "source": [
    "ozone_by_state = agg_county_weighted_mean(ozone, data_dir=PATH_TO_DATA)\n",
    "ozone_by_state = ozone_by_state.set_index('abbrev')"
   ]
  },
  {
   "cell_type": "code",
   "execution_count": 6,
   "metadata": {},
   "outputs": [],
   "source": [
    "ozone_by_state['average o3'] = ozone_by_state.drop(columns='state').mean(axis=1)\n",
    "ozone_by_state['median o3'] = ozone_by_state.drop(columns=['state', 'average o3']).median(axis=1)\n",
    "ozone_by_state = ozone_by_state[['state', 'average o3', 'median o3']]\n",
    "ozone_by_state.to_csv(PATH_TO_DATA+\"/average_ozone_by_state.csv\")"
   ]
  },
  {
   "cell_type": "markdown",
   "metadata": {
    "user_expressions": []
   },
   "source": [
    "## PM 2.5 Data Aggregation\n",
    "\n",
    "Downloads data from the CDC's [Daily Census Tract-Level PM2.5 Concentrations](https://data.cdc.gov/Environmental-Health-Toxicology/Daily-Census-Tract-Level-PM2-5-Concentrations-2011/fcqm-xrf4) and aggregates county-level data to state-level using a weighted mean based on county's population. We do this for the first day of every month from January 2011 to December 2014, then take the mean over all of these to calculate the average ozone concentration for the 4 years.\n",
    "\n",
    "The resulting DataFrame is saved as a csv file at `data/average_pm_by_state.csv`"
   ]
  },
  {
   "cell_type": "code",
   "execution_count": 7,
   "metadata": {},
   "outputs": [
    {
     "name": "stderr",
     "output_type": "stream",
     "text": [
      "WARNING:root:Requests made without an app_token will be subject to strict throttling limits.\n",
      "100%|██████████| 48/48 [00:22<00:00,  2.14it/s]\n"
     ]
    }
   ],
   "source": [
    "months = [\"JAN\", \"FEB\", \"MAR\", \"APR\", \"MAY\", \"JUN\", \"JUL\", \"AUG\", \"SEP\", \"OCT\", \"NOV\", \"DEC\"]\n",
    "dates = sum([[\"01\"+m+str(yr) for m in months] for yr in np.arange(2011, 2015)], [])\n",
    "pm25 = get_cdc_data(dates, ozone=False)"
   ]
  },
  {
   "cell_type": "code",
   "execution_count": 8,
   "metadata": {},
   "outputs": [],
   "source": [
    "pm25_by_state = agg_county_weighted_mean(pm25, data_dir=PATH_TO_DATA)\n",
    "pm25_by_state = pm25_by_state.set_index('abbrev')"
   ]
  },
  {
   "cell_type": "code",
   "execution_count": 9,
   "metadata": {},
   "outputs": [
    {
     "data": {
      "text/html": [
       "<div>\n",
       "<style scoped>\n",
       "    .dataframe tbody tr th:only-of-type {\n",
       "        vertical-align: middle;\n",
       "    }\n",
       "\n",
       "    .dataframe tbody tr th {\n",
       "        vertical-align: top;\n",
       "    }\n",
       "\n",
       "    .dataframe thead th {\n",
       "        text-align: right;\n",
       "    }\n",
       "</style>\n",
       "<table border=\"1\" class=\"dataframe\">\n",
       "  <thead>\n",
       "    <tr style=\"text-align: right;\">\n",
       "      <th></th>\n",
       "      <th>2011</th>\n",
       "      <th>2012</th>\n",
       "      <th>2013</th>\n",
       "      <th>2014</th>\n",
       "    </tr>\n",
       "    <tr>\n",
       "      <th>abbrev</th>\n",
       "      <th></th>\n",
       "      <th></th>\n",
       "      <th></th>\n",
       "      <th></th>\n",
       "    </tr>\n",
       "  </thead>\n",
       "  <tbody>\n",
       "    <tr>\n",
       "      <th>AL</th>\n",
       "      <td>11.748242</td>\n",
       "      <td>11.454434</td>\n",
       "      <td>9.714757</td>\n",
       "      <td>12.506239</td>\n",
       "    </tr>\n",
       "    <tr>\n",
       "      <th>AZ</th>\n",
       "      <td>7.838444</td>\n",
       "      <td>9.232254</td>\n",
       "      <td>7.924441</td>\n",
       "      <td>8.970285</td>\n",
       "    </tr>\n",
       "    <tr>\n",
       "      <th>AR</th>\n",
       "      <td>11.059018</td>\n",
       "      <td>9.843660</td>\n",
       "      <td>9.833751</td>\n",
       "      <td>10.626165</td>\n",
       "    </tr>\n",
       "    <tr>\n",
       "      <th>CA</th>\n",
       "      <td>9.746000</td>\n",
       "      <td>10.029275</td>\n",
       "      <td>11.017674</td>\n",
       "      <td>11.995410</td>\n",
       "    </tr>\n",
       "    <tr>\n",
       "      <th>CO</th>\n",
       "      <td>5.870499</td>\n",
       "      <td>6.268958</td>\n",
       "      <td>5.951824</td>\n",
       "      <td>7.624095</td>\n",
       "    </tr>\n",
       "  </tbody>\n",
       "</table>\n",
       "</div>"
      ],
      "text/plain": [
       "             2011       2012       2013       2014\n",
       "abbrev                                            \n",
       "AL      11.748242  11.454434   9.714757  12.506239\n",
       "AZ       7.838444   9.232254   7.924441   8.970285\n",
       "AR      11.059018   9.843660   9.833751  10.626165\n",
       "CA       9.746000  10.029275  11.017674  11.995410\n",
       "CO       5.870499   6.268958   5.951824   7.624095"
      ]
     },
     "execution_count": 9,
     "metadata": {},
     "output_type": "execute_result"
    }
   ],
   "source": [
    "yearly = {}\n",
    "for i in range(4):\n",
    "    yearly[f'{2011+i}'] = pm25_by_state.iloc[:, (i*12):((i+1)*12)].mean(axis=1)\n",
    "yearly_pm25 = pd.DataFrame(yearly)\n",
    "yearly_pm25.to_csv(PATH_TO_DATA + \"/yearly_pm_by_state.csv\")\n",
    "yearly_pm25.head()"
   ]
  },
  {
   "cell_type": "code",
   "execution_count": 10,
   "metadata": {},
   "outputs": [],
   "source": [
    "pm25_by_state['average pm'] = pm25_by_state.drop(columns='state').mean(axis=1)\n",
    "pm25_by_state['median pm'] = pm25_by_state.drop(columns=['state', 'average pm']).median(axis=1)\n",
    "pm25_by_state = pm25_by_state[['state', 'average pm', 'median pm']]\n",
    "pm25_by_state.to_csv(PATH_TO_DATA + \"/average_pm_by_state.csv\")"
   ]
  },
  {
   "cell_type": "markdown",
   "metadata": {
    "user_expressions": []
   },
   "source": [
    "## Population by Age/Sex\n",
    "\n",
    "The CSV data is downloaded from https://www2.census.gov/programs-surveys/popest/datasets/2010-2020/state/asrh/SC-EST2020-AGESEX-CIV.csv.\n",
    "\n",
    "Details about the table format can be found here: https://www2.census.gov/programs-surveys/popest/technical-documentation/file-layouts/2010-2020/sc-est2020-18+pop-res.pdf"
   ]
  },
  {
   "cell_type": "code",
   "execution_count": 11,
   "metadata": {},
   "outputs": [],
   "source": [
    "pop_agesex_path = PATH_TO_DATA + \"/state_pop_by_agesex.csv\""
   ]
  },
  {
   "cell_type": "code",
   "execution_count": 12,
   "metadata": {},
   "outputs": [
    {
     "name": "stdout",
     "output_type": "stream",
     "text": [
      "  % Total    % Received % Xferd  Average Speed   Time    Time     Time  Current\n",
      "                                 Dload  Upload   Total   Spent    Left  Speed\n",
      "100 1297k    0 1297k    0     0  2060k      0 --:--:-- --:--:-- --:--:-- 2062k\n"
     ]
    }
   ],
   "source": [
    "!curl -o {pop_agesex_path} https://www2.census.gov/programs-surveys/popest/datasets/2010-2020/state/asrh/SC-EST2020-AGESEX-CIV.csv"
   ]
  },
  {
   "cell_type": "code",
   "execution_count": 13,
   "metadata": {},
   "outputs": [],
   "source": [
    "data = pd.read_csv(pop_agesex_path)\n",
    "pop2014 = data[(data['SUMLEV'] == 40) & (data['AGE'] < 100) & (data[\"SEX\"] > 0)][['NAME', 'SEX', 'AGE', 'POPEST2014_CIV']]"
   ]
  },
  {
   "cell_type": "code",
   "execution_count": 14,
   "metadata": {},
   "outputs": [],
   "source": [
    "# State name to 2-letter Postal Code\n",
    "abbrevs = pd.read_csv(PATH_TO_DATA + \"/county_to_state_aggregation/state_abbreviations.csv\")"
   ]
  },
  {
   "cell_type": "markdown",
   "metadata": {
    "user_expressions": []
   },
   "source": [
    "### By Sex, 2014"
   ]
  },
  {
   "cell_type": "code",
   "execution_count": 15,
   "metadata": {},
   "outputs": [],
   "source": [
    "fn = lambda state_df: state_df.groupby(\"SEX\").agg({'POPEST2014_CIV': np.sum})\n",
    "gender = pop2014.groupby([\"NAME\"]).apply(fn)\n",
    "\n",
    "gender = gender.reset_index()\n",
    "gender = gender.pivot(index=\"NAME\", columns=\"SEX\", values=\"POPEST2014_CIV\")\n",
    "\n",
    "gender.index = gender.index.rename(\"State\")\n",
    "gender = gender.rename(columns={1:'male', 2:'female'})\n",
    "\n",
    "gender.to_csv(PATH_TO_DATA + \"/state_pop_by_gender_2014.csv\")"
   ]
  },
  {
   "cell_type": "markdown",
   "metadata": {
    "user_expressions": []
   },
   "source": [
    "### By Age Group, 2014"
   ]
  },
  {
   "cell_type": "code",
   "execution_count": 16,
   "metadata": {},
   "outputs": [],
   "source": [
    "age_groups = [18, 45, 65, 75, 100]\n",
    "fn = lambda state_df: state_df.groupby(pd.cut(state_df['AGE'], bins=age_groups, right=False)).agg({\"POPEST2014_CIV\": np.sum})\n",
    "age = pop2014.groupby([\"NAME\"]).apply(fn)\n",
    "\n",
    "age = age.reset_index()\n",
    "age = age.pivot(index=\"NAME\", columns='AGE', values=\"POPEST2014_CIV\")\n",
    "\n",
    "age.index = age.index.rename(\"State\")\n",
    "age.columns = [\"18-44\", \"45-64\", \"65-74\", \"75+\"]\n",
    "\n",
    "age.to_csv(PATH_TO_DATA + \"/state_pop_by_age_group_2014.csv\")"
   ]
  },
  {
   "cell_type": "markdown",
   "metadata": {
    "user_expressions": []
   },
   "source": [
    "### High school population size, 2013\n",
    "\n",
    "Here, we simplify \"high school student\" to be anyone ages 15 to 18 (inclusive). This will likely overestimate the true number, but we believe the relative counts between states will still be relatively close to the true values."
   ]
  },
  {
   "cell_type": "code",
   "execution_count": 17,
   "metadata": {},
   "outputs": [],
   "source": [
    "pop2013 = pd.read_csv(pop_agesex_path)\n",
    "pop2013 = pop2013[(pop2013['SUMLEV'] == 40) & (pop2013['AGE'] < 100) & (pop2013[\"SEX\"] > 0)][['NAME', 'SEX', 'AGE', 'POPEST2013_CIV']]\n",
    "\n",
    "hs = pop2013[pop2013['AGE'].between(14, 18)].groupby(\"NAME\").agg({'POPEST2013_CIV': np.sum})\n",
    "hs = hs.merge(abbrevs, left_index=True, right_on='State')\n",
    "hs = hs.rename(columns={\"POPEST2013_CIV\": \"num HS age\"})\n",
    "hs.to_csv(PATH_TO_DATA + \"/hs_aged_pop_2013.csv\")"
   ]
  },
  {
   "cell_type": "markdown",
   "metadata": {
    "user_expressions": []
   },
   "source": [
    "### Adults (18 or older), 2014"
   ]
  },
  {
   "cell_type": "code",
   "execution_count": 18,
   "metadata": {},
   "outputs": [],
   "source": [
    "adult = pop2014[pop2014['AGE'].between(18, 100)].groupby(\"NAME\").agg({'POPEST2014_CIV': np.sum})\n",
    "adult = adult.merge(abbrevs, left_index=True, right_on='State')\n",
    "adult = adult.rename(columns={\"POPEST2014_CIV\": \"adult population\"})\n",
    "adult.to_csv(PATH_TO_DATA + \"/adult_pop_2014.csv\")"
   ]
  },
  {
   "cell_type": "markdown",
   "metadata": {
    "user_expressions": []
   },
   "source": [
    "## Download CDI Data"
   ]
  },
  {
   "cell_type": "code",
   "execution_count": 19,
   "metadata": {},
   "outputs": [
    {
     "name": "stdout",
     "output_type": "stream",
     "text": [
      "  % Total    % Received % Xferd  Average Speed   Time    Time     Time  Current\n",
      "                                 Dload  Upload   Total   Spent    Left  Speed\n",
      "100  342M    0  342M    0     0  8455k      0 --:--:--  0:00:41 --:--:-- 8832k\n"
     ]
    }
   ],
   "source": [
    "# downloads CDI dataset and save as cdi.csv\n",
    "!curl -o {PATH_TO_DATA + \"/cdi.csv\"} \"https://chronicdata.cdc.gov/api/views/g4ie-h725/rows.csv?accessType=DOWNLOAD\""
   ]
  },
  {
   "cell_type": "markdown",
   "metadata": {
    "user_expressions": []
   },
   "source": [
    "## Diabetes Prevalence by Age/Sex"
   ]
  },
  {
   "cell_type": "code",
   "execution_count": 21,
   "metadata": {},
   "outputs": [
    {
     "data": {
      "text/html": [
       "<div>\n",
       "<style scoped>\n",
       "    .dataframe tbody tr th:only-of-type {\n",
       "        vertical-align: middle;\n",
       "    }\n",
       "\n",
       "    .dataframe tbody tr th {\n",
       "        vertical-align: top;\n",
       "    }\n",
       "\n",
       "    .dataframe thead th {\n",
       "        text-align: right;\n",
       "    }\n",
       "</style>\n",
       "<table border=\"1\" class=\"dataframe\">\n",
       "  <thead>\n",
       "    <tr style=\"text-align: right;\">\n",
       "      <th></th>\n",
       "      <th>State</th>\n",
       "      <th>male</th>\n",
       "      <th>female</th>\n",
       "      <th>18-44</th>\n",
       "      <th>45-64</th>\n",
       "      <th>65-74</th>\n",
       "      <th>75+</th>\n",
       "    </tr>\n",
       "  </thead>\n",
       "  <tbody>\n",
       "    <tr>\n",
       "      <th>0</th>\n",
       "      <td>Alabama</td>\n",
       "      <td>12.0</td>\n",
       "      <td>11.5</td>\n",
       "      <td>4.8</td>\n",
       "      <td>17.8</td>\n",
       "      <td>24.3</td>\n",
       "      <td>21.0</td>\n",
       "    </tr>\n",
       "    <tr>\n",
       "      <th>1</th>\n",
       "      <td>Alaska</td>\n",
       "      <td>6.7</td>\n",
       "      <td>8.6</td>\n",
       "      <td>1.8</td>\n",
       "      <td>10.3</td>\n",
       "      <td>21.3</td>\n",
       "      <td>21.0</td>\n",
       "    </tr>\n",
       "    <tr>\n",
       "      <th>2</th>\n",
       "      <td>Arizona</td>\n",
       "      <td>10.1</td>\n",
       "      <td>8.3</td>\n",
       "      <td>2.8</td>\n",
       "      <td>14.0</td>\n",
       "      <td>21.8</td>\n",
       "      <td>18.7</td>\n",
       "    </tr>\n",
       "    <tr>\n",
       "      <th>3</th>\n",
       "      <td>Arkansas</td>\n",
       "      <td>11.9</td>\n",
       "      <td>11.3</td>\n",
       "      <td>3.9</td>\n",
       "      <td>17.9</td>\n",
       "      <td>24.7</td>\n",
       "      <td>22.8</td>\n",
       "    </tr>\n",
       "    <tr>\n",
       "      <th>4</th>\n",
       "      <td>California</td>\n",
       "      <td>10.9</td>\n",
       "      <td>9.0</td>\n",
       "      <td>2.9</td>\n",
       "      <td>15.4</td>\n",
       "      <td>21.5</td>\n",
       "      <td>22.5</td>\n",
       "    </tr>\n",
       "  </tbody>\n",
       "</table>\n",
       "</div>"
      ],
      "text/plain": [
       "        State  male female 18-44 45-64 65-74   75+\n",
       "0     Alabama  12.0   11.5   4.8  17.8  24.3  21.0\n",
       "1      Alaska   6.7    8.6   1.8  10.3  21.3  21.0\n",
       "2     Arizona  10.1    8.3   2.8  14.0  21.8  18.7\n",
       "3    Arkansas  11.9   11.3   3.9  17.9  24.7  22.8\n",
       "4  California  10.9    9.0   2.9  15.4  21.5  22.5"
      ]
     },
     "execution_count": 21,
     "metadata": {},
     "output_type": "execute_result"
    }
   ],
   "source": [
    "categorical_diabetes = pd.read_csv(PATH_TO_DATA + '/categorical_diabetes.csv')\n",
    "categorical_diabetes.head()"
   ]
  }
 ],
 "metadata": {
  "colab": {
   "provenance": []
  },
  "kernelspec": {
   "display_name": "Python 3 (ipykernel)",
   "language": "python",
   "name": "python3"
  },
  "language_info": {
   "codemirror_mode": {
    "name": "ipython",
    "version": 3
   },
   "file_extension": ".py",
   "mimetype": "text/x-python",
   "name": "python",
   "nbconvert_exporter": "python",
   "pygments_lexer": "ipython3",
   "version": "3.10.8"
  }
 },
 "nbformat": 4,
 "nbformat_minor": 0
}
