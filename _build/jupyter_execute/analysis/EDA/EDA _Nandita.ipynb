{
 "cells": [
  {
   "cell_type": "markdown",
   "metadata": {
    "id": "NtwpjRtONtXO"
   },
   "source": [
    "EDA\n",
    "\n",
    "• Visualize at least two quantitative variables and two categorical variables. Your visualizations must be relevant to your research questions!\n",
    "\n",
    "• Describe any trends you observe, and any relationships you may want to follow up on.\n",
    "\n",
    "• Explain how your visualizations should be relevant to your research questions: either by moti-\n",
    "vating the question, or suggesting a potential answer. You must explain why they are relevant."
   ]
  },
  {
   "cell_type": "markdown",
   "metadata": {
    "id": "Fx3eeKDKU-O1"
   },
   "source": [
    "\n"
   ]
  },
  {
   "cell_type": "code",
   "execution_count": 1,
   "metadata": {
    "colab": {
     "base_uri": "https://localhost:8080/"
    },
    "executionInfo": {
     "elapsed": 33852,
     "status": "ok",
     "timestamp": 1682387382877,
     "user": {
      "displayName": "Nandita Radhakrishnan",
      "userId": "10971545244259237440"
     },
     "user_tz": 420
    },
    "id": "LWuKD2zGNudm",
    "outputId": "a104799b-b238-452e-dc16-2ef431dda312"
   },
   "outputs": [
    {
     "name": "stdout",
     "output_type": "stream",
     "text": [
      "Mounted at /content/drive\n"
     ]
    }
   ],
   "source": [
    "# COPY THIS\n",
    "from google.colab import drive\n",
    "import os\n",
    "\n",
    "drive.mount('/content/drive', force_remount=True)\n",
    "os.chdir('/content/drive/MyDrive/data102')"
   ]
  },
  {
   "cell_type": "code",
   "execution_count": 2,
   "metadata": {
    "executionInfo": {
     "elapsed": 1257,
     "status": "ok",
     "timestamp": 1682387384130,
     "user": {
      "displayName": "Nandita Radhakrishnan",
      "userId": "10971545244259237440"
     },
     "user_tz": 420
    },
    "id": "zJqJBlC5Sr0k"
   },
   "outputs": [],
   "source": [
    "import pandas as pd\n",
    "import numpy as np\n",
    "import matplotlib.pyplot as plt"
   ]
  },
  {
   "cell_type": "code",
   "execution_count": 3,
   "metadata": {
    "colab": {
     "base_uri": "https://localhost:8080/"
    },
    "executionInfo": {
     "elapsed": 5229,
     "status": "ok",
     "timestamp": 1682387389351,
     "user": {
      "displayName": "Nandita Radhakrishnan",
      "userId": "10971545244259237440"
     },
     "user_tz": 420
    },
    "id": "yxlTv5irSr3m",
    "outputId": "d2d962b3-83ac-47ad-eed2-2b76dc01f591"
   },
   "outputs": [
    {
     "name": "stdout",
     "output_type": "stream",
     "text": [
      "Looking in indexes: https://pypi.org/simple, https://us-python.pkg.dev/colab-wheels/public/simple/\n",
      "Collecting sodapy\n",
      "  Downloading sodapy-2.2.0-py2.py3-none-any.whl (15 kB)\n",
      "Collecting requests>=2.28.1\n",
      "  Downloading requests-2.28.2-py3-none-any.whl (62 kB)\n",
      "\u001b[2K     \u001b[90m━━━━━━━━━━━━━━━━━━━━━━━━━━━━━━━━━━━━━━━━\u001b[0m \u001b[32m62.8/62.8 kB\u001b[0m \u001b[31m2.7 MB/s\u001b[0m eta \u001b[36m0:00:00\u001b[0m\n",
      "\u001b[?25hRequirement already satisfied: idna<4,>=2.5 in /usr/local/lib/python3.9/dist-packages (from requests>=2.28.1->sodapy) (3.4)\n",
      "Requirement already satisfied: certifi>=2017.4.17 in /usr/local/lib/python3.9/dist-packages (from requests>=2.28.1->sodapy) (2022.12.7)\n",
      "Requirement already satisfied: charset-normalizer<4,>=2 in /usr/local/lib/python3.9/dist-packages (from requests>=2.28.1->sodapy) (2.0.12)\n",
      "Requirement already satisfied: urllib3<1.27,>=1.21.1 in /usr/local/lib/python3.9/dist-packages (from requests>=2.28.1->sodapy) (1.26.15)\n",
      "Installing collected packages: requests, sodapy\n",
      "  Attempting uninstall: requests\n",
      "    Found existing installation: requests 2.27.1\n",
      "    Uninstalling requests-2.27.1:\n",
      "      Successfully uninstalled requests-2.27.1\n",
      "Successfully installed requests-2.28.2 sodapy-2.2.0\n"
     ]
    }
   ],
   "source": [
    "!pip install sodapy\n",
    "from sodapy import Socrata"
   ]
  },
  {
   "cell_type": "code",
   "execution_count": 4,
   "metadata": {
    "colab": {
     "base_uri": "https://localhost:8080/"
    },
    "executionInfo": {
     "elapsed": 26013,
     "status": "ok",
     "timestamp": 1682387415358,
     "user": {
      "displayName": "Nandita Radhakrishnan",
      "userId": "10971545244259237440"
     },
     "user_tz": 420
    },
    "id": "it7KXvX7Sr6d",
    "outputId": "0e012d11-3179-4ca3-8f97-f21bcfa7c1b8"
   },
   "outputs": [
    {
     "name": "stderr",
     "output_type": "stream",
     "text": [
      "<ipython-input-4-72ff7dc6ab96>:1: DtypeWarning: Columns (10) have mixed types. Specify dtype option on import or set low_memory=False.\n",
      "  cdi = pd.read_csv('data/cdi.csv')\n"
     ]
    }
   ],
   "source": [
    "cdi = pd.read_csv('data/cdi.csv')"
   ]
  },
  {
   "cell_type": "code",
   "execution_count": 5,
   "metadata": {
    "colab": {
     "base_uri": "https://localhost:8080/"
    },
    "executionInfo": {
     "elapsed": 9,
     "status": "ok",
     "timestamp": 1682387415358,
     "user": {
      "displayName": "Nandita Radhakrishnan",
      "userId": "10971545244259237440"
     },
     "user_tz": 420
    },
    "id": "Cob-Zq-LSr9D",
    "outputId": "66e548af-7872-46e6-a06d-0929edb5a90c"
   },
   "outputs": [
    {
     "data": {
      "text/plain": [
       "(Index(['YearStart', 'YearEnd', 'LocationAbbr', 'LocationDesc', 'DataSource',\n",
       "        'Topic', 'Question', 'Response', 'DataValueUnit', 'DataValueType',\n",
       "        'DataValue', 'DataValueAlt', 'DataValueFootnoteSymbol',\n",
       "        'DatavalueFootnote', 'LowConfidenceLimit', 'HighConfidenceLimit',\n",
       "        'StratificationCategory1', 'Stratification1', 'StratificationCategory2',\n",
       "        'Stratification2', 'StratificationCategory3', 'Stratification3',\n",
       "        'GeoLocation', 'ResponseID', 'LocationID', 'TopicID', 'QuestionID',\n",
       "        'DataValueTypeID', 'StratificationCategoryID1', 'StratificationID1',\n",
       "        'StratificationCategoryID2', 'StratificationID2',\n",
       "        'StratificationCategoryID3', 'StratificationID3'],\n",
       "       dtype='object'),\n",
       " (1185676, 34))"
      ]
     },
     "execution_count": 5,
     "metadata": {},
     "output_type": "execute_result"
    }
   ],
   "source": [
    "cdi.columns, cdi.shape"
   ]
  },
  {
   "cell_type": "code",
   "execution_count": 6,
   "metadata": {
    "colab": {
     "base_uri": "https://localhost:8080/"
    },
    "executionInfo": {
     "elapsed": 11,
     "status": "ok",
     "timestamp": 1682387415950,
     "user": {
      "displayName": "Nandita Radhakrishnan",
      "userId": "10971545244259237440"
     },
     "user_tz": 420
    },
    "id": "plXKG7q_Sr_r",
    "outputId": "a9a78d54-c4d9-4b35-f747-077085d445f3"
   },
   "outputs": [
    {
     "data": {
      "text/plain": [
       "array(['Asthma', 'Cancer', 'Chronic Kidney Disease',\n",
       "       'Chronic Obstructive Pulmonary Disease', 'Cardiovascular Disease',\n",
       "       'Diabetes', 'Disability', 'Reproductive Health', 'Tobacco',\n",
       "       'Alcohol', 'Arthritis',\n",
       "       'Nutrition, Physical Activity, and Weight Status', 'Mental Health',\n",
       "       'Older Adults', 'Oral Health', 'Overarching Conditions',\n",
       "       'Immunization'], dtype=object)"
      ]
     },
     "execution_count": 6,
     "metadata": {},
     "output_type": "execute_result"
    }
   ],
   "source": [
    "cdi[\"Topic\"].unique()"
   ]
  },
  {
   "cell_type": "code",
   "execution_count": 93,
   "metadata": {
    "executionInfo": {
     "elapsed": 509,
     "status": "ok",
     "timestamp": 1682395505121,
     "user": {
      "displayName": "Nandita Radhakrishnan",
      "userId": "10971545244259237440"
     },
     "user_tz": 420
    },
    "id": "rYmpzk9cidaL"
   },
   "outputs": [],
   "source": [
    "diabetes = cdi[cdi['Topic'] == \"Diabetes\"]\n",
    "obesity = cdi[cdi['Topic'] == \"Nutrition, Physical Activity, and Weight Status\"]"
   ]
  },
  {
   "cell_type": "code",
   "execution_count": 94,
   "metadata": {
    "colab": {
     "base_uri": "https://localhost:8080/",
     "height": 204
    },
    "executionInfo": {
     "elapsed": 5,
     "status": "ok",
     "timestamp": 1682395505122,
     "user": {
      "displayName": "Nandita Radhakrishnan",
      "userId": "10971545244259237440"
     },
     "user_tz": 420
    },
    "id": "PrPWDtgqiddR",
    "outputId": "c0e00acc-0fed-4aaf-a24c-090ac5140044"
   },
   "outputs": [
    {
     "data": {
      "text/html": [
       "\n",
       "  <div id=\"df-da4095a0-6c6b-435a-8020-3e7aa341bf1d\">\n",
       "    <div class=\"colab-df-container\">\n",
       "      <div>\n",
       "<style scoped>\n",
       "    .dataframe tbody tr th:only-of-type {\n",
       "        vertical-align: middle;\n",
       "    }\n",
       "\n",
       "    .dataframe tbody tr th {\n",
       "        vertical-align: top;\n",
       "    }\n",
       "\n",
       "    .dataframe thead th {\n",
       "        text-align: right;\n",
       "    }\n",
       "</style>\n",
       "<table border=\"1\" class=\"dataframe\">\n",
       "  <thead>\n",
       "    <tr style=\"text-align: right;\">\n",
       "      <th></th>\n",
       "      <th>YearStart</th>\n",
       "      <th>LocationAbbr</th>\n",
       "      <th>Topic</th>\n",
       "      <th>Question</th>\n",
       "      <th>Response</th>\n",
       "      <th>DataValueUnit</th>\n",
       "      <th>DataValueType</th>\n",
       "      <th>DataValue</th>\n",
       "      <th>DataValueAlt</th>\n",
       "      <th>StratificationCategory1</th>\n",
       "      <th>Stratification1</th>\n",
       "    </tr>\n",
       "  </thead>\n",
       "  <tbody>\n",
       "    <tr>\n",
       "      <th>532661</th>\n",
       "      <td>2017</td>\n",
       "      <td>AK</td>\n",
       "      <td>Diabetes</td>\n",
       "      <td>Prevalence of diagnosed diabetes among adults ...</td>\n",
       "      <td>NaN</td>\n",
       "      <td>%</td>\n",
       "      <td>Age-adjusted Prevalence</td>\n",
       "      <td>7.6</td>\n",
       "      <td>7.6</td>\n",
       "      <td>Overall</td>\n",
       "      <td>Overall</td>\n",
       "    </tr>\n",
       "    <tr>\n",
       "      <th>533691</th>\n",
       "      <td>2021</td>\n",
       "      <td>AK</td>\n",
       "      <td>Diabetes</td>\n",
       "      <td>Prevalence of diagnosed diabetes among adults ...</td>\n",
       "      <td>NaN</td>\n",
       "      <td>%</td>\n",
       "      <td>Age-adjusted Prevalence</td>\n",
       "      <td>8.0</td>\n",
       "      <td>8.0</td>\n",
       "      <td>Overall</td>\n",
       "      <td>Overall</td>\n",
       "    </tr>\n",
       "    <tr>\n",
       "      <th>534910</th>\n",
       "      <td>2015</td>\n",
       "      <td>AK</td>\n",
       "      <td>Diabetes</td>\n",
       "      <td>Prevalence of diagnosed diabetes among adults ...</td>\n",
       "      <td>NaN</td>\n",
       "      <td>%</td>\n",
       "      <td>Age-adjusted Prevalence</td>\n",
       "      <td>7.8</td>\n",
       "      <td>7.8</td>\n",
       "      <td>Overall</td>\n",
       "      <td>Overall</td>\n",
       "    </tr>\n",
       "    <tr>\n",
       "      <th>535562</th>\n",
       "      <td>2013</td>\n",
       "      <td>AK</td>\n",
       "      <td>Diabetes</td>\n",
       "      <td>Prevalence of diagnosed diabetes among adults ...</td>\n",
       "      <td>NaN</td>\n",
       "      <td>%</td>\n",
       "      <td>Age-adjusted Prevalence</td>\n",
       "      <td>7.3</td>\n",
       "      <td>7.3</td>\n",
       "      <td>Overall</td>\n",
       "      <td>Overall</td>\n",
       "    </tr>\n",
       "    <tr>\n",
       "      <th>535590</th>\n",
       "      <td>2011</td>\n",
       "      <td>AK</td>\n",
       "      <td>Diabetes</td>\n",
       "      <td>Prevalence of diagnosed diabetes among adults ...</td>\n",
       "      <td>NaN</td>\n",
       "      <td>%</td>\n",
       "      <td>Age-adjusted Prevalence</td>\n",
       "      <td>8.5</td>\n",
       "      <td>8.5</td>\n",
       "      <td>Overall</td>\n",
       "      <td>Overall</td>\n",
       "    </tr>\n",
       "  </tbody>\n",
       "</table>\n",
       "</div>\n",
       "      <button class=\"colab-df-convert\" onclick=\"convertToInteractive('df-da4095a0-6c6b-435a-8020-3e7aa341bf1d')\"\n",
       "              title=\"Convert this dataframe to an interactive table.\"\n",
       "              style=\"display:none;\">\n",
       "        \n",
       "  <svg xmlns=\"http://www.w3.org/2000/svg\" height=\"24px\"viewBox=\"0 0 24 24\"\n",
       "       width=\"24px\">\n",
       "    <path d=\"M0 0h24v24H0V0z\" fill=\"none\"/>\n",
       "    <path d=\"M18.56 5.44l.94 2.06.94-2.06 2.06-.94-2.06-.94-.94-2.06-.94 2.06-2.06.94zm-11 1L8.5 8.5l.94-2.06 2.06-.94-2.06-.94L8.5 2.5l-.94 2.06-2.06.94zm10 10l.94 2.06.94-2.06 2.06-.94-2.06-.94-.94-2.06-.94 2.06-2.06.94z\"/><path d=\"M17.41 7.96l-1.37-1.37c-.4-.4-.92-.59-1.43-.59-.52 0-1.04.2-1.43.59L10.3 9.45l-7.72 7.72c-.78.78-.78 2.05 0 2.83L4 21.41c.39.39.9.59 1.41.59.51 0 1.02-.2 1.41-.59l7.78-7.78 2.81-2.81c.8-.78.8-2.07 0-2.86zM5.41 20L4 18.59l7.72-7.72 1.47 1.35L5.41 20z\"/>\n",
       "  </svg>\n",
       "      </button>\n",
       "      \n",
       "  <style>\n",
       "    .colab-df-container {\n",
       "      display:flex;\n",
       "      flex-wrap:wrap;\n",
       "      gap: 12px;\n",
       "    }\n",
       "\n",
       "    .colab-df-convert {\n",
       "      background-color: #E8F0FE;\n",
       "      border: none;\n",
       "      border-radius: 50%;\n",
       "      cursor: pointer;\n",
       "      display: none;\n",
       "      fill: #1967D2;\n",
       "      height: 32px;\n",
       "      padding: 0 0 0 0;\n",
       "      width: 32px;\n",
       "    }\n",
       "\n",
       "    .colab-df-convert:hover {\n",
       "      background-color: #E2EBFA;\n",
       "      box-shadow: 0px 1px 2px rgba(60, 64, 67, 0.3), 0px 1px 3px 1px rgba(60, 64, 67, 0.15);\n",
       "      fill: #174EA6;\n",
       "    }\n",
       "\n",
       "    [theme=dark] .colab-df-convert {\n",
       "      background-color: #3B4455;\n",
       "      fill: #D2E3FC;\n",
       "    }\n",
       "\n",
       "    [theme=dark] .colab-df-convert:hover {\n",
       "      background-color: #434B5C;\n",
       "      box-shadow: 0px 1px 3px 1px rgba(0, 0, 0, 0.15);\n",
       "      filter: drop-shadow(0px 1px 2px rgba(0, 0, 0, 0.3));\n",
       "      fill: #FFFFFF;\n",
       "    }\n",
       "  </style>\n",
       "\n",
       "      <script>\n",
       "        const buttonEl =\n",
       "          document.querySelector('#df-da4095a0-6c6b-435a-8020-3e7aa341bf1d button.colab-df-convert');\n",
       "        buttonEl.style.display =\n",
       "          google.colab.kernel.accessAllowed ? 'block' : 'none';\n",
       "\n",
       "        async function convertToInteractive(key) {\n",
       "          const element = document.querySelector('#df-da4095a0-6c6b-435a-8020-3e7aa341bf1d');\n",
       "          const dataTable =\n",
       "            await google.colab.kernel.invokeFunction('convertToInteractive',\n",
       "                                                     [key], {});\n",
       "          if (!dataTable) return;\n",
       "\n",
       "          const docLinkHtml = 'Like what you see? Visit the ' +\n",
       "            '<a target=\"_blank\" href=https://colab.research.google.com/notebooks/data_table.ipynb>data table notebook</a>'\n",
       "            + ' to learn more about interactive tables.';\n",
       "          element.innerHTML = '';\n",
       "          dataTable['output_type'] = 'display_data';\n",
       "          await google.colab.output.renderOutput(dataTable, element);\n",
       "          const docLink = document.createElement('div');\n",
       "          docLink.innerHTML = docLinkHtml;\n",
       "          element.appendChild(docLink);\n",
       "        }\n",
       "      </script>\n",
       "    </div>\n",
       "  </div>\n",
       "  "
      ],
      "text/plain": [
       "        YearStart LocationAbbr     Topic  \\\n",
       "532661       2017           AK  Diabetes   \n",
       "533691       2021           AK  Diabetes   \n",
       "534910       2015           AK  Diabetes   \n",
       "535562       2013           AK  Diabetes   \n",
       "535590       2011           AK  Diabetes   \n",
       "\n",
       "                                                 Question  Response  \\\n",
       "532661  Prevalence of diagnosed diabetes among adults ...       NaN   \n",
       "533691  Prevalence of diagnosed diabetes among adults ...       NaN   \n",
       "534910  Prevalence of diagnosed diabetes among adults ...       NaN   \n",
       "535562  Prevalence of diagnosed diabetes among adults ...       NaN   \n",
       "535590  Prevalence of diagnosed diabetes among adults ...       NaN   \n",
       "\n",
       "       DataValueUnit            DataValueType DataValue  DataValueAlt  \\\n",
       "532661             %  Age-adjusted Prevalence       7.6           7.6   \n",
       "533691             %  Age-adjusted Prevalence       8.0           8.0   \n",
       "534910             %  Age-adjusted Prevalence       7.8           7.8   \n",
       "535562             %  Age-adjusted Prevalence       7.3           7.3   \n",
       "535590             %  Age-adjusted Prevalence       8.5           8.5   \n",
       "\n",
       "       StratificationCategory1 Stratification1  \n",
       "532661                 Overall         Overall  \n",
       "533691                 Overall         Overall  \n",
       "534910                 Overall         Overall  \n",
       "535562                 Overall         Overall  \n",
       "535590                 Overall         Overall  "
      ]
     },
     "execution_count": 94,
     "metadata": {},
     "output_type": "execute_result"
    }
   ],
   "source": [
    "diabetes = diabetes[diabetes[\"Question\"]== \"Prevalence of diagnosed diabetes among adults aged >= 18 years\"]\n",
    "diabetes = diabetes[diabetes[\"DataValueType\"]== \"Age-adjusted Prevalence\"]               \n",
    "diabetes = diabetes[diabetes[\"StratificationCategory1\"] == 'Overall']\n",
    "diabetes = diabetes[['YearStart', 'LocationAbbr', 'Topic', 'Question', 'Response', 'DataValueUnit', 'DataValueType', 'DataValue', 'DataValueAlt', 'StratificationCategory1', 'Stratification1']]\n",
    "diabetes.head()"
   ]
  },
  {
   "cell_type": "code",
   "execution_count": 98,
   "metadata": {
    "colab": {
     "base_uri": "https://localhost:8080/"
    },
    "executionInfo": {
     "elapsed": 139,
     "status": "ok",
     "timestamp": 1682395542741,
     "user": {
      "displayName": "Nandita Radhakrishnan",
      "userId": "10971545244259237440"
     },
     "user_tz": 420
    },
    "id": "oKhcVSUJkaKJ",
    "outputId": "d7038ac1-832a-48ab-cd91-4686937daebd"
   },
   "outputs": [
    {
     "data": {
      "text/plain": [
       "(605, 11)"
      ]
     },
     "execution_count": 98,
     "metadata": {},
     "output_type": "execute_result"
    }
   ],
   "source": [
    "\n",
    "diabetes.shape"
   ]
  },
  {
   "cell_type": "code",
   "execution_count": 82,
   "metadata": {
    "colab": {
     "base_uri": "https://localhost:8080/"
    },
    "executionInfo": {
     "elapsed": 120,
     "status": "ok",
     "timestamp": 1682395243507,
     "user": {
      "displayName": "Nandita Radhakrishnan",
      "userId": "10971545244259237440"
     },
     "user_tz": 420
    },
    "id": "JcCNS3pJkaRI",
    "outputId": "9e452779-b3c8-48ee-ca2c-57190be5c3b5"
   },
   "outputs": [
    {
     "data": {
      "text/plain": [
       "(605, 11)"
      ]
     },
     "execution_count": 82,
     "metadata": {},
     "output_type": "execute_result"
    }
   ],
   "source": []
  },
  {
   "cell_type": "code",
   "execution_count": 96,
   "metadata": {
    "colab": {
     "base_uri": "https://localhost:8080/",
     "height": 204
    },
    "executionInfo": {
     "elapsed": 253,
     "status": "ok",
     "timestamp": 1682395530373,
     "user": {
      "displayName": "Nandita Radhakrishnan",
      "userId": "10971545244259237440"
     },
     "user_tz": 420
    },
    "id": "SR0uJrhFkaTN",
    "outputId": "9c7bdd8f-a4fb-4a22-c37f-270ddd6fa312"
   },
   "outputs": [
    {
     "data": {
      "text/html": [
       "\n",
       "  <div id=\"df-07b99d36-57c7-463f-9f71-63b54ec27117\">\n",
       "    <div class=\"colab-df-container\">\n",
       "      <div>\n",
       "<style scoped>\n",
       "    .dataframe tbody tr th:only-of-type {\n",
       "        vertical-align: middle;\n",
       "    }\n",
       "\n",
       "    .dataframe tbody tr th {\n",
       "        vertical-align: top;\n",
       "    }\n",
       "\n",
       "    .dataframe thead th {\n",
       "        text-align: right;\n",
       "    }\n",
       "</style>\n",
       "<table border=\"1\" class=\"dataframe\">\n",
       "  <thead>\n",
       "    <tr style=\"text-align: right;\">\n",
       "      <th></th>\n",
       "      <th>YearStart</th>\n",
       "      <th>LocationAbbr</th>\n",
       "      <th>Topic</th>\n",
       "      <th>Question</th>\n",
       "      <th>Response</th>\n",
       "      <th>DataValueUnit</th>\n",
       "      <th>DataValueType</th>\n",
       "      <th>DataValue</th>\n",
       "      <th>DataValueAlt</th>\n",
       "      <th>StratificationCategory1</th>\n",
       "      <th>Stratification1</th>\n",
       "    </tr>\n",
       "  </thead>\n",
       "  <tbody>\n",
       "    <tr>\n",
       "      <th>530338</th>\n",
       "      <td>2021</td>\n",
       "      <td>AL</td>\n",
       "      <td>Nutrition, Physical Activity, and Weight Status</td>\n",
       "      <td>Obesity among adults aged &gt;= 18 years</td>\n",
       "      <td>NaN</td>\n",
       "      <td>%</td>\n",
       "      <td>Age-adjusted Prevalence</td>\n",
       "      <td>40.6</td>\n",
       "      <td>40.6</td>\n",
       "      <td>Overall</td>\n",
       "      <td>Overall</td>\n",
       "    </tr>\n",
       "    <tr>\n",
       "      <th>531125</th>\n",
       "      <td>2014</td>\n",
       "      <td>AK</td>\n",
       "      <td>Nutrition, Physical Activity, and Weight Status</td>\n",
       "      <td>Obesity among adults aged &gt;= 18 years</td>\n",
       "      <td>NaN</td>\n",
       "      <td>%</td>\n",
       "      <td>Age-adjusted Prevalence</td>\n",
       "      <td>29.8</td>\n",
       "      <td>29.8</td>\n",
       "      <td>Overall</td>\n",
       "      <td>Overall</td>\n",
       "    </tr>\n",
       "    <tr>\n",
       "      <th>531774</th>\n",
       "      <td>2018</td>\n",
       "      <td>AK</td>\n",
       "      <td>Nutrition, Physical Activity, and Weight Status</td>\n",
       "      <td>Obesity among adults aged &gt;= 18 years</td>\n",
       "      <td>NaN</td>\n",
       "      <td>%</td>\n",
       "      <td>Age-adjusted Prevalence</td>\n",
       "      <td>29.4</td>\n",
       "      <td>29.4</td>\n",
       "      <td>Overall</td>\n",
       "      <td>Overall</td>\n",
       "    </tr>\n",
       "    <tr>\n",
       "      <th>532132</th>\n",
       "      <td>2016</td>\n",
       "      <td>AK</td>\n",
       "      <td>Nutrition, Physical Activity, and Weight Status</td>\n",
       "      <td>Obesity among adults aged &gt;= 18 years</td>\n",
       "      <td>NaN</td>\n",
       "      <td>%</td>\n",
       "      <td>Age-adjusted Prevalence</td>\n",
       "      <td>32.2</td>\n",
       "      <td>32.2</td>\n",
       "      <td>Overall</td>\n",
       "      <td>Overall</td>\n",
       "    </tr>\n",
       "    <tr>\n",
       "      <th>532138</th>\n",
       "      <td>2020</td>\n",
       "      <td>AK</td>\n",
       "      <td>Nutrition, Physical Activity, and Weight Status</td>\n",
       "      <td>Obesity among adults aged &gt;= 18 years</td>\n",
       "      <td>NaN</td>\n",
       "      <td>%</td>\n",
       "      <td>Age-adjusted Prevalence</td>\n",
       "      <td>31.8</td>\n",
       "      <td>31.8</td>\n",
       "      <td>Overall</td>\n",
       "      <td>Overall</td>\n",
       "    </tr>\n",
       "  </tbody>\n",
       "</table>\n",
       "</div>\n",
       "      <button class=\"colab-df-convert\" onclick=\"convertToInteractive('df-07b99d36-57c7-463f-9f71-63b54ec27117')\"\n",
       "              title=\"Convert this dataframe to an interactive table.\"\n",
       "              style=\"display:none;\">\n",
       "        \n",
       "  <svg xmlns=\"http://www.w3.org/2000/svg\" height=\"24px\"viewBox=\"0 0 24 24\"\n",
       "       width=\"24px\">\n",
       "    <path d=\"M0 0h24v24H0V0z\" fill=\"none\"/>\n",
       "    <path d=\"M18.56 5.44l.94 2.06.94-2.06 2.06-.94-2.06-.94-.94-2.06-.94 2.06-2.06.94zm-11 1L8.5 8.5l.94-2.06 2.06-.94-2.06-.94L8.5 2.5l-.94 2.06-2.06.94zm10 10l.94 2.06.94-2.06 2.06-.94-2.06-.94-.94-2.06-.94 2.06-2.06.94z\"/><path d=\"M17.41 7.96l-1.37-1.37c-.4-.4-.92-.59-1.43-.59-.52 0-1.04.2-1.43.59L10.3 9.45l-7.72 7.72c-.78.78-.78 2.05 0 2.83L4 21.41c.39.39.9.59 1.41.59.51 0 1.02-.2 1.41-.59l7.78-7.78 2.81-2.81c.8-.78.8-2.07 0-2.86zM5.41 20L4 18.59l7.72-7.72 1.47 1.35L5.41 20z\"/>\n",
       "  </svg>\n",
       "      </button>\n",
       "      \n",
       "  <style>\n",
       "    .colab-df-container {\n",
       "      display:flex;\n",
       "      flex-wrap:wrap;\n",
       "      gap: 12px;\n",
       "    }\n",
       "\n",
       "    .colab-df-convert {\n",
       "      background-color: #E8F0FE;\n",
       "      border: none;\n",
       "      border-radius: 50%;\n",
       "      cursor: pointer;\n",
       "      display: none;\n",
       "      fill: #1967D2;\n",
       "      height: 32px;\n",
       "      padding: 0 0 0 0;\n",
       "      width: 32px;\n",
       "    }\n",
       "\n",
       "    .colab-df-convert:hover {\n",
       "      background-color: #E2EBFA;\n",
       "      box-shadow: 0px 1px 2px rgba(60, 64, 67, 0.3), 0px 1px 3px 1px rgba(60, 64, 67, 0.15);\n",
       "      fill: #174EA6;\n",
       "    }\n",
       "\n",
       "    [theme=dark] .colab-df-convert {\n",
       "      background-color: #3B4455;\n",
       "      fill: #D2E3FC;\n",
       "    }\n",
       "\n",
       "    [theme=dark] .colab-df-convert:hover {\n",
       "      background-color: #434B5C;\n",
       "      box-shadow: 0px 1px 3px 1px rgba(0, 0, 0, 0.15);\n",
       "      filter: drop-shadow(0px 1px 2px rgba(0, 0, 0, 0.3));\n",
       "      fill: #FFFFFF;\n",
       "    }\n",
       "  </style>\n",
       "\n",
       "      <script>\n",
       "        const buttonEl =\n",
       "          document.querySelector('#df-07b99d36-57c7-463f-9f71-63b54ec27117 button.colab-df-convert');\n",
       "        buttonEl.style.display =\n",
       "          google.colab.kernel.accessAllowed ? 'block' : 'none';\n",
       "\n",
       "        async function convertToInteractive(key) {\n",
       "          const element = document.querySelector('#df-07b99d36-57c7-463f-9f71-63b54ec27117');\n",
       "          const dataTable =\n",
       "            await google.colab.kernel.invokeFunction('convertToInteractive',\n",
       "                                                     [key], {});\n",
       "          if (!dataTable) return;\n",
       "\n",
       "          const docLinkHtml = 'Like what you see? Visit the ' +\n",
       "            '<a target=\"_blank\" href=https://colab.research.google.com/notebooks/data_table.ipynb>data table notebook</a>'\n",
       "            + ' to learn more about interactive tables.';\n",
       "          element.innerHTML = '';\n",
       "          dataTable['output_type'] = 'display_data';\n",
       "          await google.colab.output.renderOutput(dataTable, element);\n",
       "          const docLink = document.createElement('div');\n",
       "          docLink.innerHTML = docLinkHtml;\n",
       "          element.appendChild(docLink);\n",
       "        }\n",
       "      </script>\n",
       "    </div>\n",
       "  </div>\n",
       "  "
      ],
      "text/plain": [
       "        YearStart LocationAbbr  \\\n",
       "530338       2021           AL   \n",
       "531125       2014           AK   \n",
       "531774       2018           AK   \n",
       "532132       2016           AK   \n",
       "532138       2020           AK   \n",
       "\n",
       "                                                  Topic  \\\n",
       "530338  Nutrition, Physical Activity, and Weight Status   \n",
       "531125  Nutrition, Physical Activity, and Weight Status   \n",
       "531774  Nutrition, Physical Activity, and Weight Status   \n",
       "532132  Nutrition, Physical Activity, and Weight Status   \n",
       "532138  Nutrition, Physical Activity, and Weight Status   \n",
       "\n",
       "                                     Question  Response DataValueUnit  \\\n",
       "530338  Obesity among adults aged >= 18 years       NaN             %   \n",
       "531125  Obesity among adults aged >= 18 years       NaN             %   \n",
       "531774  Obesity among adults aged >= 18 years       NaN             %   \n",
       "532132  Obesity among adults aged >= 18 years       NaN             %   \n",
       "532138  Obesity among adults aged >= 18 years       NaN             %   \n",
       "\n",
       "                  DataValueType DataValue  DataValueAlt  \\\n",
       "530338  Age-adjusted Prevalence      40.6          40.6   \n",
       "531125  Age-adjusted Prevalence      29.8          29.8   \n",
       "531774  Age-adjusted Prevalence      29.4          29.4   \n",
       "532132  Age-adjusted Prevalence      32.2          32.2   \n",
       "532138  Age-adjusted Prevalence      31.8          31.8   \n",
       "\n",
       "       StratificationCategory1 Stratification1  \n",
       "530338                 Overall         Overall  \n",
       "531125                 Overall         Overall  \n",
       "531774                 Overall         Overall  \n",
       "532132                 Overall         Overall  \n",
       "532138                 Overall         Overall  "
      ]
     },
     "execution_count": 96,
     "metadata": {},
     "output_type": "execute_result"
    }
   ],
   "source": [
    "obesity = obesity[obesity[\"Question\"]==\"Obesity among adults aged >= 18 years\"]\n",
    "obesity = obesity[obesity[\"DataValueType\"]== \"Age-adjusted Prevalence\"]\n",
    "obesity = obesity[obesity[\"StratificationCategory1\"] == 'Overall']\n",
    "obesity = obesity[['YearStart', 'LocationAbbr', 'Topic', 'Question', 'Response', 'DataValueUnit', 'DataValueType', 'DataValue', 'DataValueAlt', 'StratificationCategory1', 'Stratification1']]\n",
    "obesity.head()"
   ]
  },
  {
   "cell_type": "code",
   "execution_count": 97,
   "metadata": {
    "colab": {
     "base_uri": "https://localhost:8080/"
    },
    "executionInfo": {
     "elapsed": 10,
     "status": "ok",
     "timestamp": 1682395535114,
     "user": {
      "displayName": "Nandita Radhakrishnan",
      "userId": "10971545244259237440"
     },
     "user_tz": 420
    },
    "id": "yAAW6AOKkaW_",
    "outputId": "f63be35d-9553-42d6-ef3c-8e9a10359b47"
   },
   "outputs": [
    {
     "data": {
      "text/plain": [
       "(605, 11)"
      ]
     },
     "execution_count": 97,
     "metadata": {},
     "output_type": "execute_result"
    }
   ],
   "source": [
    "obesity.shape"
   ]
  },
  {
   "cell_type": "code",
   "execution_count": 101,
   "metadata": {
    "executionInfo": {
     "elapsed": 149,
     "status": "ok",
     "timestamp": 1682395664921,
     "user": {
      "displayName": "Nandita Radhakrishnan",
      "userId": "10971545244259237440"
     },
     "user_tz": 420
    },
    "id": "hC9kLrthkaZF"
   },
   "outputs": [],
   "source": [
    "dia_obe = diabetes.merge(obesity, on=[\"YearStart\", \"LocationAbbr\"], how=\"inner\")"
   ]
  },
  {
   "cell_type": "code",
   "execution_count": 103,
   "metadata": {
    "colab": {
     "base_uri": "https://localhost:8080/",
     "height": 1000
    },
    "executionInfo": {
     "elapsed": 485,
     "status": "ok",
     "timestamp": 1682395678584,
     "user": {
      "displayName": "Nandita Radhakrishnan",
      "userId": "10971545244259237440"
     },
     "user_tz": 420
    },
    "id": "a3XjVxqjkabV",
    "outputId": "fade6dff-0b0f-458d-ff9b-8c7a9557a972"
   },
   "outputs": [
    {
     "data": {
      "text/html": [
       "\n",
       "  <div id=\"df-2ea58a93-5e61-4aac-b520-60e384f59c9f\">\n",
       "    <div class=\"colab-df-container\">\n",
       "      <div>\n",
       "<style scoped>\n",
       "    .dataframe tbody tr th:only-of-type {\n",
       "        vertical-align: middle;\n",
       "    }\n",
       "\n",
       "    .dataframe tbody tr th {\n",
       "        vertical-align: top;\n",
       "    }\n",
       "\n",
       "    .dataframe thead th {\n",
       "        text-align: right;\n",
       "    }\n",
       "</style>\n",
       "<table border=\"1\" class=\"dataframe\">\n",
       "  <thead>\n",
       "    <tr style=\"text-align: right;\">\n",
       "      <th></th>\n",
       "      <th>YearStart</th>\n",
       "      <th>LocationAbbr</th>\n",
       "      <th>Topic_x</th>\n",
       "      <th>Question_x</th>\n",
       "      <th>Response_x</th>\n",
       "      <th>DataValueUnit_x</th>\n",
       "      <th>DataValueType_x</th>\n",
       "      <th>DataValue_x</th>\n",
       "      <th>DataValueAlt_x</th>\n",
       "      <th>StratificationCategory1_x</th>\n",
       "      <th>Stratification1_x</th>\n",
       "      <th>Topic_y</th>\n",
       "      <th>Question_y</th>\n",
       "      <th>Response_y</th>\n",
       "      <th>DataValueUnit_y</th>\n",
       "      <th>DataValueType_y</th>\n",
       "      <th>DataValue_y</th>\n",
       "      <th>DataValueAlt_y</th>\n",
       "      <th>StratificationCategory1_y</th>\n",
       "      <th>Stratification1_y</th>\n",
       "    </tr>\n",
       "  </thead>\n",
       "  <tbody>\n",
       "    <tr>\n",
       "      <th>0</th>\n",
       "      <td>2017</td>\n",
       "      <td>AK</td>\n",
       "      <td>Diabetes</td>\n",
       "      <td>Prevalence of diagnosed diabetes among adults ...</td>\n",
       "      <td>NaN</td>\n",
       "      <td>%</td>\n",
       "      <td>Age-adjusted Prevalence</td>\n",
       "      <td>7.6</td>\n",
       "      <td>7.6</td>\n",
       "      <td>Overall</td>\n",
       "      <td>Overall</td>\n",
       "      <td>Nutrition, Physical Activity, and Weight Status</td>\n",
       "      <td>Obesity among adults aged &gt;= 18 years</td>\n",
       "      <td>NaN</td>\n",
       "      <td>%</td>\n",
       "      <td>Age-adjusted Prevalence</td>\n",
       "      <td>34.7</td>\n",
       "      <td>34.7</td>\n",
       "      <td>Overall</td>\n",
       "      <td>Overall</td>\n",
       "    </tr>\n",
       "    <tr>\n",
       "      <th>1</th>\n",
       "      <td>2021</td>\n",
       "      <td>AK</td>\n",
       "      <td>Diabetes</td>\n",
       "      <td>Prevalence of diagnosed diabetes among adults ...</td>\n",
       "      <td>NaN</td>\n",
       "      <td>%</td>\n",
       "      <td>Age-adjusted Prevalence</td>\n",
       "      <td>8.0</td>\n",
       "      <td>8.0</td>\n",
       "      <td>Overall</td>\n",
       "      <td>Overall</td>\n",
       "      <td>Nutrition, Physical Activity, and Weight Status</td>\n",
       "      <td>Obesity among adults aged &gt;= 18 years</td>\n",
       "      <td>NaN</td>\n",
       "      <td>%</td>\n",
       "      <td>Age-adjusted Prevalence</td>\n",
       "      <td>33.4</td>\n",
       "      <td>33.4</td>\n",
       "      <td>Overall</td>\n",
       "      <td>Overall</td>\n",
       "    </tr>\n",
       "    <tr>\n",
       "      <th>2</th>\n",
       "      <td>2015</td>\n",
       "      <td>AK</td>\n",
       "      <td>Diabetes</td>\n",
       "      <td>Prevalence of diagnosed diabetes among adults ...</td>\n",
       "      <td>NaN</td>\n",
       "      <td>%</td>\n",
       "      <td>Age-adjusted Prevalence</td>\n",
       "      <td>7.8</td>\n",
       "      <td>7.8</td>\n",
       "      <td>Overall</td>\n",
       "      <td>Overall</td>\n",
       "      <td>Nutrition, Physical Activity, and Weight Status</td>\n",
       "      <td>Obesity among adults aged &gt;= 18 years</td>\n",
       "      <td>NaN</td>\n",
       "      <td>%</td>\n",
       "      <td>Age-adjusted Prevalence</td>\n",
       "      <td>30.3</td>\n",
       "      <td>30.3</td>\n",
       "      <td>Overall</td>\n",
       "      <td>Overall</td>\n",
       "    </tr>\n",
       "    <tr>\n",
       "      <th>3</th>\n",
       "      <td>2013</td>\n",
       "      <td>AK</td>\n",
       "      <td>Diabetes</td>\n",
       "      <td>Prevalence of diagnosed diabetes among adults ...</td>\n",
       "      <td>NaN</td>\n",
       "      <td>%</td>\n",
       "      <td>Age-adjusted Prevalence</td>\n",
       "      <td>7.3</td>\n",
       "      <td>7.3</td>\n",
       "      <td>Overall</td>\n",
       "      <td>Overall</td>\n",
       "      <td>Nutrition, Physical Activity, and Weight Status</td>\n",
       "      <td>Obesity among adults aged &gt;= 18 years</td>\n",
       "      <td>NaN</td>\n",
       "      <td>%</td>\n",
       "      <td>Age-adjusted Prevalence</td>\n",
       "      <td>28.7</td>\n",
       "      <td>28.7</td>\n",
       "      <td>Overall</td>\n",
       "      <td>Overall</td>\n",
       "    </tr>\n",
       "    <tr>\n",
       "      <th>4</th>\n",
       "      <td>2011</td>\n",
       "      <td>AK</td>\n",
       "      <td>Diabetes</td>\n",
       "      <td>Prevalence of diagnosed diabetes among adults ...</td>\n",
       "      <td>NaN</td>\n",
       "      <td>%</td>\n",
       "      <td>Age-adjusted Prevalence</td>\n",
       "      <td>8.5</td>\n",
       "      <td>8.5</td>\n",
       "      <td>Overall</td>\n",
       "      <td>Overall</td>\n",
       "      <td>Nutrition, Physical Activity, and Weight Status</td>\n",
       "      <td>Obesity among adults aged &gt;= 18 years</td>\n",
       "      <td>NaN</td>\n",
       "      <td>%</td>\n",
       "      <td>Age-adjusted Prevalence</td>\n",
       "      <td>27.6</td>\n",
       "      <td>27.6</td>\n",
       "      <td>Overall</td>\n",
       "      <td>Overall</td>\n",
       "    </tr>\n",
       "    <tr>\n",
       "      <th>...</th>\n",
       "      <td>...</td>\n",
       "      <td>...</td>\n",
       "      <td>...</td>\n",
       "      <td>...</td>\n",
       "      <td>...</td>\n",
       "      <td>...</td>\n",
       "      <td>...</td>\n",
       "      <td>...</td>\n",
       "      <td>...</td>\n",
       "      <td>...</td>\n",
       "      <td>...</td>\n",
       "      <td>...</td>\n",
       "      <td>...</td>\n",
       "      <td>...</td>\n",
       "      <td>...</td>\n",
       "      <td>...</td>\n",
       "      <td>...</td>\n",
       "      <td>...</td>\n",
       "      <td>...</td>\n",
       "      <td>...</td>\n",
       "    </tr>\n",
       "    <tr>\n",
       "      <th>600</th>\n",
       "      <td>2016</td>\n",
       "      <td>WY</td>\n",
       "      <td>Diabetes</td>\n",
       "      <td>Prevalence of diagnosed diabetes among adults ...</td>\n",
       "      <td>NaN</td>\n",
       "      <td>%</td>\n",
       "      <td>Age-adjusted Prevalence</td>\n",
       "      <td>7.6</td>\n",
       "      <td>7.6</td>\n",
       "      <td>Overall</td>\n",
       "      <td>Overall</td>\n",
       "      <td>Nutrition, Physical Activity, and Weight Status</td>\n",
       "      <td>Obesity among adults aged &gt;= 18 years</td>\n",
       "      <td>NaN</td>\n",
       "      <td>%</td>\n",
       "      <td>Age-adjusted Prevalence</td>\n",
       "      <td>28.1</td>\n",
       "      <td>28.1</td>\n",
       "      <td>Overall</td>\n",
       "      <td>Overall</td>\n",
       "    </tr>\n",
       "    <tr>\n",
       "      <th>601</th>\n",
       "      <td>2021</td>\n",
       "      <td>WY</td>\n",
       "      <td>Diabetes</td>\n",
       "      <td>Prevalence of diagnosed diabetes among adults ...</td>\n",
       "      <td>NaN</td>\n",
       "      <td>%</td>\n",
       "      <td>Age-adjusted Prevalence</td>\n",
       "      <td>7.6</td>\n",
       "      <td>7.6</td>\n",
       "      <td>Overall</td>\n",
       "      <td>Overall</td>\n",
       "      <td>Nutrition, Physical Activity, and Weight Status</td>\n",
       "      <td>Obesity among adults aged &gt;= 18 years</td>\n",
       "      <td>NaN</td>\n",
       "      <td>%</td>\n",
       "      <td>Age-adjusted Prevalence</td>\n",
       "      <td>32.2</td>\n",
       "      <td>32.2</td>\n",
       "      <td>Overall</td>\n",
       "      <td>Overall</td>\n",
       "    </tr>\n",
       "    <tr>\n",
       "      <th>602</th>\n",
       "      <td>2018</td>\n",
       "      <td>WY</td>\n",
       "      <td>Diabetes</td>\n",
       "      <td>Prevalence of diagnosed diabetes among adults ...</td>\n",
       "      <td>NaN</td>\n",
       "      <td>%</td>\n",
       "      <td>Age-adjusted Prevalence</td>\n",
       "      <td>7.9</td>\n",
       "      <td>7.9</td>\n",
       "      <td>Overall</td>\n",
       "      <td>Overall</td>\n",
       "      <td>Nutrition, Physical Activity, and Weight Status</td>\n",
       "      <td>Obesity among adults aged &gt;= 18 years</td>\n",
       "      <td>NaN</td>\n",
       "      <td>%</td>\n",
       "      <td>Age-adjusted Prevalence</td>\n",
       "      <td>29.3</td>\n",
       "      <td>29.3</td>\n",
       "      <td>Overall</td>\n",
       "      <td>Overall</td>\n",
       "    </tr>\n",
       "    <tr>\n",
       "      <th>603</th>\n",
       "      <td>2014</td>\n",
       "      <td>WY</td>\n",
       "      <td>Diabetes</td>\n",
       "      <td>Prevalence of diagnosed diabetes among adults ...</td>\n",
       "      <td>NaN</td>\n",
       "      <td>%</td>\n",
       "      <td>Age-adjusted Prevalence</td>\n",
       "      <td>7.8</td>\n",
       "      <td>7.8</td>\n",
       "      <td>Overall</td>\n",
       "      <td>Overall</td>\n",
       "      <td>Nutrition, Physical Activity, and Weight Status</td>\n",
       "      <td>Obesity among adults aged &gt;= 18 years</td>\n",
       "      <td>NaN</td>\n",
       "      <td>%</td>\n",
       "      <td>Age-adjusted Prevalence</td>\n",
       "      <td>29.8</td>\n",
       "      <td>29.8</td>\n",
       "      <td>Overall</td>\n",
       "      <td>Overall</td>\n",
       "    </tr>\n",
       "    <tr>\n",
       "      <th>604</th>\n",
       "      <td>2020</td>\n",
       "      <td>WY</td>\n",
       "      <td>Diabetes</td>\n",
       "      <td>Prevalence of diagnosed diabetes among adults ...</td>\n",
       "      <td>NaN</td>\n",
       "      <td>%</td>\n",
       "      <td>Age-adjusted Prevalence</td>\n",
       "      <td>7.5</td>\n",
       "      <td>7.5</td>\n",
       "      <td>Overall</td>\n",
       "      <td>Overall</td>\n",
       "      <td>Nutrition, Physical Activity, and Weight Status</td>\n",
       "      <td>Obesity among adults aged &gt;= 18 years</td>\n",
       "      <td>NaN</td>\n",
       "      <td>%</td>\n",
       "      <td>Age-adjusted Prevalence</td>\n",
       "      <td>30.6</td>\n",
       "      <td>30.6</td>\n",
       "      <td>Overall</td>\n",
       "      <td>Overall</td>\n",
       "    </tr>\n",
       "  </tbody>\n",
       "</table>\n",
       "<p>605 rows × 20 columns</p>\n",
       "</div>\n",
       "      <button class=\"colab-df-convert\" onclick=\"convertToInteractive('df-2ea58a93-5e61-4aac-b520-60e384f59c9f')\"\n",
       "              title=\"Convert this dataframe to an interactive table.\"\n",
       "              style=\"display:none;\">\n",
       "        \n",
       "  <svg xmlns=\"http://www.w3.org/2000/svg\" height=\"24px\"viewBox=\"0 0 24 24\"\n",
       "       width=\"24px\">\n",
       "    <path d=\"M0 0h24v24H0V0z\" fill=\"none\"/>\n",
       "    <path d=\"M18.56 5.44l.94 2.06.94-2.06 2.06-.94-2.06-.94-.94-2.06-.94 2.06-2.06.94zm-11 1L8.5 8.5l.94-2.06 2.06-.94-2.06-.94L8.5 2.5l-.94 2.06-2.06.94zm10 10l.94 2.06.94-2.06 2.06-.94-2.06-.94-.94-2.06-.94 2.06-2.06.94z\"/><path d=\"M17.41 7.96l-1.37-1.37c-.4-.4-.92-.59-1.43-.59-.52 0-1.04.2-1.43.59L10.3 9.45l-7.72 7.72c-.78.78-.78 2.05 0 2.83L4 21.41c.39.39.9.59 1.41.59.51 0 1.02-.2 1.41-.59l7.78-7.78 2.81-2.81c.8-.78.8-2.07 0-2.86zM5.41 20L4 18.59l7.72-7.72 1.47 1.35L5.41 20z\"/>\n",
       "  </svg>\n",
       "      </button>\n",
       "      \n",
       "  <style>\n",
       "    .colab-df-container {\n",
       "      display:flex;\n",
       "      flex-wrap:wrap;\n",
       "      gap: 12px;\n",
       "    }\n",
       "\n",
       "    .colab-df-convert {\n",
       "      background-color: #E8F0FE;\n",
       "      border: none;\n",
       "      border-radius: 50%;\n",
       "      cursor: pointer;\n",
       "      display: none;\n",
       "      fill: #1967D2;\n",
       "      height: 32px;\n",
       "      padding: 0 0 0 0;\n",
       "      width: 32px;\n",
       "    }\n",
       "\n",
       "    .colab-df-convert:hover {\n",
       "      background-color: #E2EBFA;\n",
       "      box-shadow: 0px 1px 2px rgba(60, 64, 67, 0.3), 0px 1px 3px 1px rgba(60, 64, 67, 0.15);\n",
       "      fill: #174EA6;\n",
       "    }\n",
       "\n",
       "    [theme=dark] .colab-df-convert {\n",
       "      background-color: #3B4455;\n",
       "      fill: #D2E3FC;\n",
       "    }\n",
       "\n",
       "    [theme=dark] .colab-df-convert:hover {\n",
       "      background-color: #434B5C;\n",
       "      box-shadow: 0px 1px 3px 1px rgba(0, 0, 0, 0.15);\n",
       "      filter: drop-shadow(0px 1px 2px rgba(0, 0, 0, 0.3));\n",
       "      fill: #FFFFFF;\n",
       "    }\n",
       "  </style>\n",
       "\n",
       "      <script>\n",
       "        const buttonEl =\n",
       "          document.querySelector('#df-2ea58a93-5e61-4aac-b520-60e384f59c9f button.colab-df-convert');\n",
       "        buttonEl.style.display =\n",
       "          google.colab.kernel.accessAllowed ? 'block' : 'none';\n",
       "\n",
       "        async function convertToInteractive(key) {\n",
       "          const element = document.querySelector('#df-2ea58a93-5e61-4aac-b520-60e384f59c9f');\n",
       "          const dataTable =\n",
       "            await google.colab.kernel.invokeFunction('convertToInteractive',\n",
       "                                                     [key], {});\n",
       "          if (!dataTable) return;\n",
       "\n",
       "          const docLinkHtml = 'Like what you see? Visit the ' +\n",
       "            '<a target=\"_blank\" href=https://colab.research.google.com/notebooks/data_table.ipynb>data table notebook</a>'\n",
       "            + ' to learn more about interactive tables.';\n",
       "          element.innerHTML = '';\n",
       "          dataTable['output_type'] = 'display_data';\n",
       "          await google.colab.output.renderOutput(dataTable, element);\n",
       "          const docLink = document.createElement('div');\n",
       "          docLink.innerHTML = docLinkHtml;\n",
       "          element.appendChild(docLink);\n",
       "        }\n",
       "      </script>\n",
       "    </div>\n",
       "  </div>\n",
       "  "
      ],
      "text/plain": [
       "     YearStart LocationAbbr   Topic_x  \\\n",
       "0         2017           AK  Diabetes   \n",
       "1         2021           AK  Diabetes   \n",
       "2         2015           AK  Diabetes   \n",
       "3         2013           AK  Diabetes   \n",
       "4         2011           AK  Diabetes   \n",
       "..         ...          ...       ...   \n",
       "600       2016           WY  Diabetes   \n",
       "601       2021           WY  Diabetes   \n",
       "602       2018           WY  Diabetes   \n",
       "603       2014           WY  Diabetes   \n",
       "604       2020           WY  Diabetes   \n",
       "\n",
       "                                            Question_x  Response_x  \\\n",
       "0    Prevalence of diagnosed diabetes among adults ...         NaN   \n",
       "1    Prevalence of diagnosed diabetes among adults ...         NaN   \n",
       "2    Prevalence of diagnosed diabetes among adults ...         NaN   \n",
       "3    Prevalence of diagnosed diabetes among adults ...         NaN   \n",
       "4    Prevalence of diagnosed diabetes among adults ...         NaN   \n",
       "..                                                 ...         ...   \n",
       "600  Prevalence of diagnosed diabetes among adults ...         NaN   \n",
       "601  Prevalence of diagnosed diabetes among adults ...         NaN   \n",
       "602  Prevalence of diagnosed diabetes among adults ...         NaN   \n",
       "603  Prevalence of diagnosed diabetes among adults ...         NaN   \n",
       "604  Prevalence of diagnosed diabetes among adults ...         NaN   \n",
       "\n",
       "    DataValueUnit_x          DataValueType_x DataValue_x  DataValueAlt_x  \\\n",
       "0                 %  Age-adjusted Prevalence         7.6             7.6   \n",
       "1                 %  Age-adjusted Prevalence         8.0             8.0   \n",
       "2                 %  Age-adjusted Prevalence         7.8             7.8   \n",
       "3                 %  Age-adjusted Prevalence         7.3             7.3   \n",
       "4                 %  Age-adjusted Prevalence         8.5             8.5   \n",
       "..              ...                      ...         ...             ...   \n",
       "600               %  Age-adjusted Prevalence         7.6             7.6   \n",
       "601               %  Age-adjusted Prevalence         7.6             7.6   \n",
       "602               %  Age-adjusted Prevalence         7.9             7.9   \n",
       "603               %  Age-adjusted Prevalence         7.8             7.8   \n",
       "604               %  Age-adjusted Prevalence         7.5             7.5   \n",
       "\n",
       "    StratificationCategory1_x Stratification1_x  \\\n",
       "0                     Overall           Overall   \n",
       "1                     Overall           Overall   \n",
       "2                     Overall           Overall   \n",
       "3                     Overall           Overall   \n",
       "4                     Overall           Overall   \n",
       "..                        ...               ...   \n",
       "600                   Overall           Overall   \n",
       "601                   Overall           Overall   \n",
       "602                   Overall           Overall   \n",
       "603                   Overall           Overall   \n",
       "604                   Overall           Overall   \n",
       "\n",
       "                                             Topic_y  \\\n",
       "0    Nutrition, Physical Activity, and Weight Status   \n",
       "1    Nutrition, Physical Activity, and Weight Status   \n",
       "2    Nutrition, Physical Activity, and Weight Status   \n",
       "3    Nutrition, Physical Activity, and Weight Status   \n",
       "4    Nutrition, Physical Activity, and Weight Status   \n",
       "..                                               ...   \n",
       "600  Nutrition, Physical Activity, and Weight Status   \n",
       "601  Nutrition, Physical Activity, and Weight Status   \n",
       "602  Nutrition, Physical Activity, and Weight Status   \n",
       "603  Nutrition, Physical Activity, and Weight Status   \n",
       "604  Nutrition, Physical Activity, and Weight Status   \n",
       "\n",
       "                                Question_y  Response_y DataValueUnit_y  \\\n",
       "0    Obesity among adults aged >= 18 years         NaN               %   \n",
       "1    Obesity among adults aged >= 18 years         NaN               %   \n",
       "2    Obesity among adults aged >= 18 years         NaN               %   \n",
       "3    Obesity among adults aged >= 18 years         NaN               %   \n",
       "4    Obesity among adults aged >= 18 years         NaN               %   \n",
       "..                                     ...         ...             ...   \n",
       "600  Obesity among adults aged >= 18 years         NaN               %   \n",
       "601  Obesity among adults aged >= 18 years         NaN               %   \n",
       "602  Obesity among adults aged >= 18 years         NaN               %   \n",
       "603  Obesity among adults aged >= 18 years         NaN               %   \n",
       "604  Obesity among adults aged >= 18 years         NaN               %   \n",
       "\n",
       "             DataValueType_y DataValue_y  DataValueAlt_y  \\\n",
       "0    Age-adjusted Prevalence        34.7            34.7   \n",
       "1    Age-adjusted Prevalence        33.4            33.4   \n",
       "2    Age-adjusted Prevalence        30.3            30.3   \n",
       "3    Age-adjusted Prevalence        28.7            28.7   \n",
       "4    Age-adjusted Prevalence        27.6            27.6   \n",
       "..                       ...         ...             ...   \n",
       "600  Age-adjusted Prevalence        28.1            28.1   \n",
       "601  Age-adjusted Prevalence        32.2            32.2   \n",
       "602  Age-adjusted Prevalence        29.3            29.3   \n",
       "603  Age-adjusted Prevalence        29.8            29.8   \n",
       "604  Age-adjusted Prevalence        30.6            30.6   \n",
       "\n",
       "    StratificationCategory1_y Stratification1_y  \n",
       "0                     Overall           Overall  \n",
       "1                     Overall           Overall  \n",
       "2                     Overall           Overall  \n",
       "3                     Overall           Overall  \n",
       "4                     Overall           Overall  \n",
       "..                        ...               ...  \n",
       "600                   Overall           Overall  \n",
       "601                   Overall           Overall  \n",
       "602                   Overall           Overall  \n",
       "603                   Overall           Overall  \n",
       "604                   Overall           Overall  \n",
       "\n",
       "[605 rows x 20 columns]"
      ]
     },
     "execution_count": 103,
     "metadata": {},
     "output_type": "execute_result"
    }
   ],
   "source": [
    "dia_obe"
   ]
  },
  {
   "cell_type": "code",
   "execution_count": 107,
   "metadata": {
    "colab": {
     "base_uri": "https://localhost:8080/",
     "height": 489
    },
    "executionInfo": {
     "elapsed": 1127,
     "status": "ok",
     "timestamp": 1682396064769,
     "user": {
      "displayName": "Nandita Radhakrishnan",
      "userId": "10971545244259237440"
     },
     "user_tz": 420
    },
    "id": "1E54oGQAkadu",
    "outputId": "807eba3d-592d-4835-f8bb-ffe8ce81969a"
   },
   "outputs": [
    {
     "data": {
      "text/plain": [
       "Text(0.5, 1.0, 'Correlation between Obesity Prevalence and Diabetes Prevalence')"
      ]
     },
     "execution_count": 107,
     "metadata": {},
     "output_type": "execute_result"
    },
    {
     "data": {
      "image/png": "[encoded data removed]",
      "text/plain": [
       "<Figure size 640x480 with 1 Axes>"
      ]
     },
     "metadata": {},
     "output_type": "display_data"
    }
   ],
   "source": [
    "sns.regplot(data=dia_obe, y=\"DataValueAlt_x\", x=\"DataValueAlt_y\")\n",
    "plt.xlabel(\"Obesity prevalence(age-adjusted) > 18 years\")\n",
    "plt.ylabel(\"Diabetes prevalence(age-adjusted) > 18 years\")\n",
    "plt.title(\"Correlation between Obesity Prevalence and Diabetes Prevalence\")"
   ]
  },
  {
   "cell_type": "code",
   "execution_count": null,
   "metadata": {
    "id": "95QgZ5zykagI"
   },
   "outputs": [],
   "source": []
  },
  {
   "cell_type": "code",
   "execution_count": null,
   "metadata": {
    "id": "nZ7PUpafkaiw"
   },
   "outputs": [],
   "source": []
  },
  {
   "cell_type": "code",
   "execution_count": 7,
   "metadata": {
    "executionInfo": {
     "elapsed": 5,
     "status": "ok",
     "timestamp": 1682387415950,
     "user": {
      "displayName": "Nandita Radhakrishnan",
      "userId": "10971545244259237440"
     },
     "user_tz": 420
    },
    "id": "y0UVPnRlSsCj"
   },
   "outputs": [],
   "source": [
    "copd = cdi[cdi['Topic'] == \"Chronic Obstructive Pulmonary Disease\"]\n",
    "asthma = cdi[cdi['Topic'] == \"Asthma\"]\n",
    "alcohol = cdi[cdi['Topic'] == \"Alcohol\"]"
   ]
  },
  {
   "cell_type": "code",
   "execution_count": 10,
   "metadata": {
    "colab": {
     "base_uri": "https://localhost:8080/"
    },
    "executionInfo": {
     "elapsed": 159,
     "status": "ok",
     "timestamp": 1682387493025,
     "user": {
      "displayName": "Nandita Radhakrishnan",
      "userId": "10971545244259237440"
     },
     "user_tz": 420
    },
    "id": "hWxZfmkFG8C7",
    "outputId": "93eaa711-ae40-42eb-a727-0c1558273674"
   },
   "outputs": [
    {
     "data": {
      "text/plain": [
       "YearStart                      int64\n",
       "YearEnd                        int64\n",
       "LocationAbbr                  object\n",
       "LocationDesc                  object\n",
       "DataSource                    object\n",
       "Topic                         object\n",
       "Question                      object\n",
       "Response                     float64\n",
       "DataValueUnit                 object\n",
       "DataValueType                 object\n",
       "DataValue                     object\n",
       "DataValueAlt                 float64\n",
       "DataValueFootnoteSymbol       object\n",
       "DatavalueFootnote             object\n",
       "LowConfidenceLimit           float64\n",
       "HighConfidenceLimit          float64\n",
       "StratificationCategory1       object\n",
       "Stratification1               object\n",
       "StratificationCategory2      float64\n",
       "Stratification2              float64\n",
       "StratificationCategory3      float64\n",
       "Stratification3              float64\n",
       "GeoLocation                   object\n",
       "ResponseID                   float64\n",
       "LocationID                     int64\n",
       "TopicID                       object\n",
       "QuestionID                    object\n",
       "DataValueTypeID               object\n",
       "StratificationCategoryID1     object\n",
       "StratificationID1             object\n",
       "StratificationCategoryID2    float64\n",
       "StratificationID2            float64\n",
       "StratificationCategoryID3    float64\n",
       "StratificationID3            float64\n",
       "dtype: object"
      ]
     },
     "execution_count": 10,
     "metadata": {},
     "output_type": "execute_result"
    }
   ],
   "source": [
    "copd.dtypes"
   ]
  },
  {
   "cell_type": "code",
   "execution_count": 8,
   "metadata": {
    "colab": {
     "base_uri": "https://localhost:8080/"
    },
    "executionInfo": {
     "elapsed": 211,
     "status": "ok",
     "timestamp": 1682387431604,
     "user": {
      "displayName": "Nandita Radhakrishnan",
      "userId": "10971545244259237440"
     },
     "user_tz": 420
    },
    "id": "fKE_311w1Jqn",
    "outputId": "a90d0333-898a-4bc3-b2e0-b966ad582c4e"
   },
   "outputs": [
    {
     "data": {
      "text/plain": [
       "2015    17103\n",
       "2014    17103\n",
       "2016    17046\n",
       "2017    15354\n",
       "2018    15354\n",
       "2013    14016\n",
       "2011    11910\n",
       "2012    11910\n",
       "2020    10170\n",
       "2019    10170\n",
       "2010     7518\n",
       "2021     5220\n",
       "Name: YearStart, dtype: int64"
      ]
     },
     "execution_count": 8,
     "metadata": {},
     "output_type": "execute_result"
    }
   ],
   "source": [
    "copd[\"YearStart\"].value_counts()"
   ]
  },
  {
   "cell_type": "code",
   "execution_count": 11,
   "metadata": {
    "executionInfo": {
     "elapsed": 124,
     "status": "ok",
     "timestamp": 1682387505258,
     "user": {
      "displayName": "Nandita Radhakrishnan",
      "userId": "10971545244259237440"
     },
     "user_tz": 420
    },
    "id": "4y2aJFr_G1CA"
   },
   "outputs": [],
   "source": [
    "copd_2014 = copd[copd['YearStart'] == 2014]"
   ]
  },
  {
   "cell_type": "code",
   "execution_count": 12,
   "metadata": {
    "colab": {
     "base_uri": "https://localhost:8080/"
    },
    "executionInfo": {
     "elapsed": 119,
     "status": "ok",
     "timestamp": 1682387511433,
     "user": {
      "displayName": "Nandita Radhakrishnan",
      "userId": "10971545244259237440"
     },
     "user_tz": 420
    },
    "id": "rneTgiuaSsFZ",
    "outputId": "e48c86e3-7112-4452-c021-09cfa24d99c4"
   },
   "outputs": [
    {
     "data": {
      "text/plain": [
       "array(['Hospitalization for chronic obstructive pulmonary disease as any diagnosis',\n",
       "       'Mortality with chronic obstructive pulmonary disease as underlying cause among adults aged >= 45 years',\n",
       "       'Mortality with chronic obstructive pulmonary disease as underlying or contributing cause among adults aged >= 45 years',\n",
       "       'Hospitalization for chronic obstructive pulmonary disease as first-listed diagnosis',\n",
       "       'Hospitalization for chronic obstructive pulmonary disease as first-listed diagnosis among Medicare-eligible persons aged >= 65 years',\n",
       "       'Emergency department visit rate for chronic obstructive pulmonary disease as first-listed diagnosis',\n",
       "       'Hospitalization for chronic obstructive pulmonary disease as any diagnosis among Medicare-eligible persons aged >= 65 years',\n",
       "       'Emergency department visit rate for chronic obstructive pulmonary disease as any diagnosis',\n",
       "       'Prevalence of chronic obstructive pulmonary disease among adults >= 45 years',\n",
       "       'Prevalence of activity limitation among adults >= 18 with diagnosed chronic obstructive pulmonary disease',\n",
       "       'Pneumococcal vaccination among noninstitutionalized adults aged >= 45 years with chronic obstructive pulmonary disease',\n",
       "       'Influenza vaccination among noninstitutionalized adults aged >= 45 years with chronic obstructive pulmonary disease',\n",
       "       'Prevalence of chronic obstructive pulmonary disease among adults >= 18',\n",
       "       'Prevalence of current smoking among adults >= 45 years with diagnosed chronic obstructive pulmonary disease',\n",
       "       'Prevalence of current smoking among adults >= 18 with diagnosed chronic obstructive pulmonary disease',\n",
       "       'Prevalence of activity limitation among adults >= 45 years with diagnosed chronic obstructive pulmonary disease'],\n",
       "      dtype=object)"
      ]
     },
     "execution_count": 12,
     "metadata": {},
     "output_type": "execute_result"
    }
   ],
   "source": [
    "copd_2014['Question'].unique()"
   ]
  },
  {
   "cell_type": "code",
   "execution_count": 13,
   "metadata": {
    "executionInfo": {
     "elapsed": 209,
     "status": "ok",
     "timestamp": 1682387654640,
     "user": {
      "displayName": "Nandita Radhakrishnan",
      "userId": "10971545244259237440"
     },
     "user_tz": 420
    },
    "id": "dzSEhbI4HSHp"
   },
   "outputs": [],
   "source": [
    "copd_2014_prevalence = copd_2014[copd_2014['Question'] == 'Prevalence of chronic obstructive pulmonary disease among adults >= 18']"
   ]
  },
  {
   "cell_type": "code",
   "execution_count": 16,
   "metadata": {
    "colab": {
     "base_uri": "https://localhost:8080/"
    },
    "executionInfo": {
     "elapsed": 216,
     "status": "ok",
     "timestamp": 1682387808132,
     "user": {
      "displayName": "Nandita Radhakrishnan",
      "userId": "10971545244259237440"
     },
     "user_tz": 420
    },
    "id": "fg42Okd7HiJO",
    "outputId": "0dfe7cdd-39d4-4996-b672-ee42cdb825e0"
   },
   "outputs": [
    {
     "data": {
      "text/plain": [
       "(870, 34)"
      ]
     },
     "execution_count": 16,
     "metadata": {},
     "output_type": "execute_result"
    }
   ],
   "source": [
    "copd_2014_prevalence.shape"
   ]
  },
  {
   "cell_type": "code",
   "execution_count": 18,
   "metadata": {
    "executionInfo": {
     "elapsed": 127,
     "status": "ok",
     "timestamp": 1682387876999,
     "user": {
      "displayName": "Nandita Radhakrishnan",
      "userId": "10971545244259237440"
     },
     "user_tz": 420
    },
    "id": "q4nhlDY7HiMS"
   },
   "outputs": [],
   "source": [
    "copd_2014_prevalence = copd_2014_prevalence[copd_2014_prevalence[\"DataValueType\"] == 'Age-adjusted Prevalence']"
   ]
  },
  {
   "cell_type": "code",
   "execution_count": 19,
   "metadata": {
    "colab": {
     "base_uri": "https://localhost:8080/"
    },
    "executionInfo": {
     "elapsed": 130,
     "status": "ok",
     "timestamp": 1682387884170,
     "user": {
      "displayName": "Nandita Radhakrishnan",
      "userId": "10971545244259237440"
     },
     "user_tz": 420
    },
    "id": "J6T89xnTHiO-",
    "outputId": "81873172-7750-4627-d996-150b0b657a06"
   },
   "outputs": [
    {
     "data": {
      "text/plain": [
       "(435, 34)"
      ]
     },
     "execution_count": 19,
     "metadata": {},
     "output_type": "execute_result"
    }
   ],
   "source": [
    "copd_2014_prevalence.shape"
   ]
  },
  {
   "cell_type": "code",
   "execution_count": 20,
   "metadata": {
    "colab": {
     "base_uri": "https://localhost:8080/",
     "height": 637
    },
    "executionInfo": {
     "elapsed": 197,
     "status": "ok",
     "timestamp": 1682387897874,
     "user": {
      "displayName": "Nandita Radhakrishnan",
      "userId": "10971545244259237440"
     },
     "user_tz": 420
    },
    "id": "Df1fP41LHiRl",
    "outputId": "1138e82d-2478-4f6b-db21-4ae4f241cb0c"
   },
   "outputs": [
    {
     "data": {
      "text/html": [
       "\n",
       "  <div id=\"df-1e9fb8bf-064d-4cfe-87af-0a3c035a0d23\">\n",
       "    <div class=\"colab-df-container\">\n",
       "      <div>\n",
       "<style scoped>\n",
       "    .dataframe tbody tr th:only-of-type {\n",
       "        vertical-align: middle;\n",
       "    }\n",
       "\n",
       "    .dataframe tbody tr th {\n",
       "        vertical-align: top;\n",
       "    }\n",
       "\n",
       "    .dataframe thead th {\n",
       "        text-align: right;\n",
       "    }\n",
       "</style>\n",
       "<table border=\"1\" class=\"dataframe\">\n",
       "  <thead>\n",
       "    <tr style=\"text-align: right;\">\n",
       "      <th></th>\n",
       "      <th>YearStart</th>\n",
       "      <th>YearEnd</th>\n",
       "      <th>LocationAbbr</th>\n",
       "      <th>LocationDesc</th>\n",
       "      <th>DataSource</th>\n",
       "      <th>Topic</th>\n",
       "      <th>Question</th>\n",
       "      <th>Response</th>\n",
       "      <th>DataValueUnit</th>\n",
       "      <th>DataValueType</th>\n",
       "      <th>...</th>\n",
       "      <th>LocationID</th>\n",
       "      <th>TopicID</th>\n",
       "      <th>QuestionID</th>\n",
       "      <th>DataValueTypeID</th>\n",
       "      <th>StratificationCategoryID1</th>\n",
       "      <th>StratificationID1</th>\n",
       "      <th>StratificationCategoryID2</th>\n",
       "      <th>StratificationID2</th>\n",
       "      <th>StratificationCategoryID3</th>\n",
       "      <th>StratificationID3</th>\n",
       "    </tr>\n",
       "  </thead>\n",
       "  <tbody>\n",
       "    <tr>\n",
       "      <th>530418</th>\n",
       "      <td>2014</td>\n",
       "      <td>2014</td>\n",
       "      <td>AK</td>\n",
       "      <td>Alaska</td>\n",
       "      <td>BRFSS</td>\n",
       "      <td>Chronic Obstructive Pulmonary Disease</td>\n",
       "      <td>Prevalence of chronic obstructive pulmonary di...</td>\n",
       "      <td>NaN</td>\n",
       "      <td>%</td>\n",
       "      <td>Age-adjusted Prevalence</td>\n",
       "      <td>...</td>\n",
       "      <td>2</td>\n",
       "      <td>COPD</td>\n",
       "      <td>COPD2_0</td>\n",
       "      <td>AGEADJPREV</td>\n",
       "      <td>GENDER</td>\n",
       "      <td>GENM</td>\n",
       "      <td>NaN</td>\n",
       "      <td>NaN</td>\n",
       "      <td>NaN</td>\n",
       "      <td>NaN</td>\n",
       "    </tr>\n",
       "    <tr>\n",
       "      <th>533823</th>\n",
       "      <td>2014</td>\n",
       "      <td>2014</td>\n",
       "      <td>AK</td>\n",
       "      <td>Alaska</td>\n",
       "      <td>BRFSS</td>\n",
       "      <td>Chronic Obstructive Pulmonary Disease</td>\n",
       "      <td>Prevalence of chronic obstructive pulmonary di...</td>\n",
       "      <td>NaN</td>\n",
       "      <td>%</td>\n",
       "      <td>Age-adjusted Prevalence</td>\n",
       "      <td>...</td>\n",
       "      <td>2</td>\n",
       "      <td>COPD</td>\n",
       "      <td>COPD2_0</td>\n",
       "      <td>AGEADJPREV</td>\n",
       "      <td>RACE</td>\n",
       "      <td>BLK</td>\n",
       "      <td>NaN</td>\n",
       "      <td>NaN</td>\n",
       "      <td>NaN</td>\n",
       "      <td>NaN</td>\n",
       "    </tr>\n",
       "    <tr>\n",
       "      <th>534113</th>\n",
       "      <td>2014</td>\n",
       "      <td>2014</td>\n",
       "      <td>AK</td>\n",
       "      <td>Alaska</td>\n",
       "      <td>BRFSS</td>\n",
       "      <td>Chronic Obstructive Pulmonary Disease</td>\n",
       "      <td>Prevalence of chronic obstructive pulmonary di...</td>\n",
       "      <td>NaN</td>\n",
       "      <td>%</td>\n",
       "      <td>Age-adjusted Prevalence</td>\n",
       "      <td>...</td>\n",
       "      <td>2</td>\n",
       "      <td>COPD</td>\n",
       "      <td>COPD2_0</td>\n",
       "      <td>AGEADJPREV</td>\n",
       "      <td>RACE</td>\n",
       "      <td>HIS</td>\n",
       "      <td>NaN</td>\n",
       "      <td>NaN</td>\n",
       "      <td>NaN</td>\n",
       "      <td>NaN</td>\n",
       "    </tr>\n",
       "    <tr>\n",
       "      <th>535743</th>\n",
       "      <td>2014</td>\n",
       "      <td>2014</td>\n",
       "      <td>AK</td>\n",
       "      <td>Alaska</td>\n",
       "      <td>BRFSS</td>\n",
       "      <td>Chronic Obstructive Pulmonary Disease</td>\n",
       "      <td>Prevalence of chronic obstructive pulmonary di...</td>\n",
       "      <td>NaN</td>\n",
       "      <td>%</td>\n",
       "      <td>Age-adjusted Prevalence</td>\n",
       "      <td>...</td>\n",
       "      <td>2</td>\n",
       "      <td>COPD</td>\n",
       "      <td>COPD2_0</td>\n",
       "      <td>AGEADJPREV</td>\n",
       "      <td>OVERALL</td>\n",
       "      <td>OVR</td>\n",
       "      <td>NaN</td>\n",
       "      <td>NaN</td>\n",
       "      <td>NaN</td>\n",
       "      <td>NaN</td>\n",
       "    </tr>\n",
       "    <tr>\n",
       "      <th>536507</th>\n",
       "      <td>2014</td>\n",
       "      <td>2014</td>\n",
       "      <td>AK</td>\n",
       "      <td>Alaska</td>\n",
       "      <td>BRFSS</td>\n",
       "      <td>Chronic Obstructive Pulmonary Disease</td>\n",
       "      <td>Prevalence of chronic obstructive pulmonary di...</td>\n",
       "      <td>NaN</td>\n",
       "      <td>%</td>\n",
       "      <td>Age-adjusted Prevalence</td>\n",
       "      <td>...</td>\n",
       "      <td>2</td>\n",
       "      <td>COPD</td>\n",
       "      <td>COPD2_0</td>\n",
       "      <td>AGEADJPREV</td>\n",
       "      <td>RACE</td>\n",
       "      <td>MRC</td>\n",
       "      <td>NaN</td>\n",
       "      <td>NaN</td>\n",
       "      <td>NaN</td>\n",
       "      <td>NaN</td>\n",
       "    </tr>\n",
       "  </tbody>\n",
       "</table>\n",
       "<p>5 rows × 34 columns</p>\n",
       "</div>\n",
       "      <button class=\"colab-df-convert\" onclick=\"convertToInteractive('df-1e9fb8bf-064d-4cfe-87af-0a3c035a0d23')\"\n",
       "              title=\"Convert this dataframe to an interactive table.\"\n",
       "              style=\"display:none;\">\n",
       "        \n",
       "  <svg xmlns=\"http://www.w3.org/2000/svg\" height=\"24px\"viewBox=\"0 0 24 24\"\n",
       "       width=\"24px\">\n",
       "    <path d=\"M0 0h24v24H0V0z\" fill=\"none\"/>\n",
       "    <path d=\"M18.56 5.44l.94 2.06.94-2.06 2.06-.94-2.06-.94-.94-2.06-.94 2.06-2.06.94zm-11 1L8.5 8.5l.94-2.06 2.06-.94-2.06-.94L8.5 2.5l-.94 2.06-2.06.94zm10 10l.94 2.06.94-2.06 2.06-.94-2.06-.94-.94-2.06-.94 2.06-2.06.94z\"/><path d=\"M17.41 7.96l-1.37-1.37c-.4-.4-.92-.59-1.43-.59-.52 0-1.04.2-1.43.59L10.3 9.45l-7.72 7.72c-.78.78-.78 2.05 0 2.83L4 21.41c.39.39.9.59 1.41.59.51 0 1.02-.2 1.41-.59l7.78-7.78 2.81-2.81c.8-.78.8-2.07 0-2.86zM5.41 20L4 18.59l7.72-7.72 1.47 1.35L5.41 20z\"/>\n",
       "  </svg>\n",
       "      </button>\n",
       "      \n",
       "  <style>\n",
       "    .colab-df-container {\n",
       "      display:flex;\n",
       "      flex-wrap:wrap;\n",
       "      gap: 12px;\n",
       "    }\n",
       "\n",
       "    .colab-df-convert {\n",
       "      background-color: #E8F0FE;\n",
       "      border: none;\n",
       "      border-radius: 50%;\n",
       "      cursor: pointer;\n",
       "      display: none;\n",
       "      fill: #1967D2;\n",
       "      height: 32px;\n",
       "      padding: 0 0 0 0;\n",
       "      width: 32px;\n",
       "    }\n",
       "\n",
       "    .colab-df-convert:hover {\n",
       "      background-color: #E2EBFA;\n",
       "      box-shadow: 0px 1px 2px rgba(60, 64, 67, 0.3), 0px 1px 3px 1px rgba(60, 64, 67, 0.15);\n",
       "      fill: #174EA6;\n",
       "    }\n",
       "\n",
       "    [theme=dark] .colab-df-convert {\n",
       "      background-color: #3B4455;\n",
       "      fill: #D2E3FC;\n",
       "    }\n",
       "\n",
       "    [theme=dark] .colab-df-convert:hover {\n",
       "      background-color: #434B5C;\n",
       "      box-shadow: 0px 1px 3px 1px rgba(0, 0, 0, 0.15);\n",
       "      filter: drop-shadow(0px 1px 2px rgba(0, 0, 0, 0.3));\n",
       "      fill: #FFFFFF;\n",
       "    }\n",
       "  </style>\n",
       "\n",
       "      <script>\n",
       "        const buttonEl =\n",
       "          document.querySelector('#df-1e9fb8bf-064d-4cfe-87af-0a3c035a0d23 button.colab-df-convert');\n",
       "        buttonEl.style.display =\n",
       "          google.colab.kernel.accessAllowed ? 'block' : 'none';\n",
       "\n",
       "        async function convertToInteractive(key) {\n",
       "          const element = document.querySelector('#df-1e9fb8bf-064d-4cfe-87af-0a3c035a0d23');\n",
       "          const dataTable =\n",
       "            await google.colab.kernel.invokeFunction('convertToInteractive',\n",
       "                                                     [key], {});\n",
       "          if (!dataTable) return;\n",
       "\n",
       "          const docLinkHtml = 'Like what you see? Visit the ' +\n",
       "            '<a target=\"_blank\" href=https://colab.research.google.com/notebooks/data_table.ipynb>data table notebook</a>'\n",
       "            + ' to learn more about interactive tables.';\n",
       "          element.innerHTML = '';\n",
       "          dataTable['output_type'] = 'display_data';\n",
       "          await google.colab.output.renderOutput(dataTable, element);\n",
       "          const docLink = document.createElement('div');\n",
       "          docLink.innerHTML = docLinkHtml;\n",
       "          element.appendChild(docLink);\n",
       "        }\n",
       "      </script>\n",
       "    </div>\n",
       "  </div>\n",
       "  "
      ],
      "text/plain": [
       "        YearStart  YearEnd LocationAbbr LocationDesc DataSource  \\\n",
       "530418       2014     2014           AK       Alaska      BRFSS   \n",
       "533823       2014     2014           AK       Alaska      BRFSS   \n",
       "534113       2014     2014           AK       Alaska      BRFSS   \n",
       "535743       2014     2014           AK       Alaska      BRFSS   \n",
       "536507       2014     2014           AK       Alaska      BRFSS   \n",
       "\n",
       "                                        Topic  \\\n",
       "530418  Chronic Obstructive Pulmonary Disease   \n",
       "533823  Chronic Obstructive Pulmonary Disease   \n",
       "534113  Chronic Obstructive Pulmonary Disease   \n",
       "535743  Chronic Obstructive Pulmonary Disease   \n",
       "536507  Chronic Obstructive Pulmonary Disease   \n",
       "\n",
       "                                                 Question  Response  \\\n",
       "530418  Prevalence of chronic obstructive pulmonary di...       NaN   \n",
       "533823  Prevalence of chronic obstructive pulmonary di...       NaN   \n",
       "534113  Prevalence of chronic obstructive pulmonary di...       NaN   \n",
       "535743  Prevalence of chronic obstructive pulmonary di...       NaN   \n",
       "536507  Prevalence of chronic obstructive pulmonary di...       NaN   \n",
       "\n",
       "       DataValueUnit            DataValueType  ... LocationID  TopicID  \\\n",
       "530418             %  Age-adjusted Prevalence  ...          2     COPD   \n",
       "533823             %  Age-adjusted Prevalence  ...          2     COPD   \n",
       "534113             %  Age-adjusted Prevalence  ...          2     COPD   \n",
       "535743             %  Age-adjusted Prevalence  ...          2     COPD   \n",
       "536507             %  Age-adjusted Prevalence  ...          2     COPD   \n",
       "\n",
       "       QuestionID DataValueTypeID  StratificationCategoryID1  \\\n",
       "530418    COPD2_0      AGEADJPREV                     GENDER   \n",
       "533823    COPD2_0      AGEADJPREV                       RACE   \n",
       "534113    COPD2_0      AGEADJPREV                       RACE   \n",
       "535743    COPD2_0      AGEADJPREV                    OVERALL   \n",
       "536507    COPD2_0      AGEADJPREV                       RACE   \n",
       "\n",
       "        StratificationID1 StratificationCategoryID2 StratificationID2  \\\n",
       "530418               GENM                       NaN               NaN   \n",
       "533823                BLK                       NaN               NaN   \n",
       "534113                HIS                       NaN               NaN   \n",
       "535743                OVR                       NaN               NaN   \n",
       "536507                MRC                       NaN               NaN   \n",
       "\n",
       "        StratificationCategoryID3  StratificationID3  \n",
       "530418                        NaN                NaN  \n",
       "533823                        NaN                NaN  \n",
       "534113                        NaN                NaN  \n",
       "535743                        NaN                NaN  \n",
       "536507                        NaN                NaN  \n",
       "\n",
       "[5 rows x 34 columns]"
      ]
     },
     "execution_count": 20,
     "metadata": {},
     "output_type": "execute_result"
    }
   ],
   "source": [
    "copd_2014_prevalence.head()"
   ]
  },
  {
   "cell_type": "code",
   "execution_count": 25,
   "metadata": {
    "colab": {
     "base_uri": "https://localhost:8080/"
    },
    "executionInfo": {
     "elapsed": 142,
     "status": "ok",
     "timestamp": 1682387982292,
     "user": {
      "displayName": "Nandita Radhakrishnan",
      "userId": "10971545244259237440"
     },
     "user_tz": 420
    },
    "id": "1c440IFWIy0w",
    "outputId": "ee8171ff-cbb3-44d7-9110-18564c8d0044"
   },
   "outputs": [
    {
     "data": {
      "text/plain": [
       "YearStart                      int64\n",
       "YearEnd                        int64\n",
       "LocationAbbr                  object\n",
       "LocationDesc                  object\n",
       "DataSource                    object\n",
       "Topic                         object\n",
       "Question                      object\n",
       "Response                     float64\n",
       "DataValueUnit                 object\n",
       "DataValueType                 object\n",
       "DataValue                     object\n",
       "DataValueAlt                 float64\n",
       "DataValueFootnoteSymbol       object\n",
       "DatavalueFootnote             object\n",
       "LowConfidenceLimit           float64\n",
       "HighConfidenceLimit          float64\n",
       "StratificationCategory1       object\n",
       "Stratification1               object\n",
       "StratificationCategory2      float64\n",
       "Stratification2              float64\n",
       "StratificationCategory3      float64\n",
       "Stratification3              float64\n",
       "GeoLocation                   object\n",
       "ResponseID                   float64\n",
       "LocationID                     int64\n",
       "TopicID                       object\n",
       "QuestionID                    object\n",
       "DataValueTypeID               object\n",
       "StratificationCategoryID1     object\n",
       "StratificationID1             object\n",
       "StratificationCategoryID2    float64\n",
       "StratificationID2            float64\n",
       "StratificationCategoryID3    float64\n",
       "StratificationID3            float64\n",
       "dtype: object"
      ]
     },
     "execution_count": 25,
     "metadata": {},
     "output_type": "execute_result"
    }
   ],
   "source": [
    "copd_2014_prevalence.dtypes"
   ]
  },
  {
   "cell_type": "code",
   "execution_count": 26,
   "metadata": {
    "colab": {
     "base_uri": "https://localhost:8080/",
     "height": 633
    },
    "executionInfo": {
     "elapsed": 175,
     "status": "ok",
     "timestamp": 1682388121988,
     "user": {
      "displayName": "Nandita Radhakrishnan",
      "userId": "10971545244259237440"
     },
     "user_tz": 420
    },
    "id": "6DInY0sGIy5b",
    "outputId": "cce566a4-f219-4a86-b30d-f6ef213c6105"
   },
   "outputs": [
    {
     "data": {
      "text/html": [
       "\n",
       "  <div id=\"df-b7419c51-ffd7-4be1-b3f8-559197964631\">\n",
       "    <div class=\"colab-df-container\">\n",
       "      <div>\n",
       "<style scoped>\n",
       "    .dataframe tbody tr th:only-of-type {\n",
       "        vertical-align: middle;\n",
       "    }\n",
       "\n",
       "    .dataframe tbody tr th {\n",
       "        vertical-align: top;\n",
       "    }\n",
       "\n",
       "    .dataframe thead th {\n",
       "        text-align: right;\n",
       "    }\n",
       "</style>\n",
       "<table border=\"1\" class=\"dataframe\">\n",
       "  <thead>\n",
       "    <tr style=\"text-align: right;\">\n",
       "      <th></th>\n",
       "      <th>YearStart</th>\n",
       "      <th>LocationAbbr</th>\n",
       "      <th>Topic</th>\n",
       "      <th>Question</th>\n",
       "      <th>Response</th>\n",
       "      <th>DataValueUnit</th>\n",
       "      <th>DataValueType</th>\n",
       "      <th>DataValue</th>\n",
       "      <th>DataValueAlt</th>\n",
       "      <th>StratificationCategory1</th>\n",
       "      <th>Stratification1</th>\n",
       "    </tr>\n",
       "  </thead>\n",
       "  <tbody>\n",
       "    <tr>\n",
       "      <th>530418</th>\n",
       "      <td>2014</td>\n",
       "      <td>AK</td>\n",
       "      <td>Chronic Obstructive Pulmonary Disease</td>\n",
       "      <td>Prevalence of chronic obstructive pulmonary di...</td>\n",
       "      <td>NaN</td>\n",
       "      <td>%</td>\n",
       "      <td>Age-adjusted Prevalence</td>\n",
       "      <td>2.8</td>\n",
       "      <td>2.8</td>\n",
       "      <td>Gender</td>\n",
       "      <td>Male</td>\n",
       "    </tr>\n",
       "    <tr>\n",
       "      <th>533823</th>\n",
       "      <td>2014</td>\n",
       "      <td>AK</td>\n",
       "      <td>Chronic Obstructive Pulmonary Disease</td>\n",
       "      <td>Prevalence of chronic obstructive pulmonary di...</td>\n",
       "      <td>NaN</td>\n",
       "      <td>%</td>\n",
       "      <td>Age-adjusted Prevalence</td>\n",
       "      <td>NaN</td>\n",
       "      <td>NaN</td>\n",
       "      <td>Race/Ethnicity</td>\n",
       "      <td>Black, non-Hispanic</td>\n",
       "    </tr>\n",
       "    <tr>\n",
       "      <th>534113</th>\n",
       "      <td>2014</td>\n",
       "      <td>AK</td>\n",
       "      <td>Chronic Obstructive Pulmonary Disease</td>\n",
       "      <td>Prevalence of chronic obstructive pulmonary di...</td>\n",
       "      <td>NaN</td>\n",
       "      <td>%</td>\n",
       "      <td>Age-adjusted Prevalence</td>\n",
       "      <td>NaN</td>\n",
       "      <td>NaN</td>\n",
       "      <td>Race/Ethnicity</td>\n",
       "      <td>Hispanic</td>\n",
       "    </tr>\n",
       "    <tr>\n",
       "      <th>535743</th>\n",
       "      <td>2014</td>\n",
       "      <td>AK</td>\n",
       "      <td>Chronic Obstructive Pulmonary Disease</td>\n",
       "      <td>Prevalence of chronic obstructive pulmonary di...</td>\n",
       "      <td>NaN</td>\n",
       "      <td>%</td>\n",
       "      <td>Age-adjusted Prevalence</td>\n",
       "      <td>4.3</td>\n",
       "      <td>4.3</td>\n",
       "      <td>Overall</td>\n",
       "      <td>Overall</td>\n",
       "    </tr>\n",
       "    <tr>\n",
       "      <th>536507</th>\n",
       "      <td>2014</td>\n",
       "      <td>AK</td>\n",
       "      <td>Chronic Obstructive Pulmonary Disease</td>\n",
       "      <td>Prevalence of chronic obstructive pulmonary di...</td>\n",
       "      <td>NaN</td>\n",
       "      <td>%</td>\n",
       "      <td>Age-adjusted Prevalence</td>\n",
       "      <td>NaN</td>\n",
       "      <td>NaN</td>\n",
       "      <td>Race/Ethnicity</td>\n",
       "      <td>Multiracial, non-Hispanic</td>\n",
       "    </tr>\n",
       "    <tr>\n",
       "      <th>...</th>\n",
       "      <td>...</td>\n",
       "      <td>...</td>\n",
       "      <td>...</td>\n",
       "      <td>...</td>\n",
       "      <td>...</td>\n",
       "      <td>...</td>\n",
       "      <td>...</td>\n",
       "      <td>...</td>\n",
       "      <td>...</td>\n",
       "      <td>...</td>\n",
       "      <td>...</td>\n",
       "    </tr>\n",
       "    <tr>\n",
       "      <th>1174681</th>\n",
       "      <td>2014</td>\n",
       "      <td>WY</td>\n",
       "      <td>Chronic Obstructive Pulmonary Disease</td>\n",
       "      <td>Prevalence of chronic obstructive pulmonary di...</td>\n",
       "      <td>NaN</td>\n",
       "      <td>%</td>\n",
       "      <td>Age-adjusted Prevalence</td>\n",
       "      <td>NaN</td>\n",
       "      <td>NaN</td>\n",
       "      <td>Race/Ethnicity</td>\n",
       "      <td>Black, non-Hispanic</td>\n",
       "    </tr>\n",
       "    <tr>\n",
       "      <th>1175696</th>\n",
       "      <td>2014</td>\n",
       "      <td>WY</td>\n",
       "      <td>Chronic Obstructive Pulmonary Disease</td>\n",
       "      <td>Prevalence of chronic obstructive pulmonary di...</td>\n",
       "      <td>NaN</td>\n",
       "      <td>%</td>\n",
       "      <td>Age-adjusted Prevalence</td>\n",
       "      <td>6.4</td>\n",
       "      <td>6.4</td>\n",
       "      <td>Gender</td>\n",
       "      <td>Male</td>\n",
       "    </tr>\n",
       "    <tr>\n",
       "      <th>1179083</th>\n",
       "      <td>2014</td>\n",
       "      <td>WY</td>\n",
       "      <td>Chronic Obstructive Pulmonary Disease</td>\n",
       "      <td>Prevalence of chronic obstructive pulmonary di...</td>\n",
       "      <td>NaN</td>\n",
       "      <td>%</td>\n",
       "      <td>Age-adjusted Prevalence</td>\n",
       "      <td>6.4</td>\n",
       "      <td>6.4</td>\n",
       "      <td>Overall</td>\n",
       "      <td>Overall</td>\n",
       "    </tr>\n",
       "    <tr>\n",
       "      <th>1179604</th>\n",
       "      <td>2014</td>\n",
       "      <td>WY</td>\n",
       "      <td>Chronic Obstructive Pulmonary Disease</td>\n",
       "      <td>Prevalence of chronic obstructive pulmonary di...</td>\n",
       "      <td>NaN</td>\n",
       "      <td>%</td>\n",
       "      <td>Age-adjusted Prevalence</td>\n",
       "      <td>NaN</td>\n",
       "      <td>NaN</td>\n",
       "      <td>Race/Ethnicity</td>\n",
       "      <td>Other, non-Hispanic</td>\n",
       "    </tr>\n",
       "    <tr>\n",
       "      <th>1181645</th>\n",
       "      <td>2014</td>\n",
       "      <td>WY</td>\n",
       "      <td>Chronic Obstructive Pulmonary Disease</td>\n",
       "      <td>Prevalence of chronic obstructive pulmonary di...</td>\n",
       "      <td>NaN</td>\n",
       "      <td>%</td>\n",
       "      <td>Age-adjusted Prevalence</td>\n",
       "      <td>6.6</td>\n",
       "      <td>6.6</td>\n",
       "      <td>Gender</td>\n",
       "      <td>Female</td>\n",
       "    </tr>\n",
       "  </tbody>\n",
       "</table>\n",
       "<p>435 rows × 11 columns</p>\n",
       "</div>\n",
       "      <button class=\"colab-df-convert\" onclick=\"convertToInteractive('df-b7419c51-ffd7-4be1-b3f8-559197964631')\"\n",
       "              title=\"Convert this dataframe to an interactive table.\"\n",
       "              style=\"display:none;\">\n",
       "        \n",
       "  <svg xmlns=\"http://www.w3.org/2000/svg\" height=\"24px\"viewBox=\"0 0 24 24\"\n",
       "       width=\"24px\">\n",
       "    <path d=\"M0 0h24v24H0V0z\" fill=\"none\"/>\n",
       "    <path d=\"M18.56 5.44l.94 2.06.94-2.06 2.06-.94-2.06-.94-.94-2.06-.94 2.06-2.06.94zm-11 1L8.5 8.5l.94-2.06 2.06-.94-2.06-.94L8.5 2.5l-.94 2.06-2.06.94zm10 10l.94 2.06.94-2.06 2.06-.94-2.06-.94-.94-2.06-.94 2.06-2.06.94z\"/><path d=\"M17.41 7.96l-1.37-1.37c-.4-.4-.92-.59-1.43-.59-.52 0-1.04.2-1.43.59L10.3 9.45l-7.72 7.72c-.78.78-.78 2.05 0 2.83L4 21.41c.39.39.9.59 1.41.59.51 0 1.02-.2 1.41-.59l7.78-7.78 2.81-2.81c.8-.78.8-2.07 0-2.86zM5.41 20L4 18.59l7.72-7.72 1.47 1.35L5.41 20z\"/>\n",
       "  </svg>\n",
       "      </button>\n",
       "      \n",
       "  <style>\n",
       "    .colab-df-container {\n",
       "      display:flex;\n",
       "      flex-wrap:wrap;\n",
       "      gap: 12px;\n",
       "    }\n",
       "\n",
       "    .colab-df-convert {\n",
       "      background-color: #E8F0FE;\n",
       "      border: none;\n",
       "      border-radius: 50%;\n",
       "      cursor: pointer;\n",
       "      display: none;\n",
       "      fill: #1967D2;\n",
       "      height: 32px;\n",
       "      padding: 0 0 0 0;\n",
       "      width: 32px;\n",
       "    }\n",
       "\n",
       "    .colab-df-convert:hover {\n",
       "      background-color: #E2EBFA;\n",
       "      box-shadow: 0px 1px 2px rgba(60, 64, 67, 0.3), 0px 1px 3px 1px rgba(60, 64, 67, 0.15);\n",
       "      fill: #174EA6;\n",
       "    }\n",
       "\n",
       "    [theme=dark] .colab-df-convert {\n",
       "      background-color: #3B4455;\n",
       "      fill: #D2E3FC;\n",
       "    }\n",
       "\n",
       "    [theme=dark] .colab-df-convert:hover {\n",
       "      background-color: #434B5C;\n",
       "      box-shadow: 0px 1px 3px 1px rgba(0, 0, 0, 0.15);\n",
       "      filter: drop-shadow(0px 1px 2px rgba(0, 0, 0, 0.3));\n",
       "      fill: #FFFFFF;\n",
       "    }\n",
       "  </style>\n",
       "\n",
       "      <script>\n",
       "        const buttonEl =\n",
       "          document.querySelector('#df-b7419c51-ffd7-4be1-b3f8-559197964631 button.colab-df-convert');\n",
       "        buttonEl.style.display =\n",
       "          google.colab.kernel.accessAllowed ? 'block' : 'none';\n",
       "\n",
       "        async function convertToInteractive(key) {\n",
       "          const element = document.querySelector('#df-b7419c51-ffd7-4be1-b3f8-559197964631');\n",
       "          const dataTable =\n",
       "            await google.colab.kernel.invokeFunction('convertToInteractive',\n",
       "                                                     [key], {});\n",
       "          if (!dataTable) return;\n",
       "\n",
       "          const docLinkHtml = 'Like what you see? Visit the ' +\n",
       "            '<a target=\"_blank\" href=https://colab.research.google.com/notebooks/data_table.ipynb>data table notebook</a>'\n",
       "            + ' to learn more about interactive tables.';\n",
       "          element.innerHTML = '';\n",
       "          dataTable['output_type'] = 'display_data';\n",
       "          await google.colab.output.renderOutput(dataTable, element);\n",
       "          const docLink = document.createElement('div');\n",
       "          docLink.innerHTML = docLinkHtml;\n",
       "          element.appendChild(docLink);\n",
       "        }\n",
       "      </script>\n",
       "    </div>\n",
       "  </div>\n",
       "  "
      ],
      "text/plain": [
       "         YearStart LocationAbbr                                  Topic  \\\n",
       "530418        2014           AK  Chronic Obstructive Pulmonary Disease   \n",
       "533823        2014           AK  Chronic Obstructive Pulmonary Disease   \n",
       "534113        2014           AK  Chronic Obstructive Pulmonary Disease   \n",
       "535743        2014           AK  Chronic Obstructive Pulmonary Disease   \n",
       "536507        2014           AK  Chronic Obstructive Pulmonary Disease   \n",
       "...            ...          ...                                    ...   \n",
       "1174681       2014           WY  Chronic Obstructive Pulmonary Disease   \n",
       "1175696       2014           WY  Chronic Obstructive Pulmonary Disease   \n",
       "1179083       2014           WY  Chronic Obstructive Pulmonary Disease   \n",
       "1179604       2014           WY  Chronic Obstructive Pulmonary Disease   \n",
       "1181645       2014           WY  Chronic Obstructive Pulmonary Disease   \n",
       "\n",
       "                                                  Question  Response  \\\n",
       "530418   Prevalence of chronic obstructive pulmonary di...       NaN   \n",
       "533823   Prevalence of chronic obstructive pulmonary di...       NaN   \n",
       "534113   Prevalence of chronic obstructive pulmonary di...       NaN   \n",
       "535743   Prevalence of chronic obstructive pulmonary di...       NaN   \n",
       "536507   Prevalence of chronic obstructive pulmonary di...       NaN   \n",
       "...                                                    ...       ...   \n",
       "1174681  Prevalence of chronic obstructive pulmonary di...       NaN   \n",
       "1175696  Prevalence of chronic obstructive pulmonary di...       NaN   \n",
       "1179083  Prevalence of chronic obstructive pulmonary di...       NaN   \n",
       "1179604  Prevalence of chronic obstructive pulmonary di...       NaN   \n",
       "1181645  Prevalence of chronic obstructive pulmonary di...       NaN   \n",
       "\n",
       "        DataValueUnit            DataValueType DataValue  DataValueAlt  \\\n",
       "530418              %  Age-adjusted Prevalence       2.8           2.8   \n",
       "533823              %  Age-adjusted Prevalence       NaN           NaN   \n",
       "534113              %  Age-adjusted Prevalence       NaN           NaN   \n",
       "535743              %  Age-adjusted Prevalence       4.3           4.3   \n",
       "536507              %  Age-adjusted Prevalence       NaN           NaN   \n",
       "...               ...                      ...       ...           ...   \n",
       "1174681             %  Age-adjusted Prevalence       NaN           NaN   \n",
       "1175696             %  Age-adjusted Prevalence       6.4           6.4   \n",
       "1179083             %  Age-adjusted Prevalence       6.4           6.4   \n",
       "1179604             %  Age-adjusted Prevalence       NaN           NaN   \n",
       "1181645             %  Age-adjusted Prevalence       6.6           6.6   \n",
       "\n",
       "        StratificationCategory1            Stratification1  \n",
       "530418                   Gender                       Male  \n",
       "533823           Race/Ethnicity        Black, non-Hispanic  \n",
       "534113           Race/Ethnicity                   Hispanic  \n",
       "535743                  Overall                    Overall  \n",
       "536507           Race/Ethnicity  Multiracial, non-Hispanic  \n",
       "...                         ...                        ...  \n",
       "1174681          Race/Ethnicity        Black, non-Hispanic  \n",
       "1175696                  Gender                       Male  \n",
       "1179083                 Overall                    Overall  \n",
       "1179604          Race/Ethnicity        Other, non-Hispanic  \n",
       "1181645                  Gender                     Female  \n",
       "\n",
       "[435 rows x 11 columns]"
      ]
     },
     "execution_count": 26,
     "metadata": {},
     "output_type": "execute_result"
    }
   ],
   "source": [
    "copd_2014_prevalence[['YearStart', 'LocationAbbr', 'Topic', 'Question', 'Response', 'DataValueUnit', 'DataValueType', 'DataValue', 'DataValueAlt', 'StratificationCategory1', 'Stratification1']]"
   ]
  },
  {
   "cell_type": "code",
   "execution_count": 38,
   "metadata": {
    "colab": {
     "base_uri": "https://localhost:8080/",
     "height": 204
    },
    "executionInfo": {
     "elapsed": 138,
     "status": "ok",
     "timestamp": 1682388594790,
     "user": {
      "displayName": "Nandita Radhakrishnan",
      "userId": "10971545244259237440"
     },
     "user_tz": 420
    },
    "id": "SM1uMlNyIy9y",
    "outputId": "77a937d1-b604-45f4-be50-8246611401ae"
   },
   "outputs": [
    {
     "data": {
      "text/html": [
       "\n",
       "  <div id=\"df-90e703fb-3033-4598-9f02-56f4d3c53c11\">\n",
       "    <div class=\"colab-df-container\">\n",
       "      <div>\n",
       "<style scoped>\n",
       "    .dataframe tbody tr th:only-of-type {\n",
       "        vertical-align: middle;\n",
       "    }\n",
       "\n",
       "    .dataframe tbody tr th {\n",
       "        vertical-align: top;\n",
       "    }\n",
       "\n",
       "    .dataframe thead th {\n",
       "        text-align: right;\n",
       "    }\n",
       "</style>\n",
       "<table border=\"1\" class=\"dataframe\">\n",
       "  <thead>\n",
       "    <tr style=\"text-align: right;\">\n",
       "      <th></th>\n",
       "      <th>YearStart</th>\n",
       "      <th>LocationAbbr</th>\n",
       "      <th>Topic</th>\n",
       "      <th>Question</th>\n",
       "      <th>DataValueUnit</th>\n",
       "      <th>DataValueType</th>\n",
       "      <th>DataValue</th>\n",
       "      <th>DataValueAlt</th>\n",
       "      <th>StratificationCategory1</th>\n",
       "      <th>Stratification1</th>\n",
       "    </tr>\n",
       "  </thead>\n",
       "  <tbody>\n",
       "    <tr>\n",
       "      <th>535743</th>\n",
       "      <td>2014</td>\n",
       "      <td>AK</td>\n",
       "      <td>Chronic Obstructive Pulmonary Disease</td>\n",
       "      <td>Prevalence of chronic obstructive pulmonary di...</td>\n",
       "      <td>%</td>\n",
       "      <td>Age-adjusted Prevalence</td>\n",
       "      <td>4.3</td>\n",
       "      <td>4.3</td>\n",
       "      <td>Overall</td>\n",
       "      <td>Overall</td>\n",
       "    </tr>\n",
       "    <tr>\n",
       "      <th>551572</th>\n",
       "      <td>2014</td>\n",
       "      <td>AL</td>\n",
       "      <td>Chronic Obstructive Pulmonary Disease</td>\n",
       "      <td>Prevalence of chronic obstructive pulmonary di...</td>\n",
       "      <td>%</td>\n",
       "      <td>Age-adjusted Prevalence</td>\n",
       "      <td>9.7</td>\n",
       "      <td>9.7</td>\n",
       "      <td>Overall</td>\n",
       "      <td>Overall</td>\n",
       "    </tr>\n",
       "    <tr>\n",
       "      <th>557630</th>\n",
       "      <td>2014</td>\n",
       "      <td>AR</td>\n",
       "      <td>Chronic Obstructive Pulmonary Disease</td>\n",
       "      <td>Prevalence of chronic obstructive pulmonary di...</td>\n",
       "      <td>%</td>\n",
       "      <td>Age-adjusted Prevalence</td>\n",
       "      <td>8.2</td>\n",
       "      <td>8.2</td>\n",
       "      <td>Overall</td>\n",
       "      <td>Overall</td>\n",
       "    </tr>\n",
       "    <tr>\n",
       "      <th>577688</th>\n",
       "      <td>2014</td>\n",
       "      <td>AZ</td>\n",
       "      <td>Chronic Obstructive Pulmonary Disease</td>\n",
       "      <td>Prevalence of chronic obstructive pulmonary di...</td>\n",
       "      <td>%</td>\n",
       "      <td>Age-adjusted Prevalence</td>\n",
       "      <td>6.6</td>\n",
       "      <td>6.6</td>\n",
       "      <td>Overall</td>\n",
       "      <td>Overall</td>\n",
       "    </tr>\n",
       "    <tr>\n",
       "      <th>581238</th>\n",
       "      <td>2014</td>\n",
       "      <td>CA</td>\n",
       "      <td>Chronic Obstructive Pulmonary Disease</td>\n",
       "      <td>Prevalence of chronic obstructive pulmonary di...</td>\n",
       "      <td>%</td>\n",
       "      <td>Age-adjusted Prevalence</td>\n",
       "      <td>4.7</td>\n",
       "      <td>4.7</td>\n",
       "      <td>Overall</td>\n",
       "      <td>Overall</td>\n",
       "    </tr>\n",
       "  </tbody>\n",
       "</table>\n",
       "</div>\n",
       "      <button class=\"colab-df-convert\" onclick=\"convertToInteractive('df-90e703fb-3033-4598-9f02-56f4d3c53c11')\"\n",
       "              title=\"Convert this dataframe to an interactive table.\"\n",
       "              style=\"display:none;\">\n",
       "        \n",
       "  <svg xmlns=\"http://www.w3.org/2000/svg\" height=\"24px\"viewBox=\"0 0 24 24\"\n",
       "       width=\"24px\">\n",
       "    <path d=\"M0 0h24v24H0V0z\" fill=\"none\"/>\n",
       "    <path d=\"M18.56 5.44l.94 2.06.94-2.06 2.06-.94-2.06-.94-.94-2.06-.94 2.06-2.06.94zm-11 1L8.5 8.5l.94-2.06 2.06-.94-2.06-.94L8.5 2.5l-.94 2.06-2.06.94zm10 10l.94 2.06.94-2.06 2.06-.94-2.06-.94-.94-2.06-.94 2.06-2.06.94z\"/><path d=\"M17.41 7.96l-1.37-1.37c-.4-.4-.92-.59-1.43-.59-.52 0-1.04.2-1.43.59L10.3 9.45l-7.72 7.72c-.78.78-.78 2.05 0 2.83L4 21.41c.39.39.9.59 1.41.59.51 0 1.02-.2 1.41-.59l7.78-7.78 2.81-2.81c.8-.78.8-2.07 0-2.86zM5.41 20L4 18.59l7.72-7.72 1.47 1.35L5.41 20z\"/>\n",
       "  </svg>\n",
       "      </button>\n",
       "      \n",
       "  <style>\n",
       "    .colab-df-container {\n",
       "      display:flex;\n",
       "      flex-wrap:wrap;\n",
       "      gap: 12px;\n",
       "    }\n",
       "\n",
       "    .colab-df-convert {\n",
       "      background-color: #E8F0FE;\n",
       "      border: none;\n",
       "      border-radius: 50%;\n",
       "      cursor: pointer;\n",
       "      display: none;\n",
       "      fill: #1967D2;\n",
       "      height: 32px;\n",
       "      padding: 0 0 0 0;\n",
       "      width: 32px;\n",
       "    }\n",
       "\n",
       "    .colab-df-convert:hover {\n",
       "      background-color: #E2EBFA;\n",
       "      box-shadow: 0px 1px 2px rgba(60, 64, 67, 0.3), 0px 1px 3px 1px rgba(60, 64, 67, 0.15);\n",
       "      fill: #174EA6;\n",
       "    }\n",
       "\n",
       "    [theme=dark] .colab-df-convert {\n",
       "      background-color: #3B4455;\n",
       "      fill: #D2E3FC;\n",
       "    }\n",
       "\n",
       "    [theme=dark] .colab-df-convert:hover {\n",
       "      background-color: #434B5C;\n",
       "      box-shadow: 0px 1px 3px 1px rgba(0, 0, 0, 0.15);\n",
       "      filter: drop-shadow(0px 1px 2px rgba(0, 0, 0, 0.3));\n",
       "      fill: #FFFFFF;\n",
       "    }\n",
       "  </style>\n",
       "\n",
       "      <script>\n",
       "        const buttonEl =\n",
       "          document.querySelector('#df-90e703fb-3033-4598-9f02-56f4d3c53c11 button.colab-df-convert');\n",
       "        buttonEl.style.display =\n",
       "          google.colab.kernel.accessAllowed ? 'block' : 'none';\n",
       "\n",
       "        async function convertToInteractive(key) {\n",
       "          const element = document.querySelector('#df-90e703fb-3033-4598-9f02-56f4d3c53c11');\n",
       "          const dataTable =\n",
       "            await google.colab.kernel.invokeFunction('convertToInteractive',\n",
       "                                                     [key], {});\n",
       "          if (!dataTable) return;\n",
       "\n",
       "          const docLinkHtml = 'Like what you see? Visit the ' +\n",
       "            '<a target=\"_blank\" href=https://colab.research.google.com/notebooks/data_table.ipynb>data table notebook</a>'\n",
       "            + ' to learn more about interactive tables.';\n",
       "          element.innerHTML = '';\n",
       "          dataTable['output_type'] = 'display_data';\n",
       "          await google.colab.output.renderOutput(dataTable, element);\n",
       "          const docLink = document.createElement('div');\n",
       "          docLink.innerHTML = docLinkHtml;\n",
       "          element.appendChild(docLink);\n",
       "        }\n",
       "      </script>\n",
       "    </div>\n",
       "  </div>\n",
       "  "
      ],
      "text/plain": [
       "        YearStart LocationAbbr                                  Topic  \\\n",
       "535743       2014           AK  Chronic Obstructive Pulmonary Disease   \n",
       "551572       2014           AL  Chronic Obstructive Pulmonary Disease   \n",
       "557630       2014           AR  Chronic Obstructive Pulmonary Disease   \n",
       "577688       2014           AZ  Chronic Obstructive Pulmonary Disease   \n",
       "581238       2014           CA  Chronic Obstructive Pulmonary Disease   \n",
       "\n",
       "                                                 Question DataValueUnit  \\\n",
       "535743  Prevalence of chronic obstructive pulmonary di...             %   \n",
       "551572  Prevalence of chronic obstructive pulmonary di...             %   \n",
       "557630  Prevalence of chronic obstructive pulmonary di...             %   \n",
       "577688  Prevalence of chronic obstructive pulmonary di...             %   \n",
       "581238  Prevalence of chronic obstructive pulmonary di...             %   \n",
       "\n",
       "                  DataValueType DataValue  DataValueAlt  \\\n",
       "535743  Age-adjusted Prevalence       4.3           4.3   \n",
       "551572  Age-adjusted Prevalence       9.7           9.7   \n",
       "557630  Age-adjusted Prevalence       8.2           8.2   \n",
       "577688  Age-adjusted Prevalence       6.6           6.6   \n",
       "581238  Age-adjusted Prevalence       4.7           4.7   \n",
       "\n",
       "       StratificationCategory1 Stratification1  \n",
       "535743                 Overall         Overall  \n",
       "551572                 Overall         Overall  \n",
       "557630                 Overall         Overall  \n",
       "577688                 Overall         Overall  \n",
       "581238                 Overall         Overall  "
      ]
     },
     "execution_count": 38,
     "metadata": {},
     "output_type": "execute_result"
    }
   ],
   "source": [
    "copd_2014_prevalence_overall = copd_2014_prevalence[copd_2014_prevalence[\"StratificationCategory1\"] == 'Overall']\n",
    "copd_2014_prevalence_overall = copd_2014_prevalence_overall[['YearStart', 'LocationAbbr', 'Topic', 'Question', 'DataValueUnit', 'DataValueType', 'DataValue', 'DataValueAlt', 'StratificationCategory1', 'Stratification1']]\n",
    "copd_2014_prevalence_overall.head()"
   ]
  },
  {
   "cell_type": "code",
   "execution_count": 39,
   "metadata": {
    "colab": {
     "base_uri": "https://localhost:8080/"
    },
    "executionInfo": {
     "elapsed": 134,
     "status": "ok",
     "timestamp": 1682388596643,
     "user": {
      "displayName": "Nandita Radhakrishnan",
      "userId": "10971545244259237440"
     },
     "user_tz": 420
    },
    "id": "CzywhYJuIzA6",
    "outputId": "51f2284e-8bca-4791-81ab-39a509b21a5f"
   },
   "outputs": [
    {
     "data": {
      "text/plain": [
       "YearStart                    int64\n",
       "LocationAbbr                object\n",
       "Topic                       object\n",
       "Question                    object\n",
       "DataValueUnit               object\n",
       "DataValueType               object\n",
       "DataValue                   object\n",
       "DataValueAlt               float64\n",
       "StratificationCategory1     object\n",
       "Stratification1             object\n",
       "dtype: object"
      ]
     },
     "execution_count": 39,
     "metadata": {},
     "output_type": "execute_result"
    }
   ],
   "source": [
    "copd_2014_prevalence_overall.dtypes"
   ]
  },
  {
   "cell_type": "code",
   "execution_count": 40,
   "metadata": {
    "executionInfo": {
     "elapsed": 160,
     "status": "ok",
     "timestamp": 1682388598267,
     "user": {
      "displayName": "Nandita Radhakrishnan",
      "userId": "10971545244259237440"
     },
     "user_tz": 420
    },
    "id": "eIp6ysBPHiUX"
   },
   "outputs": [],
   "source": [
    "from scripts.state_agg import get_cdc_data, agg_county_weighted_mean"
   ]
  },
  {
   "cell_type": "code",
   "execution_count": 41,
   "metadata": {
    "colab": {
     "base_uri": "https://localhost:8080/"
    },
    "executionInfo": {
     "elapsed": 1862,
     "status": "ok",
     "timestamp": 1682388603166,
     "user": {
      "displayName": "Nandita Radhakrishnan",
      "userId": "10971545244259237440"
     },
     "user_tz": 420
    },
    "id": "pr18FFEHHiXN",
    "outputId": "a7b90771-ce25-4e33-b86a-87a5d3dceb95"
   },
   "outputs": [
    {
     "name": "stderr",
     "output_type": "stream",
     "text": [
      "WARNING:root:Requests made without an app_token will be subject to strict throttling limits.\n"
     ]
    }
   ],
   "source": [
    "ozone = get_cdc_data(\"01JUL2014\", ozone=True)"
   ]
  },
  {
   "cell_type": "code",
   "execution_count": 42,
   "metadata": {
    "colab": {
     "base_uri": "https://localhost:8080/",
     "height": 204
    },
    "executionInfo": {
     "elapsed": 1583,
     "status": "ok",
     "timestamp": 1682388604744,
     "user": {
      "displayName": "Nandita Radhakrishnan",
      "userId": "10971545244259237440"
     },
     "user_tz": 420
    },
    "id": "MHSmP0KtHiaH",
    "outputId": "155abdc8-24e0-4d0d-c63e-276ae7be8978"
   },
   "outputs": [
    {
     "data": {
      "text/html": [
       "\n",
       "  <div id=\"df-d38bcd8a-c2ee-4ac4-bf6b-b6b627f86adb\">\n",
       "    <div class=\"colab-df-container\">\n",
       "      <div>\n",
       "<style scoped>\n",
       "    .dataframe tbody tr th:only-of-type {\n",
       "        vertical-align: middle;\n",
       "    }\n",
       "\n",
       "    .dataframe tbody tr th {\n",
       "        vertical-align: top;\n",
       "    }\n",
       "\n",
       "    .dataframe thead th {\n",
       "        text-align: right;\n",
       "    }\n",
       "</style>\n",
       "<table border=\"1\" class=\"dataframe\">\n",
       "  <thead>\n",
       "    <tr style=\"text-align: right;\">\n",
       "      <th></th>\n",
       "      <th>state</th>\n",
       "      <th>ds_o3_pred</th>\n",
       "      <th>abbrev</th>\n",
       "    </tr>\n",
       "  </thead>\n",
       "  <tbody>\n",
       "    <tr>\n",
       "      <th>0</th>\n",
       "      <td>Alabama</td>\n",
       "      <td>29.542927</td>\n",
       "      <td>AL</td>\n",
       "    </tr>\n",
       "    <tr>\n",
       "      <th>1</th>\n",
       "      <td>Arizona</td>\n",
       "      <td>43.801846</td>\n",
       "      <td>AZ</td>\n",
       "    </tr>\n",
       "    <tr>\n",
       "      <th>2</th>\n",
       "      <td>Arkansas</td>\n",
       "      <td>34.721968</td>\n",
       "      <td>AR</td>\n",
       "    </tr>\n",
       "    <tr>\n",
       "      <th>3</th>\n",
       "      <td>California</td>\n",
       "      <td>50.513304</td>\n",
       "      <td>CA</td>\n",
       "    </tr>\n",
       "    <tr>\n",
       "      <th>4</th>\n",
       "      <td>Colorado</td>\n",
       "      <td>53.015487</td>\n",
       "      <td>CO</td>\n",
       "    </tr>\n",
       "  </tbody>\n",
       "</table>\n",
       "</div>\n",
       "      <button class=\"colab-df-convert\" onclick=\"convertToInteractive('df-d38bcd8a-c2ee-4ac4-bf6b-b6b627f86adb')\"\n",
       "              title=\"Convert this dataframe to an interactive table.\"\n",
       "              style=\"display:none;\">\n",
       "        \n",
       "  <svg xmlns=\"http://www.w3.org/2000/svg\" height=\"24px\"viewBox=\"0 0 24 24\"\n",
       "       width=\"24px\">\n",
       "    <path d=\"M0 0h24v24H0V0z\" fill=\"none\"/>\n",
       "    <path d=\"M18.56 5.44l.94 2.06.94-2.06 2.06-.94-2.06-.94-.94-2.06-.94 2.06-2.06.94zm-11 1L8.5 8.5l.94-2.06 2.06-.94-2.06-.94L8.5 2.5l-.94 2.06-2.06.94zm10 10l.94 2.06.94-2.06 2.06-.94-2.06-.94-.94-2.06-.94 2.06-2.06.94z\"/><path d=\"M17.41 7.96l-1.37-1.37c-.4-.4-.92-.59-1.43-.59-.52 0-1.04.2-1.43.59L10.3 9.45l-7.72 7.72c-.78.78-.78 2.05 0 2.83L4 21.41c.39.39.9.59 1.41.59.51 0 1.02-.2 1.41-.59l7.78-7.78 2.81-2.81c.8-.78.8-2.07 0-2.86zM5.41 20L4 18.59l7.72-7.72 1.47 1.35L5.41 20z\"/>\n",
       "  </svg>\n",
       "      </button>\n",
       "      \n",
       "  <style>\n",
       "    .colab-df-container {\n",
       "      display:flex;\n",
       "      flex-wrap:wrap;\n",
       "      gap: 12px;\n",
       "    }\n",
       "\n",
       "    .colab-df-convert {\n",
       "      background-color: #E8F0FE;\n",
       "      border: none;\n",
       "      border-radius: 50%;\n",
       "      cursor: pointer;\n",
       "      display: none;\n",
       "      fill: #1967D2;\n",
       "      height: 32px;\n",
       "      padding: 0 0 0 0;\n",
       "      width: 32px;\n",
       "    }\n",
       "\n",
       "    .colab-df-convert:hover {\n",
       "      background-color: #E2EBFA;\n",
       "      box-shadow: 0px 1px 2px rgba(60, 64, 67, 0.3), 0px 1px 3px 1px rgba(60, 64, 67, 0.15);\n",
       "      fill: #174EA6;\n",
       "    }\n",
       "\n",
       "    [theme=dark] .colab-df-convert {\n",
       "      background-color: #3B4455;\n",
       "      fill: #D2E3FC;\n",
       "    }\n",
       "\n",
       "    [theme=dark] .colab-df-convert:hover {\n",
       "      background-color: #434B5C;\n",
       "      box-shadow: 0px 1px 3px 1px rgba(0, 0, 0, 0.15);\n",
       "      filter: drop-shadow(0px 1px 2px rgba(0, 0, 0, 0.3));\n",
       "      fill: #FFFFFF;\n",
       "    }\n",
       "  </style>\n",
       "\n",
       "      <script>\n",
       "        const buttonEl =\n",
       "          document.querySelector('#df-d38bcd8a-c2ee-4ac4-bf6b-b6b627f86adb button.colab-df-convert');\n",
       "        buttonEl.style.display =\n",
       "          google.colab.kernel.accessAllowed ? 'block' : 'none';\n",
       "\n",
       "        async function convertToInteractive(key) {\n",
       "          const element = document.querySelector('#df-d38bcd8a-c2ee-4ac4-bf6b-b6b627f86adb');\n",
       "          const dataTable =\n",
       "            await google.colab.kernel.invokeFunction('convertToInteractive',\n",
       "                                                     [key], {});\n",
       "          if (!dataTable) return;\n",
       "\n",
       "          const docLinkHtml = 'Like what you see? Visit the ' +\n",
       "            '<a target=\"_blank\" href=https://colab.research.google.com/notebooks/data_table.ipynb>data table notebook</a>'\n",
       "            + ' to learn more about interactive tables.';\n",
       "          element.innerHTML = '';\n",
       "          dataTable['output_type'] = 'display_data';\n",
       "          await google.colab.output.renderOutput(dataTable, element);\n",
       "          const docLink = document.createElement('div');\n",
       "          docLink.innerHTML = docLinkHtml;\n",
       "          element.appendChild(docLink);\n",
       "        }\n",
       "      </script>\n",
       "    </div>\n",
       "  </div>\n",
       "  "
      ],
      "text/plain": [
       "        state  ds_o3_pred abbrev\n",
       "0     Alabama   29.542927     AL\n",
       "1     Arizona   43.801846     AZ\n",
       "2    Arkansas   34.721968     AR\n",
       "3  California   50.513304     CA\n",
       "4    Colorado   53.015487     CO"
      ]
     },
     "execution_count": 42,
     "metadata": {},
     "output_type": "execute_result"
    }
   ],
   "source": [
    "ozone_by_state = agg_county_weighted_mean(ozone)\n",
    "ozone_by_state.head()"
   ]
  },
  {
   "cell_type": "code",
   "execution_count": 43,
   "metadata": {
    "colab": {
     "base_uri": "https://localhost:8080/"
    },
    "executionInfo": {
     "elapsed": 11,
     "status": "ok",
     "timestamp": 1682388604745,
     "user": {
      "displayName": "Nandita Radhakrishnan",
      "userId": "10971545244259237440"
     },
     "user_tz": 420
    },
    "id": "sD4jnHA7Hict",
    "outputId": "42f2ae27-2241-4dfe-d1ec-617d6f84a33d"
   },
   "outputs": [
    {
     "data": {
      "text/plain": [
       "(49, 3)"
      ]
     },
     "execution_count": 43,
     "metadata": {},
     "output_type": "execute_result"
    }
   ],
   "source": [
    "ozone_by_state.shape"
   ]
  },
  {
   "cell_type": "code",
   "execution_count": 44,
   "metadata": {
    "executionInfo": {
     "elapsed": 7,
     "status": "ok",
     "timestamp": 1682388672797,
     "user": {
      "displayName": "Nandita Radhakrishnan",
      "userId": "10971545244259237440"
     },
     "user_tz": 420
    },
    "id": "Rf4VqDq2HifD"
   },
   "outputs": [],
   "source": [
    "copd_ozone = copd_2014_prevalence_overall.merge(ozone_by_state, right_on=\"abbrev\", left_on=\"LocationAbbr\", how='inner')"
   ]
  },
  {
   "cell_type": "code",
   "execution_count": 46,
   "metadata": {
    "colab": {
     "base_uri": "https://localhost:8080/",
     "height": 333
    },
    "executionInfo": {
     "elapsed": 6,
     "status": "ok",
     "timestamp": 1682388747239,
     "user": {
      "displayName": "Nandita Radhakrishnan",
      "userId": "10971545244259237440"
     },
     "user_tz": 420
    },
    "id": "wj_IX-bbHih7",
    "outputId": "ebc0c47a-28c5-4c4c-b586-a1a6d5fd6aa9"
   },
   "outputs": [
    {
     "data": {
      "text/html": [
       "\n",
       "  <div id=\"df-eaede635-c4d3-4840-a293-848bb0db2f78\">\n",
       "    <div class=\"colab-df-container\">\n",
       "      <div>\n",
       "<style scoped>\n",
       "    .dataframe tbody tr th:only-of-type {\n",
       "        vertical-align: middle;\n",
       "    }\n",
       "\n",
       "    .dataframe tbody tr th {\n",
       "        vertical-align: top;\n",
       "    }\n",
       "\n",
       "    .dataframe thead th {\n",
       "        text-align: right;\n",
       "    }\n",
       "</style>\n",
       "<table border=\"1\" class=\"dataframe\">\n",
       "  <thead>\n",
       "    <tr style=\"text-align: right;\">\n",
       "      <th></th>\n",
       "      <th>YearStart</th>\n",
       "      <th>LocationAbbr</th>\n",
       "      <th>Topic</th>\n",
       "      <th>Question</th>\n",
       "      <th>DataValueUnit</th>\n",
       "      <th>DataValueType</th>\n",
       "      <th>DataValue</th>\n",
       "      <th>DataValueAlt</th>\n",
       "      <th>StratificationCategory1</th>\n",
       "      <th>Stratification1</th>\n",
       "      <th>state</th>\n",
       "      <th>ds_o3_pred</th>\n",
       "      <th>abbrev</th>\n",
       "    </tr>\n",
       "  </thead>\n",
       "  <tbody>\n",
       "    <tr>\n",
       "      <th>0</th>\n",
       "      <td>2014</td>\n",
       "      <td>AL</td>\n",
       "      <td>Chronic Obstructive Pulmonary Disease</td>\n",
       "      <td>Prevalence of chronic obstructive pulmonary di...</td>\n",
       "      <td>%</td>\n",
       "      <td>Age-adjusted Prevalence</td>\n",
       "      <td>9.7</td>\n",
       "      <td>9.7</td>\n",
       "      <td>Overall</td>\n",
       "      <td>Overall</td>\n",
       "      <td>Alabama</td>\n",
       "      <td>29.542927</td>\n",
       "      <td>AL</td>\n",
       "    </tr>\n",
       "    <tr>\n",
       "      <th>1</th>\n",
       "      <td>2014</td>\n",
       "      <td>AR</td>\n",
       "      <td>Chronic Obstructive Pulmonary Disease</td>\n",
       "      <td>Prevalence of chronic obstructive pulmonary di...</td>\n",
       "      <td>%</td>\n",
       "      <td>Age-adjusted Prevalence</td>\n",
       "      <td>8.2</td>\n",
       "      <td>8.2</td>\n",
       "      <td>Overall</td>\n",
       "      <td>Overall</td>\n",
       "      <td>Arkansas</td>\n",
       "      <td>34.721968</td>\n",
       "      <td>AR</td>\n",
       "    </tr>\n",
       "    <tr>\n",
       "      <th>2</th>\n",
       "      <td>2014</td>\n",
       "      <td>AZ</td>\n",
       "      <td>Chronic Obstructive Pulmonary Disease</td>\n",
       "      <td>Prevalence of chronic obstructive pulmonary di...</td>\n",
       "      <td>%</td>\n",
       "      <td>Age-adjusted Prevalence</td>\n",
       "      <td>6.6</td>\n",
       "      <td>6.6</td>\n",
       "      <td>Overall</td>\n",
       "      <td>Overall</td>\n",
       "      <td>Arizona</td>\n",
       "      <td>43.801846</td>\n",
       "      <td>AZ</td>\n",
       "    </tr>\n",
       "    <tr>\n",
       "      <th>3</th>\n",
       "      <td>2014</td>\n",
       "      <td>CA</td>\n",
       "      <td>Chronic Obstructive Pulmonary Disease</td>\n",
       "      <td>Prevalence of chronic obstructive pulmonary di...</td>\n",
       "      <td>%</td>\n",
       "      <td>Age-adjusted Prevalence</td>\n",
       "      <td>4.7</td>\n",
       "      <td>4.7</td>\n",
       "      <td>Overall</td>\n",
       "      <td>Overall</td>\n",
       "      <td>California</td>\n",
       "      <td>50.513304</td>\n",
       "      <td>CA</td>\n",
       "    </tr>\n",
       "    <tr>\n",
       "      <th>4</th>\n",
       "      <td>2014</td>\n",
       "      <td>CO</td>\n",
       "      <td>Chronic Obstructive Pulmonary Disease</td>\n",
       "      <td>Prevalence of chronic obstructive pulmonary di...</td>\n",
       "      <td>%</td>\n",
       "      <td>Age-adjusted Prevalence</td>\n",
       "      <td>3.9</td>\n",
       "      <td>3.9</td>\n",
       "      <td>Overall</td>\n",
       "      <td>Overall</td>\n",
       "      <td>Colorado</td>\n",
       "      <td>53.015487</td>\n",
       "      <td>CO</td>\n",
       "    </tr>\n",
       "  </tbody>\n",
       "</table>\n",
       "</div>\n",
       "      <button class=\"colab-df-convert\" onclick=\"convertToInteractive('df-eaede635-c4d3-4840-a293-848bb0db2f78')\"\n",
       "              title=\"Convert this dataframe to an interactive table.\"\n",
       "              style=\"display:none;\">\n",
       "        \n",
       "  <svg xmlns=\"http://www.w3.org/2000/svg\" height=\"24px\"viewBox=\"0 0 24 24\"\n",
       "       width=\"24px\">\n",
       "    <path d=\"M0 0h24v24H0V0z\" fill=\"none\"/>\n",
       "    <path d=\"M18.56 5.44l.94 2.06.94-2.06 2.06-.94-2.06-.94-.94-2.06-.94 2.06-2.06.94zm-11 1L8.5 8.5l.94-2.06 2.06-.94-2.06-.94L8.5 2.5l-.94 2.06-2.06.94zm10 10l.94 2.06.94-2.06 2.06-.94-2.06-.94-.94-2.06-.94 2.06-2.06.94z\"/><path d=\"M17.41 7.96l-1.37-1.37c-.4-.4-.92-.59-1.43-.59-.52 0-1.04.2-1.43.59L10.3 9.45l-7.72 7.72c-.78.78-.78 2.05 0 2.83L4 21.41c.39.39.9.59 1.41.59.51 0 1.02-.2 1.41-.59l7.78-7.78 2.81-2.81c.8-.78.8-2.07 0-2.86zM5.41 20L4 18.59l7.72-7.72 1.47 1.35L5.41 20z\"/>\n",
       "  </svg>\n",
       "      </button>\n",
       "      \n",
       "  <style>\n",
       "    .colab-df-container {\n",
       "      display:flex;\n",
       "      flex-wrap:wrap;\n",
       "      gap: 12px;\n",
       "    }\n",
       "\n",
       "    .colab-df-convert {\n",
       "      background-color: #E8F0FE;\n",
       "      border: none;\n",
       "      border-radius: 50%;\n",
       "      cursor: pointer;\n",
       "      display: none;\n",
       "      fill: #1967D2;\n",
       "      height: 32px;\n",
       "      padding: 0 0 0 0;\n",
       "      width: 32px;\n",
       "    }\n",
       "\n",
       "    .colab-df-convert:hover {\n",
       "      background-color: #E2EBFA;\n",
       "      box-shadow: 0px 1px 2px rgba(60, 64, 67, 0.3), 0px 1px 3px 1px rgba(60, 64, 67, 0.15);\n",
       "      fill: #174EA6;\n",
       "    }\n",
       "\n",
       "    [theme=dark] .colab-df-convert {\n",
       "      background-color: #3B4455;\n",
       "      fill: #D2E3FC;\n",
       "    }\n",
       "\n",
       "    [theme=dark] .colab-df-convert:hover {\n",
       "      background-color: #434B5C;\n",
       "      box-shadow: 0px 1px 3px 1px rgba(0, 0, 0, 0.15);\n",
       "      filter: drop-shadow(0px 1px 2px rgba(0, 0, 0, 0.3));\n",
       "      fill: #FFFFFF;\n",
       "    }\n",
       "  </style>\n",
       "\n",
       "      <script>\n",
       "        const buttonEl =\n",
       "          document.querySelector('#df-eaede635-c4d3-4840-a293-848bb0db2f78 button.colab-df-convert');\n",
       "        buttonEl.style.display =\n",
       "          google.colab.kernel.accessAllowed ? 'block' : 'none';\n",
       "\n",
       "        async function convertToInteractive(key) {\n",
       "          const element = document.querySelector('#df-eaede635-c4d3-4840-a293-848bb0db2f78');\n",
       "          const dataTable =\n",
       "            await google.colab.kernel.invokeFunction('convertToInteractive',\n",
       "                                                     [key], {});\n",
       "          if (!dataTable) return;\n",
       "\n",
       "          const docLinkHtml = 'Like what you see? Visit the ' +\n",
       "            '<a target=\"_blank\" href=https://colab.research.google.com/notebooks/data_table.ipynb>data table notebook</a>'\n",
       "            + ' to learn more about interactive tables.';\n",
       "          element.innerHTML = '';\n",
       "          dataTable['output_type'] = 'display_data';\n",
       "          await google.colab.output.renderOutput(dataTable, element);\n",
       "          const docLink = document.createElement('div');\n",
       "          docLink.innerHTML = docLinkHtml;\n",
       "          element.appendChild(docLink);\n",
       "        }\n",
       "      </script>\n",
       "    </div>\n",
       "  </div>\n",
       "  "
      ],
      "text/plain": [
       "   YearStart LocationAbbr                                  Topic  \\\n",
       "0       2014           AL  Chronic Obstructive Pulmonary Disease   \n",
       "1       2014           AR  Chronic Obstructive Pulmonary Disease   \n",
       "2       2014           AZ  Chronic Obstructive Pulmonary Disease   \n",
       "3       2014           CA  Chronic Obstructive Pulmonary Disease   \n",
       "4       2014           CO  Chronic Obstructive Pulmonary Disease   \n",
       "\n",
       "                                            Question DataValueUnit  \\\n",
       "0  Prevalence of chronic obstructive pulmonary di...             %   \n",
       "1  Prevalence of chronic obstructive pulmonary di...             %   \n",
       "2  Prevalence of chronic obstructive pulmonary di...             %   \n",
       "3  Prevalence of chronic obstructive pulmonary di...             %   \n",
       "4  Prevalence of chronic obstructive pulmonary di...             %   \n",
       "\n",
       "             DataValueType DataValue  DataValueAlt StratificationCategory1  \\\n",
       "0  Age-adjusted Prevalence       9.7           9.7                 Overall   \n",
       "1  Age-adjusted Prevalence       8.2           8.2                 Overall   \n",
       "2  Age-adjusted Prevalence       6.6           6.6                 Overall   \n",
       "3  Age-adjusted Prevalence       4.7           4.7                 Overall   \n",
       "4  Age-adjusted Prevalence       3.9           3.9                 Overall   \n",
       "\n",
       "  Stratification1       state  ds_o3_pred abbrev  \n",
       "0         Overall     Alabama   29.542927     AL  \n",
       "1         Overall    Arkansas   34.721968     AR  \n",
       "2         Overall     Arizona   43.801846     AZ  \n",
       "3         Overall  California   50.513304     CA  \n",
       "4         Overall    Colorado   53.015487     CO  "
      ]
     },
     "execution_count": 46,
     "metadata": {},
     "output_type": "execute_result"
    }
   ],
   "source": [
    "copd_ozone.head()"
   ]
  },
  {
   "cell_type": "code",
   "execution_count": 50,
   "metadata": {
    "executionInfo": {
     "elapsed": 1719,
     "status": "ok",
     "timestamp": 1682388833052,
     "user": {
      "displayName": "Nandita Radhakrishnan",
      "userId": "10971545244259237440"
     },
     "user_tz": 420
    },
    "id": "sO4JmgMTHikh"
   },
   "outputs": [],
   "source": [
    "import seaborn as sns"
   ]
  },
  {
   "cell_type": "code",
   "execution_count": 48,
   "metadata": {
    "colab": {
     "base_uri": "https://localhost:8080/"
    },
    "executionInfo": {
     "elapsed": 267,
     "status": "ok",
     "timestamp": 1682388816840,
     "user": {
      "displayName": "Nandita Radhakrishnan",
      "userId": "10971545244259237440"
     },
     "user_tz": 420
    },
    "id": "SRp8ZtdKL-hZ",
    "outputId": "61e89970-2ed6-49cb-f20d-bd3c86816056"
   },
   "outputs": [
    {
     "data": {
      "text/plain": [
       "YearStart                    int64\n",
       "LocationAbbr                object\n",
       "Topic                       object\n",
       "Question                    object\n",
       "DataValueUnit               object\n",
       "DataValueType               object\n",
       "DataValue                   object\n",
       "DataValueAlt               float64\n",
       "StratificationCategory1     object\n",
       "Stratification1             object\n",
       "state                       object\n",
       "ds_o3_pred                 float64\n",
       "abbrev                      object\n",
       "dtype: object"
      ]
     },
     "execution_count": 48,
     "metadata": {},
     "output_type": "execute_result"
    }
   ],
   "source": [
    "copd_ozone.dtypes"
   ]
  },
  {
   "cell_type": "code",
   "execution_count": 56,
   "metadata": {
    "colab": {
     "base_uri": "https://localhost:8080/",
     "height": 466
    },
    "executionInfo": {
     "elapsed": 1869,
     "status": "ok",
     "timestamp": 1682389140196,
     "user": {
      "displayName": "Nandita Radhakrishnan",
      "userId": "10971545244259237440"
     },
     "user_tz": 420
    },
    "id": "bo94vihoLrHs",
    "outputId": "07966f5b-86de-46c8-f788-d039f19d190c"
   },
   "outputs": [
    {
     "data": {
      "text/plain": [
       "<Axes: xlabel='DataValueAlt', ylabel='ds_o3_pred'>"
      ]
     },
     "execution_count": 56,
     "metadata": {},
     "output_type": "execute_result"
    },
    {
     "data": {
      "image/png": "[encoded data removed]",
      "text/plain": [
       "<Figure size 640x480 with 1 Axes>"
      ]
     },
     "metadata": {},
     "output_type": "display_data"
    }
   ],
   "source": [
    "sns.regplot(data=copd_ozone,  y=\"ds_o3_pred\", x=\"DataValueAlt\")"
   ]
  },
  {
   "cell_type": "code",
   "execution_count": 57,
   "metadata": {
    "colab": {
     "base_uri": "https://localhost:8080/",
     "height": 221
    },
    "executionInfo": {
     "elapsed": 4183,
     "status": "ok",
     "timestamp": 1682389637586,
     "user": {
      "displayName": "Nandita Radhakrishnan",
      "userId": "10971545244259237440"
     },
     "user_tz": 420
    },
    "id": "FiBNP4nBLrKR",
    "outputId": "54c327f2-5bef-43eb-f505-fdd82240a054"
   },
   "outputs": [
    {
     "name": "stderr",
     "output_type": "stream",
     "text": [
      "WARNING:root:Requests made without an app_token will be subject to strict throttling limits.\n"
     ]
    },
    {
     "data": {
      "text/html": [
       "\n",
       "  <div id=\"df-3e82366e-05d5-418d-970d-bf428b75df91\">\n",
       "    <div class=\"colab-df-container\">\n",
       "      <div>\n",
       "<style scoped>\n",
       "    .dataframe tbody tr th:only-of-type {\n",
       "        vertical-align: middle;\n",
       "    }\n",
       "\n",
       "    .dataframe tbody tr th {\n",
       "        vertical-align: top;\n",
       "    }\n",
       "\n",
       "    .dataframe thead th {\n",
       "        text-align: right;\n",
       "    }\n",
       "</style>\n",
       "<table border=\"1\" class=\"dataframe\">\n",
       "  <thead>\n",
       "    <tr style=\"text-align: right;\">\n",
       "      <th></th>\n",
       "      <th>state</th>\n",
       "      <th>ds_pm_pred</th>\n",
       "      <th>abbrev</th>\n",
       "    </tr>\n",
       "  </thead>\n",
       "  <tbody>\n",
       "    <tr>\n",
       "      <th>0</th>\n",
       "      <td>Alabama</td>\n",
       "      <td>22.966910</td>\n",
       "      <td>AL</td>\n",
       "    </tr>\n",
       "    <tr>\n",
       "      <th>1</th>\n",
       "      <td>Arizona</td>\n",
       "      <td>4.887055</td>\n",
       "      <td>AZ</td>\n",
       "    </tr>\n",
       "    <tr>\n",
       "      <th>2</th>\n",
       "      <td>Arkansas</td>\n",
       "      <td>23.433149</td>\n",
       "      <td>AR</td>\n",
       "    </tr>\n",
       "    <tr>\n",
       "      <th>3</th>\n",
       "      <td>California</td>\n",
       "      <td>12.510747</td>\n",
       "      <td>CA</td>\n",
       "    </tr>\n",
       "    <tr>\n",
       "      <th>4</th>\n",
       "      <td>Colorado</td>\n",
       "      <td>11.874387</td>\n",
       "      <td>CO</td>\n",
       "    </tr>\n",
       "  </tbody>\n",
       "</table>\n",
       "</div>\n",
       "      <button class=\"colab-df-convert\" onclick=\"convertToInteractive('df-3e82366e-05d5-418d-970d-bf428b75df91')\"\n",
       "              title=\"Convert this dataframe to an interactive table.\"\n",
       "              style=\"display:none;\">\n",
       "        \n",
       "  <svg xmlns=\"http://www.w3.org/2000/svg\" height=\"24px\"viewBox=\"0 0 24 24\"\n",
       "       width=\"24px\">\n",
       "    <path d=\"M0 0h24v24H0V0z\" fill=\"none\"/>\n",
       "    <path d=\"M18.56 5.44l.94 2.06.94-2.06 2.06-.94-2.06-.94-.94-2.06-.94 2.06-2.06.94zm-11 1L8.5 8.5l.94-2.06 2.06-.94-2.06-.94L8.5 2.5l-.94 2.06-2.06.94zm10 10l.94 2.06.94-2.06 2.06-.94-2.06-.94-.94-2.06-.94 2.06-2.06.94z\"/><path d=\"M17.41 7.96l-1.37-1.37c-.4-.4-.92-.59-1.43-.59-.52 0-1.04.2-1.43.59L10.3 9.45l-7.72 7.72c-.78.78-.78 2.05 0 2.83L4 21.41c.39.39.9.59 1.41.59.51 0 1.02-.2 1.41-.59l7.78-7.78 2.81-2.81c.8-.78.8-2.07 0-2.86zM5.41 20L4 18.59l7.72-7.72 1.47 1.35L5.41 20z\"/>\n",
       "  </svg>\n",
       "      </button>\n",
       "      \n",
       "  <style>\n",
       "    .colab-df-container {\n",
       "      display:flex;\n",
       "      flex-wrap:wrap;\n",
       "      gap: 12px;\n",
       "    }\n",
       "\n",
       "    .colab-df-convert {\n",
       "      background-color: #E8F0FE;\n",
       "      border: none;\n",
       "      border-radius: 50%;\n",
       "      cursor: pointer;\n",
       "      display: none;\n",
       "      fill: #1967D2;\n",
       "      height: 32px;\n",
       "      padding: 0 0 0 0;\n",
       "      width: 32px;\n",
       "    }\n",
       "\n",
       "    .colab-df-convert:hover {\n",
       "      background-color: #E2EBFA;\n",
       "      box-shadow: 0px 1px 2px rgba(60, 64, 67, 0.3), 0px 1px 3px 1px rgba(60, 64, 67, 0.15);\n",
       "      fill: #174EA6;\n",
       "    }\n",
       "\n",
       "    [theme=dark] .colab-df-convert {\n",
       "      background-color: #3B4455;\n",
       "      fill: #D2E3FC;\n",
       "    }\n",
       "\n",
       "    [theme=dark] .colab-df-convert:hover {\n",
       "      background-color: #434B5C;\n",
       "      box-shadow: 0px 1px 3px 1px rgba(0, 0, 0, 0.15);\n",
       "      filter: drop-shadow(0px 1px 2px rgba(0, 0, 0, 0.3));\n",
       "      fill: #FFFFFF;\n",
       "    }\n",
       "  </style>\n",
       "\n",
       "      <script>\n",
       "        const buttonEl =\n",
       "          document.querySelector('#df-3e82366e-05d5-418d-970d-bf428b75df91 button.colab-df-convert');\n",
       "        buttonEl.style.display =\n",
       "          google.colab.kernel.accessAllowed ? 'block' : 'none';\n",
       "\n",
       "        async function convertToInteractive(key) {\n",
       "          const element = document.querySelector('#df-3e82366e-05d5-418d-970d-bf428b75df91');\n",
       "          const dataTable =\n",
       "            await google.colab.kernel.invokeFunction('convertToInteractive',\n",
       "                                                     [key], {});\n",
       "          if (!dataTable) return;\n",
       "\n",
       "          const docLinkHtml = 'Like what you see? Visit the ' +\n",
       "            '<a target=\"_blank\" href=https://colab.research.google.com/notebooks/data_table.ipynb>data table notebook</a>'\n",
       "            + ' to learn more about interactive tables.';\n",
       "          element.innerHTML = '';\n",
       "          dataTable['output_type'] = 'display_data';\n",
       "          await google.colab.output.renderOutput(dataTable, element);\n",
       "          const docLink = document.createElement('div');\n",
       "          docLink.innerHTML = docLinkHtml;\n",
       "          element.appendChild(docLink);\n",
       "        }\n",
       "      </script>\n",
       "    </div>\n",
       "  </div>\n",
       "  "
      ],
      "text/plain": [
       "        state  ds_pm_pred abbrev\n",
       "0     Alabama   22.966910     AL\n",
       "1     Arizona    4.887055     AZ\n",
       "2    Arkansas   23.433149     AR\n",
       "3  California   12.510747     CA\n",
       "4    Colorado   11.874387     CO"
      ]
     },
     "execution_count": 57,
     "metadata": {},
     "output_type": "execute_result"
    }
   ],
   "source": [
    "pm25 = get_cdc_data(\"01JUL2014\", ozone=False)\n",
    "pm25_by_state = agg_county_weighted_mean(pm25)\n",
    "pm25_by_state.head()"
   ]
  },
  {
   "cell_type": "code",
   "execution_count": 59,
   "metadata": {
    "colab": {
     "base_uri": "https://localhost:8080/",
     "height": 333
    },
    "executionInfo": {
     "elapsed": 362,
     "status": "ok",
     "timestamp": 1682389671226,
     "user": {
      "displayName": "Nandita Radhakrishnan",
      "userId": "10971545244259237440"
     },
     "user_tz": 420
    },
    "id": "RN7Cn0Q-LrNL",
    "outputId": "e80fc3a1-a8f6-44cb-fc36-2e8a428c1574"
   },
   "outputs": [
    {
     "data": {
      "text/html": [
       "\n",
       "  <div id=\"df-e28b491c-3f63-45ed-a90f-5067ae47b075\">\n",
       "    <div class=\"colab-df-container\">\n",
       "      <div>\n",
       "<style scoped>\n",
       "    .dataframe tbody tr th:only-of-type {\n",
       "        vertical-align: middle;\n",
       "    }\n",
       "\n",
       "    .dataframe tbody tr th {\n",
       "        vertical-align: top;\n",
       "    }\n",
       "\n",
       "    .dataframe thead th {\n",
       "        text-align: right;\n",
       "    }\n",
       "</style>\n",
       "<table border=\"1\" class=\"dataframe\">\n",
       "  <thead>\n",
       "    <tr style=\"text-align: right;\">\n",
       "      <th></th>\n",
       "      <th>YearStart</th>\n",
       "      <th>LocationAbbr</th>\n",
       "      <th>Topic</th>\n",
       "      <th>Question</th>\n",
       "      <th>DataValueUnit</th>\n",
       "      <th>DataValueType</th>\n",
       "      <th>DataValue</th>\n",
       "      <th>DataValueAlt</th>\n",
       "      <th>StratificationCategory1</th>\n",
       "      <th>Stratification1</th>\n",
       "      <th>state</th>\n",
       "      <th>ds_pm_pred</th>\n",
       "      <th>abbrev</th>\n",
       "    </tr>\n",
       "  </thead>\n",
       "  <tbody>\n",
       "    <tr>\n",
       "      <th>0</th>\n",
       "      <td>2014</td>\n",
       "      <td>AL</td>\n",
       "      <td>Chronic Obstructive Pulmonary Disease</td>\n",
       "      <td>Prevalence of chronic obstructive pulmonary di...</td>\n",
       "      <td>%</td>\n",
       "      <td>Age-adjusted Prevalence</td>\n",
       "      <td>9.7</td>\n",
       "      <td>9.7</td>\n",
       "      <td>Overall</td>\n",
       "      <td>Overall</td>\n",
       "      <td>Alabama</td>\n",
       "      <td>22.966910</td>\n",
       "      <td>AL</td>\n",
       "    </tr>\n",
       "    <tr>\n",
       "      <th>1</th>\n",
       "      <td>2014</td>\n",
       "      <td>AR</td>\n",
       "      <td>Chronic Obstructive Pulmonary Disease</td>\n",
       "      <td>Prevalence of chronic obstructive pulmonary di...</td>\n",
       "      <td>%</td>\n",
       "      <td>Age-adjusted Prevalence</td>\n",
       "      <td>8.2</td>\n",
       "      <td>8.2</td>\n",
       "      <td>Overall</td>\n",
       "      <td>Overall</td>\n",
       "      <td>Arkansas</td>\n",
       "      <td>23.433149</td>\n",
       "      <td>AR</td>\n",
       "    </tr>\n",
       "    <tr>\n",
       "      <th>2</th>\n",
       "      <td>2014</td>\n",
       "      <td>AZ</td>\n",
       "      <td>Chronic Obstructive Pulmonary Disease</td>\n",
       "      <td>Prevalence of chronic obstructive pulmonary di...</td>\n",
       "      <td>%</td>\n",
       "      <td>Age-adjusted Prevalence</td>\n",
       "      <td>6.6</td>\n",
       "      <td>6.6</td>\n",
       "      <td>Overall</td>\n",
       "      <td>Overall</td>\n",
       "      <td>Arizona</td>\n",
       "      <td>4.887055</td>\n",
       "      <td>AZ</td>\n",
       "    </tr>\n",
       "    <tr>\n",
       "      <th>3</th>\n",
       "      <td>2014</td>\n",
       "      <td>CA</td>\n",
       "      <td>Chronic Obstructive Pulmonary Disease</td>\n",
       "      <td>Prevalence of chronic obstructive pulmonary di...</td>\n",
       "      <td>%</td>\n",
       "      <td>Age-adjusted Prevalence</td>\n",
       "      <td>4.7</td>\n",
       "      <td>4.7</td>\n",
       "      <td>Overall</td>\n",
       "      <td>Overall</td>\n",
       "      <td>California</td>\n",
       "      <td>12.510747</td>\n",
       "      <td>CA</td>\n",
       "    </tr>\n",
       "    <tr>\n",
       "      <th>4</th>\n",
       "      <td>2014</td>\n",
       "      <td>CO</td>\n",
       "      <td>Chronic Obstructive Pulmonary Disease</td>\n",
       "      <td>Prevalence of chronic obstructive pulmonary di...</td>\n",
       "      <td>%</td>\n",
       "      <td>Age-adjusted Prevalence</td>\n",
       "      <td>3.9</td>\n",
       "      <td>3.9</td>\n",
       "      <td>Overall</td>\n",
       "      <td>Overall</td>\n",
       "      <td>Colorado</td>\n",
       "      <td>11.874387</td>\n",
       "      <td>CO</td>\n",
       "    </tr>\n",
       "  </tbody>\n",
       "</table>\n",
       "</div>\n",
       "      <button class=\"colab-df-convert\" onclick=\"convertToInteractive('df-e28b491c-3f63-45ed-a90f-5067ae47b075')\"\n",
       "              title=\"Convert this dataframe to an interactive table.\"\n",
       "              style=\"display:none;\">\n",
       "        \n",
       "  <svg xmlns=\"http://www.w3.org/2000/svg\" height=\"24px\"viewBox=\"0 0 24 24\"\n",
       "       width=\"24px\">\n",
       "    <path d=\"M0 0h24v24H0V0z\" fill=\"none\"/>\n",
       "    <path d=\"M18.56 5.44l.94 2.06.94-2.06 2.06-.94-2.06-.94-.94-2.06-.94 2.06-2.06.94zm-11 1L8.5 8.5l.94-2.06 2.06-.94-2.06-.94L8.5 2.5l-.94 2.06-2.06.94zm10 10l.94 2.06.94-2.06 2.06-.94-2.06-.94-.94-2.06-.94 2.06-2.06.94z\"/><path d=\"M17.41 7.96l-1.37-1.37c-.4-.4-.92-.59-1.43-.59-.52 0-1.04.2-1.43.59L10.3 9.45l-7.72 7.72c-.78.78-.78 2.05 0 2.83L4 21.41c.39.39.9.59 1.41.59.51 0 1.02-.2 1.41-.59l7.78-7.78 2.81-2.81c.8-.78.8-2.07 0-2.86zM5.41 20L4 18.59l7.72-7.72 1.47 1.35L5.41 20z\"/>\n",
       "  </svg>\n",
       "      </button>\n",
       "      \n",
       "  <style>\n",
       "    .colab-df-container {\n",
       "      display:flex;\n",
       "      flex-wrap:wrap;\n",
       "      gap: 12px;\n",
       "    }\n",
       "\n",
       "    .colab-df-convert {\n",
       "      background-color: #E8F0FE;\n",
       "      border: none;\n",
       "      border-radius: 50%;\n",
       "      cursor: pointer;\n",
       "      display: none;\n",
       "      fill: #1967D2;\n",
       "      height: 32px;\n",
       "      padding: 0 0 0 0;\n",
       "      width: 32px;\n",
       "    }\n",
       "\n",
       "    .colab-df-convert:hover {\n",
       "      background-color: #E2EBFA;\n",
       "      box-shadow: 0px 1px 2px rgba(60, 64, 67, 0.3), 0px 1px 3px 1px rgba(60, 64, 67, 0.15);\n",
       "      fill: #174EA6;\n",
       "    }\n",
       "\n",
       "    [theme=dark] .colab-df-convert {\n",
       "      background-color: #3B4455;\n",
       "      fill: #D2E3FC;\n",
       "    }\n",
       "\n",
       "    [theme=dark] .colab-df-convert:hover {\n",
       "      background-color: #434B5C;\n",
       "      box-shadow: 0px 1px 3px 1px rgba(0, 0, 0, 0.15);\n",
       "      filter: drop-shadow(0px 1px 2px rgba(0, 0, 0, 0.3));\n",
       "      fill: #FFFFFF;\n",
       "    }\n",
       "  </style>\n",
       "\n",
       "      <script>\n",
       "        const buttonEl =\n",
       "          document.querySelector('#df-e28b491c-3f63-45ed-a90f-5067ae47b075 button.colab-df-convert');\n",
       "        buttonEl.style.display =\n",
       "          google.colab.kernel.accessAllowed ? 'block' : 'none';\n",
       "\n",
       "        async function convertToInteractive(key) {\n",
       "          const element = document.querySelector('#df-e28b491c-3f63-45ed-a90f-5067ae47b075');\n",
       "          const dataTable =\n",
       "            await google.colab.kernel.invokeFunction('convertToInteractive',\n",
       "                                                     [key], {});\n",
       "          if (!dataTable) return;\n",
       "\n",
       "          const docLinkHtml = 'Like what you see? Visit the ' +\n",
       "            '<a target=\"_blank\" href=https://colab.research.google.com/notebooks/data_table.ipynb>data table notebook</a>'\n",
       "            + ' to learn more about interactive tables.';\n",
       "          element.innerHTML = '';\n",
       "          dataTable['output_type'] = 'display_data';\n",
       "          await google.colab.output.renderOutput(dataTable, element);\n",
       "          const docLink = document.createElement('div');\n",
       "          docLink.innerHTML = docLinkHtml;\n",
       "          element.appendChild(docLink);\n",
       "        }\n",
       "      </script>\n",
       "    </div>\n",
       "  </div>\n",
       "  "
      ],
      "text/plain": [
       "   YearStart LocationAbbr                                  Topic  \\\n",
       "0       2014           AL  Chronic Obstructive Pulmonary Disease   \n",
       "1       2014           AR  Chronic Obstructive Pulmonary Disease   \n",
       "2       2014           AZ  Chronic Obstructive Pulmonary Disease   \n",
       "3       2014           CA  Chronic Obstructive Pulmonary Disease   \n",
       "4       2014           CO  Chronic Obstructive Pulmonary Disease   \n",
       "\n",
       "                                            Question DataValueUnit  \\\n",
       "0  Prevalence of chronic obstructive pulmonary di...             %   \n",
       "1  Prevalence of chronic obstructive pulmonary di...             %   \n",
       "2  Prevalence of chronic obstructive pulmonary di...             %   \n",
       "3  Prevalence of chronic obstructive pulmonary di...             %   \n",
       "4  Prevalence of chronic obstructive pulmonary di...             %   \n",
       "\n",
       "             DataValueType DataValue  DataValueAlt StratificationCategory1  \\\n",
       "0  Age-adjusted Prevalence       9.7           9.7                 Overall   \n",
       "1  Age-adjusted Prevalence       8.2           8.2                 Overall   \n",
       "2  Age-adjusted Prevalence       6.6           6.6                 Overall   \n",
       "3  Age-adjusted Prevalence       4.7           4.7                 Overall   \n",
       "4  Age-adjusted Prevalence       3.9           3.9                 Overall   \n",
       "\n",
       "  Stratification1       state  ds_pm_pred abbrev  \n",
       "0         Overall     Alabama   22.966910     AL  \n",
       "1         Overall    Arkansas   23.433149     AR  \n",
       "2         Overall     Arizona    4.887055     AZ  \n",
       "3         Overall  California   12.510747     CA  \n",
       "4         Overall    Colorado   11.874387     CO  "
      ]
     },
     "execution_count": 59,
     "metadata": {},
     "output_type": "execute_result"
    }
   ],
   "source": [
    "copd_pm25 = copd_2014_prevalence_overall.merge(pm25_by_state, right_on=\"abbrev\", left_on=\"LocationAbbr\", how='inner')\n",
    "copd_pm25.head()"
   ]
  },
  {
   "cell_type": "code",
   "execution_count": 64,
   "metadata": {
    "colab": {
     "base_uri": "https://localhost:8080/",
     "height": 489
    },
    "executionInfo": {
     "elapsed": 333,
     "status": "ok",
     "timestamp": 1682392394150,
     "user": {
      "displayName": "Nandita Radhakrishnan",
      "userId": "10971545244259237440"
     },
     "user_tz": 420
    },
    "id": "_of6wHY1LrPx",
    "outputId": "ec6c4c7a-98d4-4000-f921-d24556c9bd51"
   },
   "outputs": [
    {
     "data": {
      "text/plain": [
       "Text(0.5, 1.0, 'Correlation between COPD and Pm 2.5 concentrations in the year 2014 in each US state')"
      ]
     },
     "execution_count": 64,
     "metadata": {},
     "output_type": "execute_result"
    },
    {
     "data": {
      "image/png": "[encoded data removed]",
      "text/plain": [
       "<Figure size 640x480 with 1 Axes>"
      ]
     },
     "metadata": {},
     "output_type": "display_data"
    }
   ],
   "source": [
    "sns.regplot(data=copd_pm25,  x=\"ds_pm_pred\", y=\"DataValueAlt\")\n",
    "plt.xlabel(\"PM 2.5 concentration\")\n",
    "plt.ylabel(\"Age Adjusted COPD Prevalence(%) >= 18 years\")\n",
    "plt.title(\"Correlation between COPD and Pm 2.5 concentrations in the year 2014 in each US state\")"
   ]
  },
  {
   "cell_type": "code",
   "execution_count": 67,
   "metadata": {
    "colab": {
     "base_uri": "https://localhost:8080/",
     "height": 469
    },
    "executionInfo": {
     "elapsed": 905,
     "status": "ok",
     "timestamp": 1682394635067,
     "user": {
      "displayName": "Nandita Radhakrishnan",
      "userId": "10971545244259237440"
     },
     "user_tz": 420
    },
    "id": "Kziei9X8Himo",
    "outputId": "30c61fc6-65d5-4f54-a79d-36a81149cecb"
   },
   "outputs": [
    {
     "data": {
      "text/plain": [
       "<Axes: xlabel='ds_o3_pred', ylabel='ds_pm_pred'>"
      ]
     },
     "execution_count": 67,
     "metadata": {},
     "output_type": "execute_result"
    },
    {
     "data": {
      "image/png": "[encoded data removed]",
      "text/plain": [
       "<Figure size 640x480 with 1 Axes>"
      ]
     },
     "metadata": {},
     "output_type": "display_data"
    }
   ],
   "source": [
    "ozone_pm25 = ozone_by_state.merge(pm25_by_state, on=\"abbrev\", how='inner')\n",
    "sns.regplot(data=ozone_pm25,  y=\"ds_pm_pred\", x=\"ds_o3_pred\")"
   ]
  },
  {
   "cell_type": "code",
   "execution_count": null,
   "metadata": {
    "colab": {
     "base_uri": "https://localhost:8080/"
    },
    "executionInfo": {
     "elapsed": 7,
     "status": "ok",
     "timestamp": 1680740295774,
     "user": {
      "displayName": "Nandita Radhakrishnan",
      "userId": "10971545244259237440"
     },
     "user_tz": 420
    },
    "id": "3lyVFuGrSsH_",
    "outputId": "b9500cce-2000-47b0-9344-b1bc63078e1f"
   },
   "outputs": [
    {
     "data": {
      "text/plain": [
       "((66091, 34), (80342, 34))"
      ]
     },
     "execution_count": 61,
     "metadata": {},
     "output_type": "execute_result"
    }
   ],
   "source": [
    "alcohol.shape, asthma.shape"
   ]
  },
  {
   "cell_type": "code",
   "execution_count": null,
   "metadata": {
    "id": "q_gjbsyHW1t_"
   },
   "outputs": [],
   "source": [
    "desired_cols = ['YearStart', 'YearEnd', 'LocationAbbr', 'Question', 'DataValueUnit', 'DataValueType',\n",
    "       'DataValue', 'DataValueAlt',\n",
    "       'DatavalueFootnote', 'LowConfidenceLimit', 'HighConfidenceLimit',\n",
    "       'StratificationCategory1', 'Stratification1']\n",
    "alcohol = alcohol[desired_cols]"
   ]
  },
  {
   "cell_type": "code",
   "execution_count": null,
   "metadata": {
    "id": "fZJdNG4bW7Pv"
   },
   "outputs": [],
   "source": []
  },
  {
   "cell_type": "code",
   "execution_count": null,
   "metadata": {
    "colab": {
     "base_uri": "https://localhost:8080/"
    },
    "executionInfo": {
     "elapsed": 4,
     "status": "ok",
     "timestamp": 1680740298391,
     "user": {
      "displayName": "Nandita Radhakrishnan",
      "userId": "10971545244259237440"
     },
     "user_tz": 420
    },
    "id": "xT47IhEiXl7G",
    "outputId": "5eec3796-c8f3-45d4-ba0f-8c4587e62125"
   },
   "outputs": [
    {
     "data": {
      "text/plain": [
       "Chronic liver disease mortality                                           13497\n",
       "Heavy drinking among adults aged >= 18 years                               9570\n",
       "Binge drinking intensity among adults aged >= 18 years who binge drink     9570\n",
       "Binge drinking frequency among adults aged >= 18 years who binge drink     9570\n",
       "Binge drinking prevalence among adults aged >= 18 years                    9570\n",
       "Heavy drinking among women aged 18-44 years                                3575\n",
       "Binge drinking prevalence among women aged 18-44 years                     3575\n",
       "Alcohol use before pregnancy                                               2783\n",
       "Alcohol use among youth                                                    1760\n",
       "Binge drinking prevalence among youth                                       990\n",
       "Per capita alcohol consumption among persons aged >= 14 years               330\n",
       "Amount of alcohol excise tax by beverage type (beer)                        324\n",
       "Amount of alcohol excise tax by beverage type (wine)                        324\n",
       "Amount of alcohol excise tax by beverage type (distilled spirits)           324\n",
       "Local authority to regulate alcohol outlet density                          165\n",
       "Commercial host (dram shop) liability laws                                  164\n",
       "Name: Question, dtype: int64"
      ]
     },
     "execution_count": 63,
     "metadata": {},
     "output_type": "execute_result"
    }
   ],
   "source": [
    "alcohol[\"Question\"].value_counts()"
   ]
  },
  {
   "cell_type": "code",
   "execution_count": null,
   "metadata": {
    "id": "jvwYOKFLafcA"
   },
   "outputs": [],
   "source": [
    "liver_disease = alcohol[alcohol['Question'] == \"Chronic liver disease mortality\"]\n",
    "excise_tax_spirits = alcohol[alcohol['Question'].isin(['Amount of alcohol excise tax by beverage type (distilled spirits)'])]\n",
    "excise_tax_wine = alcohol[alcohol['Question'].isin(['Amount of alcohol excise tax by beverage type (wine)'])]\n",
    "excise_tax_beer = alcohol[alcohol['Question'].isin(['Amount of alcohol excise tax by beverage type (beer)'])]\n",
    "dram_liability = alcohol[alcohol['Question'].isin(['Commercial host (dram shop) liability laws'])]\n"
   ]
  },
  {
   "cell_type": "code",
   "execution_count": null,
   "metadata": {
    "colab": {
     "base_uri": "https://localhost:8080/"
    },
    "executionInfo": {
     "elapsed": 155,
     "status": "ok",
     "timestamp": 1680749907163,
     "user": {
      "displayName": "Nandita Radhakrishnan",
      "userId": "10971545244259237440"
     },
     "user_tz": 420
    },
    "id": "6FqyOkx1f7DM",
    "outputId": "3acaaf98-da36-4250-aeb8-22c743a69afc"
   },
   "outputs": [
    {
     "data": {
      "text/plain": [
       "Category 3 - State had exclusive state alcohol retail licensing but with local zoning authority    48\n",
       "Category 2 - State had joint local and state alcohol retail licensing                              30\n",
       "Category 4 - State had mixed alcohol retail licensing policies                                     24\n",
       "Category 1 - State had exclusive local alcohol retail licensing                                    24\n",
       "Category 6 - State had exclusive state alcohol retail licensing                                    18\n",
       "Category 5 - State had nearly exclusive state alcohol retail licensing                              6\n",
       "Name: DataValue, dtype: int64"
      ]
     },
     "execution_count": 127,
     "metadata": {},
     "output_type": "execute_result"
    }
   ],
   "source": [
    "alcohol[alcohol['Question'] == \"Local authority to regulate alcohol outlet density\"][\"DataValue\"].value_counts()"
   ]
  },
  {
   "cell_type": "code",
   "execution_count": null,
   "metadata": {
    "id": "6cKKakE5dc3g"
   },
   "outputs": [],
   "source": [
    "dram_liability = dram_liability[[\"YearEnd\", \"LocationAbbr\", \"DataValue\"]]"
   ]
  },
  {
   "cell_type": "code",
   "execution_count": null,
   "metadata": {
    "colab": {
     "base_uri": "https://localhost:8080/"
    },
    "executionInfo": {
     "elapsed": 166,
     "status": "ok",
     "timestamp": 1680749701003,
     "user": {
      "displayName": "Nandita Radhakrishnan",
      "userId": "10971545244259237440"
     },
     "user_tz": 420
    },
    "id": "RAK4OHC7dkxe",
    "outputId": "1f7eceba-f190-4773-9a7e-b797b7441bdc"
   },
   "outputs": [
    {
     "data": {
      "text/plain": [
       "(Category 2 - State had commercial host liability with major limitations       72\n",
       " Category 1 - State had commercial host liability with no major limitations    63\n",
       " Category 3 - State had no commercial host liability                           18\n",
       " Name: DataValue, dtype: int64,\n",
       " 2011    55\n",
       " 2015    55\n",
       " 2021    54\n",
       " Name: YearEnd, dtype: int64)"
      ]
     },
     "execution_count": 124,
     "metadata": {},
     "output_type": "execute_result"
    }
   ],
   "source": [
    "dram_liability[\"DataValue\"].value_counts(), dram_liability[\"YearEnd\"].value_counts()"
   ]
  },
  {
   "cell_type": "code",
   "execution_count": null,
   "metadata": {
    "colab": {
     "base_uri": "https://localhost:8080/"
    },
    "executionInfo": {
     "elapsed": 11,
     "status": "ok",
     "timestamp": 1680749516444,
     "user": {
      "displayName": "Nandita Radhakrishnan",
      "userId": "10971545244259237440"
     },
     "user_tz": 420
    },
    "id": "XzkifkO-dk0R",
    "outputId": "652f2830-608f-40e6-a52e-e2feaa8cb958"
   },
   "outputs": [
    {
     "data": {
      "text/plain": [
       "(164, 3)"
      ]
     },
     "execution_count": 120,
     "metadata": {},
     "output_type": "execute_result"
    }
   ],
   "source": [
    "dram_liability.shape"
   ]
  },
  {
   "cell_type": "code",
   "execution_count": null,
   "metadata": {
    "colab": {
     "base_uri": "https://localhost:8080/",
     "height": 607
    },
    "executionInfo": {
     "elapsed": 190,
     "status": "ok",
     "timestamp": 1680749636317,
     "user": {
      "displayName": "Nandita Radhakrishnan",
      "userId": "10971545244259237440"
     },
     "user_tz": 420
    },
    "id": "EaP2xAifdk24",
    "outputId": "c6649f1e-cff4-4727-e0df-beaf694197a1"
   },
   "outputs": [
    {
     "data": {
      "text/html": [
       "\n",
       "  <div id=\"df-333b1f19-da14-4997-991e-f998cceced7d\">\n",
       "    <div class=\"colab-df-container\">\n",
       "      <div>\n",
       "<style scoped>\n",
       "    .dataframe tbody tr th:only-of-type {\n",
       "        vertical-align: middle;\n",
       "    }\n",
       "\n",
       "    .dataframe tbody tr th {\n",
       "        vertical-align: top;\n",
       "    }\n",
       "\n",
       "    .dataframe thead th {\n",
       "        text-align: right;\n",
       "    }\n",
       "</style>\n",
       "<table border=\"1\" class=\"dataframe\">\n",
       "  <thead>\n",
       "    <tr style=\"text-align: right;\">\n",
       "      <th></th>\n",
       "      <th>YearEnd</th>\n",
       "      <th>LocationAbbr</th>\n",
       "      <th>DataValue</th>\n",
       "    </tr>\n",
       "  </thead>\n",
       "  <tbody>\n",
       "    <tr>\n",
       "      <th>28015</th>\n",
       "      <td>2011</td>\n",
       "      <td>DE</td>\n",
       "      <td>Category 3 - State had no commercial host liab...</td>\n",
       "    </tr>\n",
       "    <tr>\n",
       "      <th>16683</th>\n",
       "      <td>2011</td>\n",
       "      <td>KS</td>\n",
       "      <td>Category 3 - State had no commercial host liab...</td>\n",
       "    </tr>\n",
       "    <tr>\n",
       "      <th>27664</th>\n",
       "      <td>2011</td>\n",
       "      <td>MD</td>\n",
       "      <td>Category 3 - State had no commercial host liab...</td>\n",
       "    </tr>\n",
       "    <tr>\n",
       "      <th>30850</th>\n",
       "      <td>2011</td>\n",
       "      <td>NV</td>\n",
       "      <td>Category 3 - State had no commercial host liab...</td>\n",
       "    </tr>\n",
       "    <tr>\n",
       "      <th>29435</th>\n",
       "      <td>2011</td>\n",
       "      <td>SD</td>\n",
       "      <td>Category 3 - State had no commercial host liab...</td>\n",
       "    </tr>\n",
       "    <tr>\n",
       "      <th>16139</th>\n",
       "      <td>2011</td>\n",
       "      <td>VA</td>\n",
       "      <td>Category 3 - State had no commercial host liab...</td>\n",
       "    </tr>\n",
       "    <tr>\n",
       "      <th>27113</th>\n",
       "      <td>2015</td>\n",
       "      <td>DE</td>\n",
       "      <td>Category 3 - State had no commercial host liab...</td>\n",
       "    </tr>\n",
       "    <tr>\n",
       "      <th>21063</th>\n",
       "      <td>2015</td>\n",
       "      <td>KS</td>\n",
       "      <td>Category 3 - State had no commercial host liab...</td>\n",
       "    </tr>\n",
       "    <tr>\n",
       "      <th>18916</th>\n",
       "      <td>2015</td>\n",
       "      <td>MD</td>\n",
       "      <td>Category 3 - State had no commercial host liab...</td>\n",
       "    </tr>\n",
       "    <tr>\n",
       "      <th>26138</th>\n",
       "      <td>2015</td>\n",
       "      <td>NV</td>\n",
       "      <td>Category 3 - State had no commercial host liab...</td>\n",
       "    </tr>\n",
       "    <tr>\n",
       "      <th>25975</th>\n",
       "      <td>2015</td>\n",
       "      <td>SD</td>\n",
       "      <td>Category 3 - State had no commercial host liab...</td>\n",
       "    </tr>\n",
       "    <tr>\n",
       "      <th>28568</th>\n",
       "      <td>2015</td>\n",
       "      <td>VA</td>\n",
       "      <td>Category 3 - State had no commercial host liab...</td>\n",
       "    </tr>\n",
       "    <tr>\n",
       "      <th>22670</th>\n",
       "      <td>2021</td>\n",
       "      <td>DE</td>\n",
       "      <td>Category 3 - State had no commercial host liab...</td>\n",
       "    </tr>\n",
       "    <tr>\n",
       "      <th>29219</th>\n",
       "      <td>2021</td>\n",
       "      <td>KS</td>\n",
       "      <td>Category 3 - State had no commercial host liab...</td>\n",
       "    </tr>\n",
       "    <tr>\n",
       "      <th>20477</th>\n",
       "      <td>2021</td>\n",
       "      <td>MD</td>\n",
       "      <td>Category 3 - State had no commercial host liab...</td>\n",
       "    </tr>\n",
       "    <tr>\n",
       "      <th>21644</th>\n",
       "      <td>2021</td>\n",
       "      <td>NV</td>\n",
       "      <td>Category 3 - State had no commercial host liab...</td>\n",
       "    </tr>\n",
       "    <tr>\n",
       "      <th>24256</th>\n",
       "      <td>2021</td>\n",
       "      <td>SD</td>\n",
       "      <td>Category 3 - State had no commercial host liab...</td>\n",
       "    </tr>\n",
       "    <tr>\n",
       "      <th>25928</th>\n",
       "      <td>2021</td>\n",
       "      <td>VA</td>\n",
       "      <td>Category 3 - State had no commercial host liab...</td>\n",
       "    </tr>\n",
       "  </tbody>\n",
       "</table>\n",
       "</div>\n",
       "      <button class=\"colab-df-convert\" onclick=\"convertToInteractive('df-333b1f19-da14-4997-991e-f998cceced7d')\"\n",
       "              title=\"Convert this dataframe to an interactive table.\"\n",
       "              style=\"display:none;\">\n",
       "        \n",
       "  <svg xmlns=\"http://www.w3.org/2000/svg\" height=\"24px\"viewBox=\"0 0 24 24\"\n",
       "       width=\"24px\">\n",
       "    <path d=\"M0 0h24v24H0V0z\" fill=\"none\"/>\n",
       "    <path d=\"M18.56 5.44l.94 2.06.94-2.06 2.06-.94-2.06-.94-.94-2.06-.94 2.06-2.06.94zm-11 1L8.5 8.5l.94-2.06 2.06-.94-2.06-.94L8.5 2.5l-.94 2.06-2.06.94zm10 10l.94 2.06.94-2.06 2.06-.94-2.06-.94-.94-2.06-.94 2.06-2.06.94z\"/><path d=\"M17.41 7.96l-1.37-1.37c-.4-.4-.92-.59-1.43-.59-.52 0-1.04.2-1.43.59L10.3 9.45l-7.72 7.72c-.78.78-.78 2.05 0 2.83L4 21.41c.39.39.9.59 1.41.59.51 0 1.02-.2 1.41-.59l7.78-7.78 2.81-2.81c.8-.78.8-2.07 0-2.86zM5.41 20L4 18.59l7.72-7.72 1.47 1.35L5.41 20z\"/>\n",
       "  </svg>\n",
       "      </button>\n",
       "      \n",
       "  <style>\n",
       "    .colab-df-container {\n",
       "      display:flex;\n",
       "      flex-wrap:wrap;\n",
       "      gap: 12px;\n",
       "    }\n",
       "\n",
       "    .colab-df-convert {\n",
       "      background-color: #E8F0FE;\n",
       "      border: none;\n",
       "      border-radius: 50%;\n",
       "      cursor: pointer;\n",
       "      display: none;\n",
       "      fill: #1967D2;\n",
       "      height: 32px;\n",
       "      padding: 0 0 0 0;\n",
       "      width: 32px;\n",
       "    }\n",
       "\n",
       "    .colab-df-convert:hover {\n",
       "      background-color: #E2EBFA;\n",
       "      box-shadow: 0px 1px 2px rgba(60, 64, 67, 0.3), 0px 1px 3px 1px rgba(60, 64, 67, 0.15);\n",
       "      fill: #174EA6;\n",
       "    }\n",
       "\n",
       "    [theme=dark] .colab-df-convert {\n",
       "      background-color: #3B4455;\n",
       "      fill: #D2E3FC;\n",
       "    }\n",
       "\n",
       "    [theme=dark] .colab-df-convert:hover {\n",
       "      background-color: #434B5C;\n",
       "      box-shadow: 0px 1px 3px 1px rgba(0, 0, 0, 0.15);\n",
       "      filter: drop-shadow(0px 1px 2px rgba(0, 0, 0, 0.3));\n",
       "      fill: #FFFFFF;\n",
       "    }\n",
       "  </style>\n",
       "\n",
       "      <script>\n",
       "        const buttonEl =\n",
       "          document.querySelector('#df-333b1f19-da14-4997-991e-f998cceced7d button.colab-df-convert');\n",
       "        buttonEl.style.display =\n",
       "          google.colab.kernel.accessAllowed ? 'block' : 'none';\n",
       "\n",
       "        async function convertToInteractive(key) {\n",
       "          const element = document.querySelector('#df-333b1f19-da14-4997-991e-f998cceced7d');\n",
       "          const dataTable =\n",
       "            await google.colab.kernel.invokeFunction('convertToInteractive',\n",
       "                                                     [key], {});\n",
       "          if (!dataTable) return;\n",
       "\n",
       "          const docLinkHtml = 'Like what you see? Visit the ' +\n",
       "            '<a target=\"_blank\" href=https://colab.research.google.com/notebooks/data_table.ipynb>data table notebook</a>'\n",
       "            + ' to learn more about interactive tables.';\n",
       "          element.innerHTML = '';\n",
       "          dataTable['output_type'] = 'display_data';\n",
       "          await google.colab.output.renderOutput(dataTable, element);\n",
       "          const docLink = document.createElement('div');\n",
       "          docLink.innerHTML = docLinkHtml;\n",
       "          element.appendChild(docLink);\n",
       "        }\n",
       "      </script>\n",
       "    </div>\n",
       "  </div>\n",
       "  "
      ],
      "text/plain": [
       "       YearEnd LocationAbbr                                          DataValue\n",
       "28015     2011           DE  Category 3 - State had no commercial host liab...\n",
       "16683     2011           KS  Category 3 - State had no commercial host liab...\n",
       "27664     2011           MD  Category 3 - State had no commercial host liab...\n",
       "30850     2011           NV  Category 3 - State had no commercial host liab...\n",
       "29435     2011           SD  Category 3 - State had no commercial host liab...\n",
       "16139     2011           VA  Category 3 - State had no commercial host liab...\n",
       "27113     2015           DE  Category 3 - State had no commercial host liab...\n",
       "21063     2015           KS  Category 3 - State had no commercial host liab...\n",
       "18916     2015           MD  Category 3 - State had no commercial host liab...\n",
       "26138     2015           NV  Category 3 - State had no commercial host liab...\n",
       "25975     2015           SD  Category 3 - State had no commercial host liab...\n",
       "28568     2015           VA  Category 3 - State had no commercial host liab...\n",
       "22670     2021           DE  Category 3 - State had no commercial host liab...\n",
       "29219     2021           KS  Category 3 - State had no commercial host liab...\n",
       "20477     2021           MD  Category 3 - State had no commercial host liab...\n",
       "21644     2021           NV  Category 3 - State had no commercial host liab...\n",
       "24256     2021           SD  Category 3 - State had no commercial host liab...\n",
       "25928     2021           VA  Category 3 - State had no commercial host liab..."
      ]
     },
     "execution_count": 123,
     "metadata": {},
     "output_type": "execute_result"
    }
   ],
   "source": [
    "dram_liability=dram_liability.sort_values(by=[\"YearEnd\", \"LocationAbbr\"])\n",
    "dram_liability[dram_liability[\"DataValue\"] == \"Category 3 - State had no commercial host liability\"]"
   ]
  },
  {
   "cell_type": "code",
   "execution_count": null,
   "metadata": {
    "id": "tJLYW9Pkdk53"
   },
   "outputs": [],
   "source": []
  },
  {
   "cell_type": "code",
   "execution_count": null,
   "metadata": {
    "colab": {
     "base_uri": "https://localhost:8080/"
    },
    "executionInfo": {
     "elapsed": 198,
     "status": "ok",
     "timestamp": 1680748870675,
     "user": {
      "displayName": "Nandita Radhakrishnan",
      "userId": "10971545244259237440"
     },
     "user_tz": 420
    },
    "id": "XlssMiVyayew",
    "outputId": "86b4ea40-1d81-4b71-a22e-f77251709de1"
   },
   "outputs": [
    {
     "data": {
      "text/plain": [
       "Number               4499\n",
       "Age-adjusted Rate    4499\n",
       "Crude Rate           4499\n",
       "Name: DataValueType, dtype: int64"
      ]
     },
     "execution_count": 96,
     "metadata": {},
     "output_type": "execute_result"
    }
   ],
   "source": [
    "liver_disease[\"DataValueType\"].value_counts()"
   ]
  },
  {
   "cell_type": "code",
   "execution_count": null,
   "metadata": {
    "colab": {
     "base_uri": "https://localhost:8080/"
    },
    "executionInfo": {
     "elapsed": 173,
     "status": "ok",
     "timestamp": 1680748872365,
     "user": {
      "displayName": "Nandita Radhakrishnan",
      "userId": "10971545244259237440"
     },
     "user_tz": 420
    },
    "id": "BOzIbg3J1rS9",
    "outputId": "db224d52-8054-4279-b5c0-d658ef9ed261"
   },
   "outputs": [
    {
     "data": {
      "text/plain": [
       "2012    409\n",
       "2013    409\n",
       "2010    409\n",
       "2017    409\n",
       "2011    409\n",
       "2020    409\n",
       "2014    409\n",
       "2016    409\n",
       "2015    409\n",
       "2018    409\n",
       "2019    409\n",
       "Name: YearEnd, dtype: int64"
      ]
     },
     "execution_count": 97,
     "metadata": {},
     "output_type": "execute_result"
    }
   ],
   "source": [
    "liver_disease = liver_disease[liver_disease[\"DataValueType\"] == \"Age-adjusted Rate\"]\n",
    "liver_disease[\"YearEnd\"].value_counts()"
   ]
  },
  {
   "cell_type": "code",
   "execution_count": null,
   "metadata": {
    "id": "GhYMGi0P1rX8"
   },
   "outputs": [],
   "source": [
    "liver_disease_2019 = liver_disease[liver_disease[\"YearEnd\"] == 2019]\n",
    "liver_disease_2010 = liver_disease[liver_disease[\"YearEnd\"] == 2010]"
   ]
  },
  {
   "cell_type": "code",
   "execution_count": null,
   "metadata": {
    "colab": {
     "base_uri": "https://localhost:8080/"
    },
    "executionInfo": {
     "elapsed": 169,
     "status": "ok",
     "timestamp": 1680748873835,
     "user": {
      "displayName": "Nandita Radhakrishnan",
      "userId": "10971545244259237440"
     },
     "user_tz": 420
    },
    "id": "xv0kQ-LQ3v80",
    "outputId": "b35d618d-3c72-4496-d7f2-d68b4fdd167a"
   },
   "outputs": [
    {
     "data": {
      "text/plain": [
       "2015    54\n",
       "2017    54\n",
       "2019    54\n",
       "2012    54\n",
       "2020    54\n",
       "2021    54\n",
       "Name: YearEnd, dtype: int64"
      ]
     },
     "execution_count": 99,
     "metadata": {},
     "output_type": "execute_result"
    }
   ],
   "source": [
    "excise_tax_wine[\"YearEnd\"].value_counts()"
   ]
  },
  {
   "cell_type": "code",
   "execution_count": null,
   "metadata": {
    "colab": {
     "base_uri": "https://localhost:8080/",
     "height": 523
    },
    "executionInfo": {
     "elapsed": 215,
     "status": "ok",
     "timestamp": 1680748875306,
     "user": {
      "displayName": "Nandita Radhakrishnan",
      "userId": "10971545244259237440"
     },
     "user_tz": 420
    },
    "id": "3Ubf1jNU7Nqz",
    "outputId": "218ba81d-3ff3-43ab-da79-268659304c1a"
   },
   "outputs": [
    {
     "data": {
      "text/html": [
       "\n",
       "  <div id=\"df-031de45d-1a74-42b7-bb7e-cfab10b614d8\">\n",
       "    <div class=\"colab-df-container\">\n",
       "      <div>\n",
       "<style scoped>\n",
       "    .dataframe tbody tr th:only-of-type {\n",
       "        vertical-align: middle;\n",
       "    }\n",
       "\n",
       "    .dataframe tbody tr th {\n",
       "        vertical-align: top;\n",
       "    }\n",
       "\n",
       "    .dataframe thead th {\n",
       "        text-align: right;\n",
       "    }\n",
       "</style>\n",
       "<table border=\"1\" class=\"dataframe\">\n",
       "  <thead>\n",
       "    <tr style=\"text-align: right;\">\n",
       "      <th></th>\n",
       "      <th>YearStart</th>\n",
       "      <th>YearEnd</th>\n",
       "      <th>LocationAbbr</th>\n",
       "      <th>Question</th>\n",
       "      <th>DataValueUnit</th>\n",
       "      <th>DataValueType</th>\n",
       "      <th>DataValue</th>\n",
       "      <th>DataValueAlt</th>\n",
       "      <th>DatavalueFootnote</th>\n",
       "      <th>LowConfidenceLimit</th>\n",
       "      <th>HighConfidenceLimit</th>\n",
       "      <th>StratificationCategory1</th>\n",
       "      <th>Stratification1</th>\n",
       "    </tr>\n",
       "  </thead>\n",
       "  <tbody>\n",
       "    <tr>\n",
       "      <th>195</th>\n",
       "      <td>2012</td>\n",
       "      <td>2012</td>\n",
       "      <td>NM</td>\n",
       "      <td>Chronic liver disease mortality</td>\n",
       "      <td>cases per 100,000</td>\n",
       "      <td>Age-adjusted Rate</td>\n",
       "      <td>NaN</td>\n",
       "      <td>NaN</td>\n",
       "      <td>Data not shown because of too few respondents ...</td>\n",
       "      <td>NaN</td>\n",
       "      <td>NaN</td>\n",
       "      <td>Race/Ethnicity</td>\n",
       "      <td>Asian or Pacific Islander</td>\n",
       "    </tr>\n",
       "    <tr>\n",
       "      <th>202</th>\n",
       "      <td>2013</td>\n",
       "      <td>2013</td>\n",
       "      <td>MA</td>\n",
       "      <td>Chronic liver disease mortality</td>\n",
       "      <td>cases per 100,000</td>\n",
       "      <td>Age-adjusted Rate</td>\n",
       "      <td>6.9</td>\n",
       "      <td>6.9</td>\n",
       "      <td>NaN</td>\n",
       "      <td>4.5</td>\n",
       "      <td>10.2</td>\n",
       "      <td>Race/Ethnicity</td>\n",
       "      <td>Hispanic</td>\n",
       "    </tr>\n",
       "    <tr>\n",
       "      <th>205</th>\n",
       "      <td>2012</td>\n",
       "      <td>2012</td>\n",
       "      <td>CT</td>\n",
       "      <td>Chronic liver disease mortality</td>\n",
       "      <td>cases per 100,000</td>\n",
       "      <td>Age-adjusted Rate</td>\n",
       "      <td>7.9</td>\n",
       "      <td>7.9</td>\n",
       "      <td>NaN</td>\n",
       "      <td>6.9</td>\n",
       "      <td>8.8</td>\n",
       "      <td>Race/Ethnicity</td>\n",
       "      <td>White, non-Hispanic</td>\n",
       "    </tr>\n",
       "    <tr>\n",
       "      <th>207</th>\n",
       "      <td>2010</td>\n",
       "      <td>2010</td>\n",
       "      <td>OH</td>\n",
       "      <td>Chronic liver disease mortality</td>\n",
       "      <td>cases per 100,000</td>\n",
       "      <td>Age-adjusted Rate</td>\n",
       "      <td>12.9</td>\n",
       "      <td>12.9</td>\n",
       "      <td>NaN</td>\n",
       "      <td>12.0</td>\n",
       "      <td>13.8</td>\n",
       "      <td>Gender</td>\n",
       "      <td>Male</td>\n",
       "    </tr>\n",
       "    <tr>\n",
       "      <th>209</th>\n",
       "      <td>2013</td>\n",
       "      <td>2013</td>\n",
       "      <td>MN</td>\n",
       "      <td>Chronic liver disease mortality</td>\n",
       "      <td>cases per 100,000</td>\n",
       "      <td>Age-adjusted Rate</td>\n",
       "      <td>43.3</td>\n",
       "      <td>43.3</td>\n",
       "      <td>NaN</td>\n",
       "      <td>27.7</td>\n",
       "      <td>64.4</td>\n",
       "      <td>Race/Ethnicity</td>\n",
       "      <td>American Indian or Alaska Native</td>\n",
       "    </tr>\n",
       "  </tbody>\n",
       "</table>\n",
       "</div>\n",
       "      <button class=\"colab-df-convert\" onclick=\"convertToInteractive('df-031de45d-1a74-42b7-bb7e-cfab10b614d8')\"\n",
       "              title=\"Convert this dataframe to an interactive table.\"\n",
       "              style=\"display:none;\">\n",
       "        \n",
       "  <svg xmlns=\"http://www.w3.org/2000/svg\" height=\"24px\"viewBox=\"0 0 24 24\"\n",
       "       width=\"24px\">\n",
       "    <path d=\"M0 0h24v24H0V0z\" fill=\"none\"/>\n",
       "    <path d=\"M18.56 5.44l.94 2.06.94-2.06 2.06-.94-2.06-.94-.94-2.06-.94 2.06-2.06.94zm-11 1L8.5 8.5l.94-2.06 2.06-.94-2.06-.94L8.5 2.5l-.94 2.06-2.06.94zm10 10l.94 2.06.94-2.06 2.06-.94-2.06-.94-.94-2.06-.94 2.06-2.06.94z\"/><path d=\"M17.41 7.96l-1.37-1.37c-.4-.4-.92-.59-1.43-.59-.52 0-1.04.2-1.43.59L10.3 9.45l-7.72 7.72c-.78.78-.78 2.05 0 2.83L4 21.41c.39.39.9.59 1.41.59.51 0 1.02-.2 1.41-.59l7.78-7.78 2.81-2.81c.8-.78.8-2.07 0-2.86zM5.41 20L4 18.59l7.72-7.72 1.47 1.35L5.41 20z\"/>\n",
       "  </svg>\n",
       "      </button>\n",
       "      \n",
       "  <style>\n",
       "    .colab-df-container {\n",
       "      display:flex;\n",
       "      flex-wrap:wrap;\n",
       "      gap: 12px;\n",
       "    }\n",
       "\n",
       "    .colab-df-convert {\n",
       "      background-color: #E8F0FE;\n",
       "      border: none;\n",
       "      border-radius: 50%;\n",
       "      cursor: pointer;\n",
       "      display: none;\n",
       "      fill: #1967D2;\n",
       "      height: 32px;\n",
       "      padding: 0 0 0 0;\n",
       "      width: 32px;\n",
       "    }\n",
       "\n",
       "    .colab-df-convert:hover {\n",
       "      background-color: #E2EBFA;\n",
       "      box-shadow: 0px 1px 2px rgba(60, 64, 67, 0.3), 0px 1px 3px 1px rgba(60, 64, 67, 0.15);\n",
       "      fill: #174EA6;\n",
       "    }\n",
       "\n",
       "    [theme=dark] .colab-df-convert {\n",
       "      background-color: #3B4455;\n",
       "      fill: #D2E3FC;\n",
       "    }\n",
       "\n",
       "    [theme=dark] .colab-df-convert:hover {\n",
       "      background-color: #434B5C;\n",
       "      box-shadow: 0px 1px 3px 1px rgba(0, 0, 0, 0.15);\n",
       "      filter: drop-shadow(0px 1px 2px rgba(0, 0, 0, 0.3));\n",
       "      fill: #FFFFFF;\n",
       "    }\n",
       "  </style>\n",
       "\n",
       "      <script>\n",
       "        const buttonEl =\n",
       "          document.querySelector('#df-031de45d-1a74-42b7-bb7e-cfab10b614d8 button.colab-df-convert');\n",
       "        buttonEl.style.display =\n",
       "          google.colab.kernel.accessAllowed ? 'block' : 'none';\n",
       "\n",
       "        async function convertToInteractive(key) {\n",
       "          const element = document.querySelector('#df-031de45d-1a74-42b7-bb7e-cfab10b614d8');\n",
       "          const dataTable =\n",
       "            await google.colab.kernel.invokeFunction('convertToInteractive',\n",
       "                                                     [key], {});\n",
       "          if (!dataTable) return;\n",
       "\n",
       "          const docLinkHtml = 'Like what you see? Visit the ' +\n",
       "            '<a target=\"_blank\" href=https://colab.research.google.com/notebooks/data_table.ipynb>data table notebook</a>'\n",
       "            + ' to learn more about interactive tables.';\n",
       "          element.innerHTML = '';\n",
       "          dataTable['output_type'] = 'display_data';\n",
       "          await google.colab.output.renderOutput(dataTable, element);\n",
       "          const docLink = document.createElement('div');\n",
       "          docLink.innerHTML = docLinkHtml;\n",
       "          element.appendChild(docLink);\n",
       "        }\n",
       "      </script>\n",
       "    </div>\n",
       "  </div>\n",
       "  "
      ],
      "text/plain": [
       "     YearStart  YearEnd LocationAbbr                         Question  \\\n",
       "195       2012     2012           NM  Chronic liver disease mortality   \n",
       "202       2013     2013           MA  Chronic liver disease mortality   \n",
       "205       2012     2012           CT  Chronic liver disease mortality   \n",
       "207       2010     2010           OH  Chronic liver disease mortality   \n",
       "209       2013     2013           MN  Chronic liver disease mortality   \n",
       "\n",
       "         DataValueUnit      DataValueType DataValue  DataValueAlt  \\\n",
       "195  cases per 100,000  Age-adjusted Rate       NaN           NaN   \n",
       "202  cases per 100,000  Age-adjusted Rate       6.9           6.9   \n",
       "205  cases per 100,000  Age-adjusted Rate       7.9           7.9   \n",
       "207  cases per 100,000  Age-adjusted Rate      12.9          12.9   \n",
       "209  cases per 100,000  Age-adjusted Rate      43.3          43.3   \n",
       "\n",
       "                                     DatavalueFootnote  LowConfidenceLimit  \\\n",
       "195  Data not shown because of too few respondents ...                 NaN   \n",
       "202                                                NaN                 4.5   \n",
       "205                                                NaN                 6.9   \n",
       "207                                                NaN                12.0   \n",
       "209                                                NaN                27.7   \n",
       "\n",
       "     HighConfidenceLimit StratificationCategory1  \\\n",
       "195                  NaN          Race/Ethnicity   \n",
       "202                 10.2          Race/Ethnicity   \n",
       "205                  8.8          Race/Ethnicity   \n",
       "207                 13.8                  Gender   \n",
       "209                 64.4          Race/Ethnicity   \n",
       "\n",
       "                      Stratification1  \n",
       "195         Asian or Pacific Islander  \n",
       "202                          Hispanic  \n",
       "205               White, non-Hispanic  \n",
       "207                              Male  \n",
       "209  American Indian or Alaska Native  "
      ]
     },
     "execution_count": 100,
     "metadata": {},
     "output_type": "execute_result"
    }
   ],
   "source": [
    "liver_disease.head()"
   ]
  },
  {
   "cell_type": "code",
   "execution_count": null,
   "metadata": {
    "colab": {
     "base_uri": "https://localhost:8080/",
     "height": 299
    },
    "executionInfo": {
     "elapsed": 235,
     "status": "ok",
     "timestamp": 1680750092342,
     "user": {
      "displayName": "Nandita Radhakrishnan",
      "userId": "10971545244259237440"
     },
     "user_tz": 420
    },
    "id": "ZRBalOrG7htB",
    "outputId": "e7418fef-2b23-4ae9-ade3-d5cfd434cafe"
   },
   "outputs": [
    {
     "data": {
      "text/html": [
       "\n",
       "  <div id=\"df-a40487fa-d7da-46f8-bf26-0e9a6d671b4b\">\n",
       "    <div class=\"colab-df-container\">\n",
       "      <div>\n",
       "<style scoped>\n",
       "    .dataframe tbody tr th:only-of-type {\n",
       "        vertical-align: middle;\n",
       "    }\n",
       "\n",
       "    .dataframe tbody tr th {\n",
       "        vertical-align: top;\n",
       "    }\n",
       "\n",
       "    .dataframe thead th {\n",
       "        text-align: right;\n",
       "    }\n",
       "</style>\n",
       "<table border=\"1\" class=\"dataframe\">\n",
       "  <thead>\n",
       "    <tr style=\"text-align: right;\">\n",
       "      <th>YearEnd</th>\n",
       "      <th>2010</th>\n",
       "      <th>2011</th>\n",
       "      <th>2012</th>\n",
       "      <th>2013</th>\n",
       "      <th>2014</th>\n",
       "      <th>2015</th>\n",
       "      <th>2016</th>\n",
       "      <th>2017</th>\n",
       "      <th>2018</th>\n",
       "      <th>2019</th>\n",
       "      <th>2020</th>\n",
       "      <th>change</th>\n",
       "    </tr>\n",
       "    <tr>\n",
       "      <th>LocationAbbr</th>\n",
       "      <th></th>\n",
       "      <th></th>\n",
       "      <th></th>\n",
       "      <th></th>\n",
       "      <th></th>\n",
       "      <th></th>\n",
       "      <th></th>\n",
       "      <th></th>\n",
       "      <th></th>\n",
       "      <th></th>\n",
       "      <th></th>\n",
       "      <th></th>\n",
       "    </tr>\n",
       "  </thead>\n",
       "  <tbody>\n",
       "    <tr>\n",
       "      <th>US</th>\n",
       "      <td>10640.900000</td>\n",
       "      <td>11220.833333</td>\n",
       "      <td>11666.666667</td>\n",
       "      <td>12149.566667</td>\n",
       "      <td>12730.800000</td>\n",
       "      <td>13449.766667</td>\n",
       "      <td>13522.733333</td>\n",
       "      <td>13922.233333</td>\n",
       "      <td>14287.400000</td>\n",
       "      <td>14794.266667</td>\n",
       "      <td>17223.666667</td>\n",
       "      <td>6582.766667</td>\n",
       "    </tr>\n",
       "    <tr>\n",
       "      <th>TX</th>\n",
       "      <td>416.557143</td>\n",
       "      <td>447.804762</td>\n",
       "      <td>477.409524</td>\n",
       "      <td>493.947619</td>\n",
       "      <td>532.304762</td>\n",
       "      <td>555.900000</td>\n",
       "      <td>561.147619</td>\n",
       "      <td>593.376190</td>\n",
       "      <td>600.457143</td>\n",
       "      <td>630.157143</td>\n",
       "      <td>712.780952</td>\n",
       "      <td>296.223810</td>\n",
       "    </tr>\n",
       "    <tr>\n",
       "      <th>CA</th>\n",
       "      <td>544.275000</td>\n",
       "      <td>579.754167</td>\n",
       "      <td>594.295833</td>\n",
       "      <td>611.604167</td>\n",
       "      <td>635.004167</td>\n",
       "      <td>687.637500</td>\n",
       "      <td>669.191667</td>\n",
       "      <td>675.295833</td>\n",
       "      <td>683.337500</td>\n",
       "      <td>706.625000</td>\n",
       "      <td>782.716667</td>\n",
       "      <td>238.441667</td>\n",
       "    </tr>\n",
       "    <tr>\n",
       "      <th>FL</th>\n",
       "      <td>418.466667</td>\n",
       "      <td>375.890476</td>\n",
       "      <td>436.233333</td>\n",
       "      <td>449.100000</td>\n",
       "      <td>512.233333</td>\n",
       "      <td>519.077778</td>\n",
       "      <td>468.004762</td>\n",
       "      <td>448.580952</td>\n",
       "      <td>484.690476</td>\n",
       "      <td>462.785714</td>\n",
       "      <td>542.728571</td>\n",
       "      <td>124.261905</td>\n",
       "    </tr>\n",
       "    <tr>\n",
       "      <th>GA</th>\n",
       "      <td>152.246667</td>\n",
       "      <td>132.133333</td>\n",
       "      <td>177.926667</td>\n",
       "      <td>183.346667</td>\n",
       "      <td>160.383333</td>\n",
       "      <td>171.722222</td>\n",
       "      <td>173.333333</td>\n",
       "      <td>196.477778</td>\n",
       "      <td>200.711111</td>\n",
       "      <td>181.785714</td>\n",
       "      <td>251.644444</td>\n",
       "      <td>99.397778</td>\n",
       "    </tr>\n",
       "  </tbody>\n",
       "</table>\n",
       "</div>\n",
       "      <button class=\"colab-df-convert\" onclick=\"convertToInteractive('df-a40487fa-d7da-46f8-bf26-0e9a6d671b4b')\"\n",
       "              title=\"Convert this dataframe to an interactive table.\"\n",
       "              style=\"display:none;\">\n",
       "        \n",
       "  <svg xmlns=\"http://www.w3.org/2000/svg\" height=\"24px\"viewBox=\"0 0 24 24\"\n",
       "       width=\"24px\">\n",
       "    <path d=\"M0 0h24v24H0V0z\" fill=\"none\"/>\n",
       "    <path d=\"M18.56 5.44l.94 2.06.94-2.06 2.06-.94-2.06-.94-.94-2.06-.94 2.06-2.06.94zm-11 1L8.5 8.5l.94-2.06 2.06-.94-2.06-.94L8.5 2.5l-.94 2.06-2.06.94zm10 10l.94 2.06.94-2.06 2.06-.94-2.06-.94-.94-2.06-.94 2.06-2.06.94z\"/><path d=\"M17.41 7.96l-1.37-1.37c-.4-.4-.92-.59-1.43-.59-.52 0-1.04.2-1.43.59L10.3 9.45l-7.72 7.72c-.78.78-.78 2.05 0 2.83L4 21.41c.39.39.9.59 1.41.59.51 0 1.02-.2 1.41-.59l7.78-7.78 2.81-2.81c.8-.78.8-2.07 0-2.86zM5.41 20L4 18.59l7.72-7.72 1.47 1.35L5.41 20z\"/>\n",
       "  </svg>\n",
       "      </button>\n",
       "      \n",
       "  <style>\n",
       "    .colab-df-container {\n",
       "      display:flex;\n",
       "      flex-wrap:wrap;\n",
       "      gap: 12px;\n",
       "    }\n",
       "\n",
       "    .colab-df-convert {\n",
       "      background-color: #E8F0FE;\n",
       "      border: none;\n",
       "      border-radius: 50%;\n",
       "      cursor: pointer;\n",
       "      display: none;\n",
       "      fill: #1967D2;\n",
       "      height: 32px;\n",
       "      padding: 0 0 0 0;\n",
       "      width: 32px;\n",
       "    }\n",
       "\n",
       "    .colab-df-convert:hover {\n",
       "      background-color: #E2EBFA;\n",
       "      box-shadow: 0px 1px 2px rgba(60, 64, 67, 0.3), 0px 1px 3px 1px rgba(60, 64, 67, 0.15);\n",
       "      fill: #174EA6;\n",
       "    }\n",
       "\n",
       "    [theme=dark] .colab-df-convert {\n",
       "      background-color: #3B4455;\n",
       "      fill: #D2E3FC;\n",
       "    }\n",
       "\n",
       "    [theme=dark] .colab-df-convert:hover {\n",
       "      background-color: #434B5C;\n",
       "      box-shadow: 0px 1px 3px 1px rgba(0, 0, 0, 0.15);\n",
       "      filter: drop-shadow(0px 1px 2px rgba(0, 0, 0, 0.3));\n",
       "      fill: #FFFFFF;\n",
       "    }\n",
       "  </style>\n",
       "\n",
       "      <script>\n",
       "        const buttonEl =\n",
       "          document.querySelector('#df-a40487fa-d7da-46f8-bf26-0e9a6d671b4b button.colab-df-convert');\n",
       "        buttonEl.style.display =\n",
       "          google.colab.kernel.accessAllowed ? 'block' : 'none';\n",
       "\n",
       "        async function convertToInteractive(key) {\n",
       "          const element = document.querySelector('#df-a40487fa-d7da-46f8-bf26-0e9a6d671b4b');\n",
       "          const dataTable =\n",
       "            await google.colab.kernel.invokeFunction('convertToInteractive',\n",
       "                                                     [key], {});\n",
       "          if (!dataTable) return;\n",
       "\n",
       "          const docLinkHtml = 'Like what you see? Visit the ' +\n",
       "            '<a target=\"_blank\" href=https://colab.research.google.com/notebooks/data_table.ipynb>data table notebook</a>'\n",
       "            + ' to learn more about interactive tables.';\n",
       "          element.innerHTML = '';\n",
       "          dataTable['output_type'] = 'display_data';\n",
       "          await google.colab.output.renderOutput(dataTable, element);\n",
       "          const docLink = document.createElement('div');\n",
       "          docLink.innerHTML = docLinkHtml;\n",
       "          element.appendChild(docLink);\n",
       "        }\n",
       "      </script>\n",
       "    </div>\n",
       "  </div>\n",
       "  "
      ],
      "text/plain": [
       "YearEnd               2010          2011          2012          2013  \\\n",
       "LocationAbbr                                                           \n",
       "US            10640.900000  11220.833333  11666.666667  12149.566667   \n",
       "TX              416.557143    447.804762    477.409524    493.947619   \n",
       "CA              544.275000    579.754167    594.295833    611.604167   \n",
       "FL              418.466667    375.890476    436.233333    449.100000   \n",
       "GA              152.246667    132.133333    177.926667    183.346667   \n",
       "\n",
       "YearEnd               2014          2015          2016          2017  \\\n",
       "LocationAbbr                                                           \n",
       "US            12730.800000  13449.766667  13522.733333  13922.233333   \n",
       "TX              532.304762    555.900000    561.147619    593.376190   \n",
       "CA              635.004167    687.637500    669.191667    675.295833   \n",
       "FL              512.233333    519.077778    468.004762    448.580952   \n",
       "GA              160.383333    171.722222    173.333333    196.477778   \n",
       "\n",
       "YearEnd               2018          2019          2020       change  \n",
       "LocationAbbr                                                         \n",
       "US            14287.400000  14794.266667  17223.666667  6582.766667  \n",
       "TX              600.457143    630.157143    712.780952   296.223810  \n",
       "CA              683.337500    706.625000    782.716667   238.441667  \n",
       "FL              484.690476    462.785714    542.728571   124.261905  \n",
       "GA              200.711111    181.785714    251.644444    99.397778  "
      ]
     },
     "execution_count": 128,
     "metadata": {},
     "output_type": "execute_result"
    }
   ],
   "source": [
    "liver_disease_pivot = liver_disease.pivot_table(columns='YearEnd', index='LocationAbbr', values='DataValueAlt')\n",
    "liver_disease_pivot[\"change\"] = liver_disease_pivot[2020] - liver_disease_pivot[2010]\n",
    "liver_disease_pivot = liver_disease_pivot.sort_values(by=[\"change\"], ascending=False)\n",
    "liver_disease_pivot.head()"
   ]
  },
  {
   "cell_type": "code",
   "execution_count": null,
   "metadata": {
    "colab": {
     "base_uri": "https://localhost:8080/"
    },
    "executionInfo": {
     "elapsed": 152,
     "status": "ok",
     "timestamp": 1680748877031,
     "user": {
      "displayName": "Nandita Radhakrishnan",
      "userId": "10971545244259237440"
     },
     "user_tz": 420
    },
    "id": "XioEYMzT7hxD",
    "outputId": "3a0d9893-419f-453d-dacf-b6fe135e6f98"
   },
   "outputs": [
    {
     "data": {
      "text/plain": [
       "(52, 12)"
      ]
     },
     "execution_count": 102,
     "metadata": {},
     "output_type": "execute_result"
    }
   ],
   "source": [
    "liver_disease_pivot.shape"
   ]
  },
  {
   "cell_type": "code",
   "execution_count": null,
   "metadata": {
    "id": "a8G24nk73wQz"
   },
   "outputs": [],
   "source": [
    "excise_pivot = excise_tax_beer.pivot_table(columns='YearEnd', index='LocationAbbr', values='DataValueAlt')\n",
    "excise_pivot[\"change\"] = excise_pivot[2021] - excise_pivot[2012]\n",
    "excise_pivot = excise_pivot.sort_values(by=[2021], ascending=False)"
   ]
  },
  {
   "cell_type": "code",
   "execution_count": null,
   "metadata": {
    "colab": {
     "base_uri": "https://localhost:8080/"
    },
    "executionInfo": {
     "elapsed": 8,
     "status": "ok",
     "timestamp": 1680749021848,
     "user": {
      "displayName": "Nandita Radhakrishnan",
      "userId": "10971545244259237440"
     },
     "user_tz": 420
    },
    "id": "6IZD8zpK3wWO",
    "outputId": "81f5e90e-d4b1-4e59-de38-f4a4f02785ac"
   },
   "outputs": [
    {
     "data": {
      "text/plain": [
       "(50, 7)"
      ]
     },
     "execution_count": 108,
     "metadata": {},
     "output_type": "execute_result"
    }
   ],
   "source": [
    "excise_pivot.shape"
   ]
  },
  {
   "cell_type": "code",
   "execution_count": null,
   "metadata": {
    "colab": {
     "base_uri": "https://localhost:8080/",
     "height": 1000
    },
    "executionInfo": {
     "elapsed": 872,
     "status": "ok",
     "timestamp": 1680749023616,
     "user": {
      "displayName": "Nandita Radhakrishnan",
      "userId": "10971545244259237440"
     },
     "user_tz": 420
    },
    "id": "3iJ1YLD97ggx",
    "outputId": "5b2a170d-cbc6-49e5-f7a6-3248c1f1e76a"
   },
   "outputs": [
    {
     "data": {
      "text/html": [
       "\n",
       "  <div id=\"df-e66d08d5-c472-4de0-a2ee-49ec61292f97\">\n",
       "    <div class=\"colab-df-container\">\n",
       "      <div>\n",
       "<style scoped>\n",
       "    .dataframe tbody tr th:only-of-type {\n",
       "        vertical-align: middle;\n",
       "    }\n",
       "\n",
       "    .dataframe tbody tr th {\n",
       "        vertical-align: top;\n",
       "    }\n",
       "\n",
       "    .dataframe thead th {\n",
       "        text-align: right;\n",
       "    }\n",
       "</style>\n",
       "<table border=\"1\" class=\"dataframe\">\n",
       "  <thead>\n",
       "    <tr style=\"text-align: right;\">\n",
       "      <th>YearEnd</th>\n",
       "      <th>2012</th>\n",
       "      <th>2015</th>\n",
       "      <th>2017</th>\n",
       "      <th>2019</th>\n",
       "      <th>2020</th>\n",
       "      <th>2021</th>\n",
       "      <th>change</th>\n",
       "    </tr>\n",
       "    <tr>\n",
       "      <th>LocationAbbr</th>\n",
       "      <th></th>\n",
       "      <th></th>\n",
       "      <th></th>\n",
       "      <th></th>\n",
       "      <th></th>\n",
       "      <th></th>\n",
       "      <th></th>\n",
       "    </tr>\n",
       "  </thead>\n",
       "  <tbody>\n",
       "    <tr>\n",
       "      <th>TN</th>\n",
       "      <td>0.14</td>\n",
       "      <td>1.29</td>\n",
       "      <td>1.29</td>\n",
       "      <td>1.29</td>\n",
       "      <td>1.29</td>\n",
       "      <td>1.29</td>\n",
       "      <td>1.15</td>\n",
       "    </tr>\n",
       "    <tr>\n",
       "      <th>AK</th>\n",
       "      <td>1.07</td>\n",
       "      <td>1.07</td>\n",
       "      <td>1.07</td>\n",
       "      <td>1.07</td>\n",
       "      <td>1.07</td>\n",
       "      <td>1.07</td>\n",
       "      <td>0.00</td>\n",
       "    </tr>\n",
       "    <tr>\n",
       "      <th>AL</th>\n",
       "      <td>1.05</td>\n",
       "      <td>1.05</td>\n",
       "      <td>1.05</td>\n",
       "      <td>1.05</td>\n",
       "      <td>1.05</td>\n",
       "      <td>1.05</td>\n",
       "      <td>0.00</td>\n",
       "    </tr>\n",
       "    <tr>\n",
       "      <th>GA</th>\n",
       "      <td>1.01</td>\n",
       "      <td>1.01</td>\n",
       "      <td>1.01</td>\n",
       "      <td>1.01</td>\n",
       "      <td>1.01</td>\n",
       "      <td>1.01</td>\n",
       "      <td>0.00</td>\n",
       "    </tr>\n",
       "    <tr>\n",
       "      <th>HI</th>\n",
       "      <td>0.93</td>\n",
       "      <td>0.93</td>\n",
       "      <td>0.93</td>\n",
       "      <td>0.93</td>\n",
       "      <td>0.93</td>\n",
       "      <td>0.93</td>\n",
       "      <td>0.00</td>\n",
       "    </tr>\n",
       "    <tr>\n",
       "      <th>SC</th>\n",
       "      <td>0.77</td>\n",
       "      <td>0.77</td>\n",
       "      <td>0.77</td>\n",
       "      <td>0.77</td>\n",
       "      <td>0.77</td>\n",
       "      <td>0.77</td>\n",
       "      <td>0.00</td>\n",
       "    </tr>\n",
       "    <tr>\n",
       "      <th>WA</th>\n",
       "      <td>0.76</td>\n",
       "      <td>0.76</td>\n",
       "      <td>0.76</td>\n",
       "      <td>0.76</td>\n",
       "      <td>0.76</td>\n",
       "      <td>0.76</td>\n",
       "      <td>0.00</td>\n",
       "    </tr>\n",
       "    <tr>\n",
       "      <th>NC</th>\n",
       "      <td>0.62</td>\n",
       "      <td>0.62</td>\n",
       "      <td>0.62</td>\n",
       "      <td>0.62</td>\n",
       "      <td>0.62</td>\n",
       "      <td>0.62</td>\n",
       "      <td>0.00</td>\n",
       "    </tr>\n",
       "    <tr>\n",
       "      <th>FL</th>\n",
       "      <td>0.48</td>\n",
       "      <td>0.48</td>\n",
       "      <td>0.48</td>\n",
       "      <td>0.48</td>\n",
       "      <td>0.48</td>\n",
       "      <td>0.48</td>\n",
       "      <td>0.00</td>\n",
       "    </tr>\n",
       "    <tr>\n",
       "      <th>MS</th>\n",
       "      <td>0.43</td>\n",
       "      <td>0.43</td>\n",
       "      <td>0.43</td>\n",
       "      <td>0.43</td>\n",
       "      <td>0.43</td>\n",
       "      <td>0.43</td>\n",
       "      <td>0.00</td>\n",
       "    </tr>\n",
       "    <tr>\n",
       "      <th>NM</th>\n",
       "      <td>0.41</td>\n",
       "      <td>0.41</td>\n",
       "      <td>0.41</td>\n",
       "      <td>0.41</td>\n",
       "      <td>0.41</td>\n",
       "      <td>0.41</td>\n",
       "      <td>0.00</td>\n",
       "    </tr>\n",
       "    <tr>\n",
       "      <th>OK</th>\n",
       "      <td>0.40</td>\n",
       "      <td>0.40</td>\n",
       "      <td>0.40</td>\n",
       "      <td>0.40</td>\n",
       "      <td>0.40</td>\n",
       "      <td>0.40</td>\n",
       "      <td>0.00</td>\n",
       "    </tr>\n",
       "    <tr>\n",
       "      <th>LA</th>\n",
       "      <td>0.32</td>\n",
       "      <td>0.32</td>\n",
       "      <td>0.40</td>\n",
       "      <td>0.40</td>\n",
       "      <td>0.40</td>\n",
       "      <td>0.40</td>\n",
       "      <td>0.08</td>\n",
       "    </tr>\n",
       "    <tr>\n",
       "      <th>ME</th>\n",
       "      <td>0.35</td>\n",
       "      <td>0.35</td>\n",
       "      <td>0.35</td>\n",
       "      <td>0.35</td>\n",
       "      <td>0.35</td>\n",
       "      <td>0.35</td>\n",
       "      <td>0.00</td>\n",
       "    </tr>\n",
       "    <tr>\n",
       "      <th>NE</th>\n",
       "      <td>0.31</td>\n",
       "      <td>0.31</td>\n",
       "      <td>0.31</td>\n",
       "      <td>0.31</td>\n",
       "      <td>0.31</td>\n",
       "      <td>0.31</td>\n",
       "      <td>0.00</td>\n",
       "    </tr>\n",
       "    <tr>\n",
       "      <th>NH</th>\n",
       "      <td>0.30</td>\n",
       "      <td>0.30</td>\n",
       "      <td>0.30</td>\n",
       "      <td>0.30</td>\n",
       "      <td>0.30</td>\n",
       "      <td>0.30</td>\n",
       "      <td>0.00</td>\n",
       "    </tr>\n",
       "    <tr>\n",
       "      <th>VA</th>\n",
       "      <td>0.28</td>\n",
       "      <td>0.28</td>\n",
       "      <td>0.28</td>\n",
       "      <td>0.28</td>\n",
       "      <td>0.28</td>\n",
       "      <td>0.28</td>\n",
       "      <td>0.00</td>\n",
       "    </tr>\n",
       "    <tr>\n",
       "      <th>VT</th>\n",
       "      <td>0.27</td>\n",
       "      <td>0.27</td>\n",
       "      <td>0.27</td>\n",
       "      <td>0.27</td>\n",
       "      <td>0.27</td>\n",
       "      <td>0.27</td>\n",
       "      <td>0.00</td>\n",
       "    </tr>\n",
       "    <tr>\n",
       "      <th>SD</th>\n",
       "      <td>0.27</td>\n",
       "      <td>0.27</td>\n",
       "      <td>0.27</td>\n",
       "      <td>0.27</td>\n",
       "      <td>0.27</td>\n",
       "      <td>0.27</td>\n",
       "      <td>0.00</td>\n",
       "    </tr>\n",
       "    <tr>\n",
       "      <th>DE</th>\n",
       "      <td>0.16</td>\n",
       "      <td>0.16</td>\n",
       "      <td>0.16</td>\n",
       "      <td>0.26</td>\n",
       "      <td>0.26</td>\n",
       "      <td>0.26</td>\n",
       "      <td>0.10</td>\n",
       "    </tr>\n",
       "    <tr>\n",
       "      <th>CT</th>\n",
       "      <td>0.24</td>\n",
       "      <td>0.24</td>\n",
       "      <td>0.24</td>\n",
       "      <td>0.24</td>\n",
       "      <td>0.24</td>\n",
       "      <td>0.24</td>\n",
       "      <td>0.00</td>\n",
       "    </tr>\n",
       "    <tr>\n",
       "      <th>AR</th>\n",
       "      <td>0.24</td>\n",
       "      <td>0.24</td>\n",
       "      <td>0.24</td>\n",
       "      <td>0.24</td>\n",
       "      <td>0.24</td>\n",
       "      <td>0.24</td>\n",
       "      <td>0.00</td>\n",
       "    </tr>\n",
       "    <tr>\n",
       "      <th>IL</th>\n",
       "      <td>0.23</td>\n",
       "      <td>0.23</td>\n",
       "      <td>0.23</td>\n",
       "      <td>0.23</td>\n",
       "      <td>0.23</td>\n",
       "      <td>0.23</td>\n",
       "      <td>0.00</td>\n",
       "    </tr>\n",
       "    <tr>\n",
       "      <th>CA</th>\n",
       "      <td>0.20</td>\n",
       "      <td>0.20</td>\n",
       "      <td>0.20</td>\n",
       "      <td>0.20</td>\n",
       "      <td>0.20</td>\n",
       "      <td>0.20</td>\n",
       "      <td>0.00</td>\n",
       "    </tr>\n",
       "    <tr>\n",
       "      <th>MI</th>\n",
       "      <td>0.20</td>\n",
       "      <td>0.20</td>\n",
       "      <td>0.20</td>\n",
       "      <td>0.20</td>\n",
       "      <td>0.20</td>\n",
       "      <td>0.20</td>\n",
       "      <td>0.00</td>\n",
       "    </tr>\n",
       "    <tr>\n",
       "      <th>IA</th>\n",
       "      <td>0.19</td>\n",
       "      <td>0.19</td>\n",
       "      <td>0.19</td>\n",
       "      <td>0.19</td>\n",
       "      <td>0.19</td>\n",
       "      <td>0.19</td>\n",
       "      <td>0.00</td>\n",
       "    </tr>\n",
       "    <tr>\n",
       "      <th>TX</th>\n",
       "      <td>0.19</td>\n",
       "      <td>0.19</td>\n",
       "      <td>0.19</td>\n",
       "      <td>0.19</td>\n",
       "      <td>0.19</td>\n",
       "      <td>0.19</td>\n",
       "      <td>0.00</td>\n",
       "    </tr>\n",
       "    <tr>\n",
       "      <th>KS</th>\n",
       "      <td>0.18</td>\n",
       "      <td>0.18</td>\n",
       "      <td>0.18</td>\n",
       "      <td>0.18</td>\n",
       "      <td>0.18</td>\n",
       "      <td>0.18</td>\n",
       "      <td>0.00</td>\n",
       "    </tr>\n",
       "    <tr>\n",
       "      <th>OH</th>\n",
       "      <td>0.18</td>\n",
       "      <td>0.18</td>\n",
       "      <td>0.18</td>\n",
       "      <td>0.18</td>\n",
       "      <td>0.18</td>\n",
       "      <td>0.18</td>\n",
       "      <td>0.00</td>\n",
       "    </tr>\n",
       "    <tr>\n",
       "      <th>WV</th>\n",
       "      <td>0.18</td>\n",
       "      <td>0.18</td>\n",
       "      <td>0.18</td>\n",
       "      <td>0.18</td>\n",
       "      <td>0.18</td>\n",
       "      <td>0.18</td>\n",
       "      <td>0.00</td>\n",
       "    </tr>\n",
       "    <tr>\n",
       "      <th>ND</th>\n",
       "      <td>0.16</td>\n",
       "      <td>0.16</td>\n",
       "      <td>0.16</td>\n",
       "      <td>0.16</td>\n",
       "      <td>0.16</td>\n",
       "      <td>0.16</td>\n",
       "      <td>0.00</td>\n",
       "    </tr>\n",
       "    <tr>\n",
       "      <th>NV</th>\n",
       "      <td>0.16</td>\n",
       "      <td>0.16</td>\n",
       "      <td>0.16</td>\n",
       "      <td>0.16</td>\n",
       "      <td>0.16</td>\n",
       "      <td>0.16</td>\n",
       "      <td>0.00</td>\n",
       "    </tr>\n",
       "    <tr>\n",
       "      <th>AZ</th>\n",
       "      <td>0.16</td>\n",
       "      <td>0.16</td>\n",
       "      <td>0.16</td>\n",
       "      <td>0.16</td>\n",
       "      <td>0.16</td>\n",
       "      <td>0.16</td>\n",
       "      <td>0.00</td>\n",
       "    </tr>\n",
       "    <tr>\n",
       "      <th>MN</th>\n",
       "      <td>0.15</td>\n",
       "      <td>0.15</td>\n",
       "      <td>0.15</td>\n",
       "      <td>0.15</td>\n",
       "      <td>0.15</td>\n",
       "      <td>0.15</td>\n",
       "      <td>0.00</td>\n",
       "    </tr>\n",
       "    <tr>\n",
       "      <th>ID</th>\n",
       "      <td>0.15</td>\n",
       "      <td>0.15</td>\n",
       "      <td>0.15</td>\n",
       "      <td>0.15</td>\n",
       "      <td>0.15</td>\n",
       "      <td>0.15</td>\n",
       "      <td>0.00</td>\n",
       "    </tr>\n",
       "    <tr>\n",
       "      <th>MT</th>\n",
       "      <td>0.14</td>\n",
       "      <td>0.14</td>\n",
       "      <td>0.14</td>\n",
       "      <td>0.14</td>\n",
       "      <td>0.14</td>\n",
       "      <td>0.14</td>\n",
       "      <td>0.00</td>\n",
       "    </tr>\n",
       "    <tr>\n",
       "      <th>NY</th>\n",
       "      <td>0.14</td>\n",
       "      <td>0.14</td>\n",
       "      <td>0.14</td>\n",
       "      <td>0.14</td>\n",
       "      <td>0.14</td>\n",
       "      <td>0.14</td>\n",
       "      <td>0.00</td>\n",
       "    </tr>\n",
       "    <tr>\n",
       "      <th>NJ</th>\n",
       "      <td>0.12</td>\n",
       "      <td>0.12</td>\n",
       "      <td>0.12</td>\n",
       "      <td>0.12</td>\n",
       "      <td>0.12</td>\n",
       "      <td>0.12</td>\n",
       "      <td>0.00</td>\n",
       "    </tr>\n",
       "    <tr>\n",
       "      <th>IN</th>\n",
       "      <td>0.12</td>\n",
       "      <td>0.12</td>\n",
       "      <td>0.12</td>\n",
       "      <td>0.12</td>\n",
       "      <td>0.12</td>\n",
       "      <td>0.12</td>\n",
       "      <td>0.00</td>\n",
       "    </tr>\n",
       "    <tr>\n",
       "      <th>MA</th>\n",
       "      <td>0.11</td>\n",
       "      <td>0.11</td>\n",
       "      <td>0.11</td>\n",
       "      <td>0.11</td>\n",
       "      <td>0.11</td>\n",
       "      <td>0.11</td>\n",
       "      <td>0.00</td>\n",
       "    </tr>\n",
       "    <tr>\n",
       "      <th>RI</th>\n",
       "      <td>0.10</td>\n",
       "      <td>0.11</td>\n",
       "      <td>0.11</td>\n",
       "      <td>0.11</td>\n",
       "      <td>0.11</td>\n",
       "      <td>0.11</td>\n",
       "      <td>0.01</td>\n",
       "    </tr>\n",
       "    <tr>\n",
       "      <th>MD</th>\n",
       "      <td>0.09</td>\n",
       "      <td>0.09</td>\n",
       "      <td>0.09</td>\n",
       "      <td>0.09</td>\n",
       "      <td>0.09</td>\n",
       "      <td>0.09</td>\n",
       "      <td>0.00</td>\n",
       "    </tr>\n",
       "    <tr>\n",
       "      <th>DC</th>\n",
       "      <td>0.09</td>\n",
       "      <td>0.09</td>\n",
       "      <td>0.09</td>\n",
       "      <td>0.09</td>\n",
       "      <td>0.09</td>\n",
       "      <td>0.09</td>\n",
       "      <td>0.00</td>\n",
       "    </tr>\n",
       "    <tr>\n",
       "      <th>PA</th>\n",
       "      <td>0.08</td>\n",
       "      <td>0.08</td>\n",
       "      <td>0.08</td>\n",
       "      <td>0.08</td>\n",
       "      <td>0.08</td>\n",
       "      <td>0.08</td>\n",
       "      <td>0.00</td>\n",
       "    </tr>\n",
       "    <tr>\n",
       "      <th>OR</th>\n",
       "      <td>0.08</td>\n",
       "      <td>0.08</td>\n",
       "      <td>0.08</td>\n",
       "      <td>0.08</td>\n",
       "      <td>0.08</td>\n",
       "      <td>0.08</td>\n",
       "      <td>0.00</td>\n",
       "    </tr>\n",
       "    <tr>\n",
       "      <th>KY</th>\n",
       "      <td>0.08</td>\n",
       "      <td>0.08</td>\n",
       "      <td>0.08</td>\n",
       "      <td>0.08</td>\n",
       "      <td>0.08</td>\n",
       "      <td>0.08</td>\n",
       "      <td>0.00</td>\n",
       "    </tr>\n",
       "    <tr>\n",
       "      <th>CO</th>\n",
       "      <td>0.08</td>\n",
       "      <td>0.08</td>\n",
       "      <td>0.08</td>\n",
       "      <td>0.08</td>\n",
       "      <td>0.08</td>\n",
       "      <td>0.08</td>\n",
       "      <td>0.00</td>\n",
       "    </tr>\n",
       "    <tr>\n",
       "      <th>WI</th>\n",
       "      <td>0.06</td>\n",
       "      <td>0.06</td>\n",
       "      <td>0.06</td>\n",
       "      <td>0.06</td>\n",
       "      <td>0.06</td>\n",
       "      <td>0.06</td>\n",
       "      <td>0.00</td>\n",
       "    </tr>\n",
       "    <tr>\n",
       "      <th>MO</th>\n",
       "      <td>0.06</td>\n",
       "      <td>0.06</td>\n",
       "      <td>0.06</td>\n",
       "      <td>0.06</td>\n",
       "      <td>0.06</td>\n",
       "      <td>0.06</td>\n",
       "      <td>0.00</td>\n",
       "    </tr>\n",
       "    <tr>\n",
       "      <th>WY</th>\n",
       "      <td>0.02</td>\n",
       "      <td>0.02</td>\n",
       "      <td>0.02</td>\n",
       "      <td>0.02</td>\n",
       "      <td>0.02</td>\n",
       "      <td>0.02</td>\n",
       "      <td>0.00</td>\n",
       "    </tr>\n",
       "  </tbody>\n",
       "</table>\n",
       "</div>\n",
       "      <button class=\"colab-df-convert\" onclick=\"convertToInteractive('df-e66d08d5-c472-4de0-a2ee-49ec61292f97')\"\n",
       "              title=\"Convert this dataframe to an interactive table.\"\n",
       "              style=\"display:none;\">\n",
       "        \n",
       "  <svg xmlns=\"http://www.w3.org/2000/svg\" height=\"24px\"viewBox=\"0 0 24 24\"\n",
       "       width=\"24px\">\n",
       "    <path d=\"M0 0h24v24H0V0z\" fill=\"none\"/>\n",
       "    <path d=\"M18.56 5.44l.94 2.06.94-2.06 2.06-.94-2.06-.94-.94-2.06-.94 2.06-2.06.94zm-11 1L8.5 8.5l.94-2.06 2.06-.94-2.06-.94L8.5 2.5l-.94 2.06-2.06.94zm10 10l.94 2.06.94-2.06 2.06-.94-2.06-.94-.94-2.06-.94 2.06-2.06.94z\"/><path d=\"M17.41 7.96l-1.37-1.37c-.4-.4-.92-.59-1.43-.59-.52 0-1.04.2-1.43.59L10.3 9.45l-7.72 7.72c-.78.78-.78 2.05 0 2.83L4 21.41c.39.39.9.59 1.41.59.51 0 1.02-.2 1.41-.59l7.78-7.78 2.81-2.81c.8-.78.8-2.07 0-2.86zM5.41 20L4 18.59l7.72-7.72 1.47 1.35L5.41 20z\"/>\n",
       "  </svg>\n",
       "      </button>\n",
       "      \n",
       "  <style>\n",
       "    .colab-df-container {\n",
       "      display:flex;\n",
       "      flex-wrap:wrap;\n",
       "      gap: 12px;\n",
       "    }\n",
       "\n",
       "    .colab-df-convert {\n",
       "      background-color: #E8F0FE;\n",
       "      border: none;\n",
       "      border-radius: 50%;\n",
       "      cursor: pointer;\n",
       "      display: none;\n",
       "      fill: #1967D2;\n",
       "      height: 32px;\n",
       "      padding: 0 0 0 0;\n",
       "      width: 32px;\n",
       "    }\n",
       "\n",
       "    .colab-df-convert:hover {\n",
       "      background-color: #E2EBFA;\n",
       "      box-shadow: 0px 1px 2px rgba(60, 64, 67, 0.3), 0px 1px 3px 1px rgba(60, 64, 67, 0.15);\n",
       "      fill: #174EA6;\n",
       "    }\n",
       "\n",
       "    [theme=dark] .colab-df-convert {\n",
       "      background-color: #3B4455;\n",
       "      fill: #D2E3FC;\n",
       "    }\n",
       "\n",
       "    [theme=dark] .colab-df-convert:hover {\n",
       "      background-color: #434B5C;\n",
       "      box-shadow: 0px 1px 3px 1px rgba(0, 0, 0, 0.15);\n",
       "      filter: drop-shadow(0px 1px 2px rgba(0, 0, 0, 0.3));\n",
       "      fill: #FFFFFF;\n",
       "    }\n",
       "  </style>\n",
       "\n",
       "      <script>\n",
       "        const buttonEl =\n",
       "          document.querySelector('#df-e66d08d5-c472-4de0-a2ee-49ec61292f97 button.colab-df-convert');\n",
       "        buttonEl.style.display =\n",
       "          google.colab.kernel.accessAllowed ? 'block' : 'none';\n",
       "\n",
       "        async function convertToInteractive(key) {\n",
       "          const element = document.querySelector('#df-e66d08d5-c472-4de0-a2ee-49ec61292f97');\n",
       "          const dataTable =\n",
       "            await google.colab.kernel.invokeFunction('convertToInteractive',\n",
       "                                                     [key], {});\n",
       "          if (!dataTable) return;\n",
       "\n",
       "          const docLinkHtml = 'Like what you see? Visit the ' +\n",
       "            '<a target=\"_blank\" href=https://colab.research.google.com/notebooks/data_table.ipynb>data table notebook</a>'\n",
       "            + ' to learn more about interactive tables.';\n",
       "          element.innerHTML = '';\n",
       "          dataTable['output_type'] = 'display_data';\n",
       "          await google.colab.output.renderOutput(dataTable, element);\n",
       "          const docLink = document.createElement('div');\n",
       "          docLink.innerHTML = docLinkHtml;\n",
       "          element.appendChild(docLink);\n",
       "        }\n",
       "      </script>\n",
       "    </div>\n",
       "  </div>\n",
       "  "
      ],
      "text/plain": [
       "YearEnd       2012  2015  2017  2019  2020  2021  change\n",
       "LocationAbbr                                            \n",
       "TN            0.14  1.29  1.29  1.29  1.29  1.29    1.15\n",
       "AK            1.07  1.07  1.07  1.07  1.07  1.07    0.00\n",
       "AL            1.05  1.05  1.05  1.05  1.05  1.05    0.00\n",
       "GA            1.01  1.01  1.01  1.01  1.01  1.01    0.00\n",
       "HI            0.93  0.93  0.93  0.93  0.93  0.93    0.00\n",
       "SC            0.77  0.77  0.77  0.77  0.77  0.77    0.00\n",
       "WA            0.76  0.76  0.76  0.76  0.76  0.76    0.00\n",
       "NC            0.62  0.62  0.62  0.62  0.62  0.62    0.00\n",
       "FL            0.48  0.48  0.48  0.48  0.48  0.48    0.00\n",
       "MS            0.43  0.43  0.43  0.43  0.43  0.43    0.00\n",
       "NM            0.41  0.41  0.41  0.41  0.41  0.41    0.00\n",
       "OK            0.40  0.40  0.40  0.40  0.40  0.40    0.00\n",
       "LA            0.32  0.32  0.40  0.40  0.40  0.40    0.08\n",
       "ME            0.35  0.35  0.35  0.35  0.35  0.35    0.00\n",
       "NE            0.31  0.31  0.31  0.31  0.31  0.31    0.00\n",
       "NH            0.30  0.30  0.30  0.30  0.30  0.30    0.00\n",
       "VA            0.28  0.28  0.28  0.28  0.28  0.28    0.00\n",
       "VT            0.27  0.27  0.27  0.27  0.27  0.27    0.00\n",
       "SD            0.27  0.27  0.27  0.27  0.27  0.27    0.00\n",
       "DE            0.16  0.16  0.16  0.26  0.26  0.26    0.10\n",
       "CT            0.24  0.24  0.24  0.24  0.24  0.24    0.00\n",
       "AR            0.24  0.24  0.24  0.24  0.24  0.24    0.00\n",
       "IL            0.23  0.23  0.23  0.23  0.23  0.23    0.00\n",
       "CA            0.20  0.20  0.20  0.20  0.20  0.20    0.00\n",
       "MI            0.20  0.20  0.20  0.20  0.20  0.20    0.00\n",
       "IA            0.19  0.19  0.19  0.19  0.19  0.19    0.00\n",
       "TX            0.19  0.19  0.19  0.19  0.19  0.19    0.00\n",
       "KS            0.18  0.18  0.18  0.18  0.18  0.18    0.00\n",
       "OH            0.18  0.18  0.18  0.18  0.18  0.18    0.00\n",
       "WV            0.18  0.18  0.18  0.18  0.18  0.18    0.00\n",
       "ND            0.16  0.16  0.16  0.16  0.16  0.16    0.00\n",
       "NV            0.16  0.16  0.16  0.16  0.16  0.16    0.00\n",
       "AZ            0.16  0.16  0.16  0.16  0.16  0.16    0.00\n",
       "MN            0.15  0.15  0.15  0.15  0.15  0.15    0.00\n",
       "ID            0.15  0.15  0.15  0.15  0.15  0.15    0.00\n",
       "MT            0.14  0.14  0.14  0.14  0.14  0.14    0.00\n",
       "NY            0.14  0.14  0.14  0.14  0.14  0.14    0.00\n",
       "NJ            0.12  0.12  0.12  0.12  0.12  0.12    0.00\n",
       "IN            0.12  0.12  0.12  0.12  0.12  0.12    0.00\n",
       "MA            0.11  0.11  0.11  0.11  0.11  0.11    0.00\n",
       "RI            0.10  0.11  0.11  0.11  0.11  0.11    0.01\n",
       "MD            0.09  0.09  0.09  0.09  0.09  0.09    0.00\n",
       "DC            0.09  0.09  0.09  0.09  0.09  0.09    0.00\n",
       "PA            0.08  0.08  0.08  0.08  0.08  0.08    0.00\n",
       "OR            0.08  0.08  0.08  0.08  0.08  0.08    0.00\n",
       "KY            0.08  0.08  0.08  0.08  0.08  0.08    0.00\n",
       "CO            0.08  0.08  0.08  0.08  0.08  0.08    0.00\n",
       "WI            0.06  0.06  0.06  0.06  0.06  0.06    0.00\n",
       "MO            0.06  0.06  0.06  0.06  0.06  0.06    0.00\n",
       "WY            0.02  0.02  0.02  0.02  0.02  0.02    0.00"
      ]
     },
     "execution_count": 109,
     "metadata": {},
     "output_type": "execute_result"
    }
   ],
   "source": [
    "excise_pivot"
   ]
  },
  {
   "cell_type": "code",
   "execution_count": null,
   "metadata": {
    "id": "5fS4jcoK7gkW"
   },
   "outputs": [],
   "source": []
  },
  {
   "cell_type": "code",
   "execution_count": null,
   "metadata": {
    "id": "hR5U4O5g7gq4"
   },
   "outputs": [],
   "source": []
  },
  {
   "cell_type": "code",
   "execution_count": null,
   "metadata": {
    "id": "TYLfj1mlYKHL"
   },
   "outputs": [],
   "source": [
    "import seaborn as sns"
   ]
  },
  {
   "cell_type": "markdown",
   "metadata": {
    "id": "vo-ZVPkefhw-"
   },
   "source": [
    "#### Geographical trends"
   ]
  },
  {
   "cell_type": "code",
   "execution_count": null,
   "metadata": {
    "id": "EEl9zJ5Oc9ZP"
   },
   "outputs": [],
   "source": [
    "cold = [\"ND\", \"WI\", \"IL\", \"AK\", \"MN\", \"MI\", \"VT\", \"MA\", \"WY\"]\n",
    "hot = [\"AL\", \"TN\", \"MS\", 'NM', 'OK', 'NC', \"MD\", \"AZ\", \"TX\"]"
   ]
  },
  {
   "cell_type": "code",
   "execution_count": null,
   "metadata": {
    "colab": {
     "base_uri": "https://localhost:8080/",
     "height": 466
    },
    "executionInfo": {
     "elapsed": 1003,
     "status": "ok",
     "timestamp": 1680682589928,
     "user": {
      "displayName": "Nandita Radhakrishnan",
      "userId": "10971545244259237440"
     },
     "user_tz": 420
    },
    "id": "BXKSAabjZfje",
    "outputId": "56b2ae65-635e-43ad-b9fb-32a4052f7647"
   },
   "outputs": [
    {
     "data": {
      "text/plain": [
       "<Axes: xlabel='YearStart', ylabel='DataValueAlt'>"
      ]
     },
     "execution_count": 60,
     "metadata": {},
     "output_type": "execute_result"
    },
    {
     "data": {
      "image/png": "[encoded data removed]",
      "text/plain": [
       "<Figure size 640x480 with 1 Axes>"
      ]
     },
     "metadata": {},
     "output_type": "display_data"
    }
   ],
   "source": [
    "cold_liver = liver_disease[liver_disease[\"LocationAbbr\"].isin(cold)]\n",
    "hot_liver = liver_disease[liver_disease[\"LocationAbbr\"].isin(hot)]"
   ]
  },
  {
   "cell_type": "code",
   "execution_count": null,
   "metadata": {
    "colab": {
     "base_uri": "https://localhost:8080/",
     "height": 466
    },
    "executionInfo": {
     "elapsed": 1407,
     "status": "ok",
     "timestamp": 1680739313299,
     "user": {
      "displayName": "Nandita Radhakrishnan",
      "userId": "10971545244259237440"
     },
     "user_tz": 420
    },
    "id": "C0U-aIFv19Z4",
    "outputId": "597911b0-6790-4a74-9f69-9c1d253e71de"
   },
   "outputs": [
    {
     "data": {
      "text/plain": [
       "<Axes: xlabel='YearStart', ylabel='DataValueAlt'>"
      ]
     },
     "execution_count": 37,
     "metadata": {},
     "output_type": "execute_result"
    },
    {
     "data": {
      "image/png": "[encoded data removed]",
      "text/plain": [
       "<Figure size 640x480 with 1 Axes>"
      ]
     },
     "metadata": {},
     "output_type": "display_data"
    }
   ],
   "source": [
    "sns.lineplot(data=liver_disease, x='YearStart', y='DataValueAlt')"
   ]
  },
  {
   "cell_type": "code",
   "execution_count": null,
   "metadata": {
    "colab": {
     "base_uri": "https://localhost:8080/",
     "height": 466
    },
    "executionInfo": {
     "elapsed": 522,
     "status": "ok",
     "timestamp": 1680682590447,
     "user": {
      "displayName": "Nandita Radhakrishnan",
      "userId": "10971545244259237440"
     },
     "user_tz": 420
    },
    "id": "4NJOZ_Clba89",
    "outputId": "d10da8e1-ce79-49c2-ad28-20a3b2710b2a"
   },
   "outputs": [
    {
     "data": {
      "text/plain": [
       "<Axes: xlabel='YearStart', ylabel='DataValueAlt'>"
      ]
     },
     "execution_count": 61,
     "metadata": {},
     "output_type": "execute_result"
    },
    {
     "data": {
      "image/png": "[encoded data removed]",
      "text/plain": [
       "<Figure size 640x480 with 1 Axes>"
      ]
     },
     "metadata": {},
     "output_type": "display_data"
    }
   ],
   "source": [
    "sns.lineplot(data=cold_liver, x='YearStart', y='DataValueAlt')"
   ]
  },
  {
   "cell_type": "code",
   "execution_count": null,
   "metadata": {
    "colab": {
     "base_uri": "https://localhost:8080/",
     "height": 466
    },
    "executionInfo": {
     "elapsed": 748,
     "status": "ok",
     "timestamp": 1680682591190,
     "user": {
      "displayName": "Nandita Radhakrishnan",
      "userId": "10971545244259237440"
     },
     "user_tz": 420
    },
    "id": "6m9olz7Qd9sh",
    "outputId": "ca1365a7-996d-4118-9e8e-e24b390fe81b"
   },
   "outputs": [
    {
     "data": {
      "text/plain": [
       "<Axes: xlabel='YearStart', ylabel='DataValueAlt'>"
      ]
     },
     "execution_count": 62,
     "metadata": {},
     "output_type": "execute_result"
    },
    {
     "data": {
      "image/png": "[encoded data removed]",
      "text/plain": [
       "<Figure size 640x480 with 1 Axes>"
      ]
     },
     "metadata": {},
     "output_type": "display_data"
    }
   ],
   "source": [
    "sns.lineplot(data=hot_liver, x='YearStart', y='DataValueAlt')"
   ]
  },
  {
   "cell_type": "code",
   "execution_count": null,
   "metadata": {
    "id": "r2ADv82HeBFt"
   },
   "outputs": [],
   "source": [
    "import plotly.express as px"
   ]
  },
  {
   "cell_type": "code",
   "execution_count": null,
   "metadata": {
    "id": "rNlJRuOpitos"
   },
   "outputs": [],
   "source": [
    "#liver_disease_by_state = liver_disease.groupby(\"LocationAbbr\").NamedAgg(age_adjusted_rate = DataValueAlt.median()"
   ]
  },
  {
   "cell_type": "code",
   "execution_count": null,
   "metadata": {
    "colab": {
     "base_uri": "https://localhost:8080/",
     "height": 542
    },
    "executionInfo": {
     "elapsed": 239,
     "status": "ok",
     "timestamp": 1680748701941,
     "user": {
      "displayName": "Nandita Radhakrishnan",
      "userId": "10971545244259237440"
     },
     "user_tz": 420
    },
    "id": "cnnRE_cHgg7P",
    "outputId": "4b7c1d47-1137-46bf-c208-e46c14586404"
   },
   "outputs": [
    {
     "data": {
      "text/html": [
       "<html>\n",
       "<head><meta charset=\"utf-8\" /></head>\n",
       "<body>\n",
       "    <div>            <script src=\"https://cdnjs.cloudflare.com/ajax/libs/mathjax/2.7.5/MathJax.js?config=TeX-AMS-MML_SVG\"></script><script type=\"text/javascript\">if (window.MathJax && window.MathJax.Hub && window.MathJax.Hub.Config) {window.MathJax.Hub.Config({SVG: {font: \"STIX-Web\"}});}</script>                <script type=\"text/javascript\">window.PlotlyConfig = {MathJaxConfig: 'local'};</script>\n",
       "        <script src=\"https://cdn.plot.ly/plotly-2.18.2.min.js\"></script>                <div id=\"c2bf16e0-23dd-469d-af0a-fbb99eebd7b0\" class=\"plotly-graph-div\" style=\"height:525px; width:100%;\"></div>            <script type=\"text/javascript\">                                    window.PLOTLYENV=window.PLOTLYENV || {};                                    if (document.getElementById(\"c2bf16e0-23dd-469d-af0a-fbb99eebd7b0\")) {                    Plotly.newPlot(                        \"c2bf16e0-23dd-469d-af0a-fbb99eebd7b0\",                        [{\"coloraxis\":\"coloraxis\",\"geo\":\"geo\",\"hovertemplate\":\"LocationAbbr=%{location}<br>change=%{z}<extra></extra>\",\"locationmode\":\"USA-states\",\"locations\":[\"WY\",\"SD\",\"NM\",\"AK\",\"MT\",\"ND\",\"UT\",\"WI\",\"CO\",\"NV\",\"MN\",\"ID\",\"MI\",\"KY\",\"MS\",\"AZ\",\"AL\",\"KS\",\"NH\",\"NE\",\"WV\",\"ME\",\"AR\",\"OR\",\"OK\",\"TN\",\"RI\",\"IN\",\"MO\",\"VT\",\"SC\",\"US\",\"NC\",\"CT\",\"GA\",\"IA\",\"MA\",\"TX\",\"CA\",\"OH\",\"LA\",\"IL\",\"DE\",\"MD\",\"VA\",\"PA\",\"HI\",\"WA\",\"FL\",\"NY\",\"NJ\",\"DC\"],\"name\":\"\",\"z\":[66.7,36.120000000000005,24.566666666666666,19.0,18.62,15.18,14.85,12.145714285714282,11.762857142857142,9.175,9.151428571428571,7.764999999999999,6.7452380952380935,6.525000000000002,6.519999999999998,6.316666666666666,6.199999999999999,6.084999999999999,5.625,5.580000000000002,5.549999999999999,5.25,5.0600000000000005,4.949999999999999,4.942857142857143,4.720000000000001,4.675000000000001,4.650000000000002,4.300000000000001,4.1000000000000005,4.000000000000002,3.9000000000000004,3.8485714285714305,3.8433333333333337,3.6766666666666667,3.5749999999999993,3.2333333333333343,3.185714285714285,3.0249999999999986,2.866666666666667,2.700000000000002,2.4571428571428573,2.2750000000000004,2.0999999999999988,1.8357142857142854,1.833333333333333,1.7800000000000002,1.25,1.2214285714285733,1.2142857142857144,0.8952380952380965,-0.6333333333333346],\"type\":\"choropleth\"}],                        {\"template\":{\"data\":{\"histogram2dcontour\":[{\"type\":\"histogram2dcontour\",\"colorbar\":{\"outlinewidth\":0,\"ticks\":\"\"},\"colorscale\":[[0.0,\"#0d0887\"],[0.1111111111111111,\"#46039f\"],[0.2222222222222222,\"#7201a8\"],[0.3333333333333333,\"#9c179e\"],[0.4444444444444444,\"#bd3786\"],[0.5555555555555556,\"#d8576b\"],[0.6666666666666666,\"#ed7953\"],[0.7777777777777778,\"#fb9f3a\"],[0.8888888888888888,\"#fdca26\"],[1.0,\"#f0f921\"]]}],\"choropleth\":[{\"type\":\"choropleth\",\"colorbar\":{\"outlinewidth\":0,\"ticks\":\"\"}}],\"histogram2d\":[{\"type\":\"histogram2d\",\"colorbar\":{\"outlinewidth\":0,\"ticks\":\"\"},\"colorscale\":[[0.0,\"#0d0887\"],[0.1111111111111111,\"#46039f\"],[0.2222222222222222,\"#7201a8\"],[0.3333333333333333,\"#9c179e\"],[0.4444444444444444,\"#bd3786\"],[0.5555555555555556,\"#d8576b\"],[0.6666666666666666,\"#ed7953\"],[0.7777777777777778,\"#fb9f3a\"],[0.8888888888888888,\"#fdca26\"],[1.0,\"#f0f921\"]]}],\"heatmap\":[{\"type\":\"heatmap\",\"colorbar\":{\"outlinewidth\":0,\"ticks\":\"\"},\"colorscale\":[[0.0,\"#0d0887\"],[0.1111111111111111,\"#46039f\"],[0.2222222222222222,\"#7201a8\"],[0.3333333333333333,\"#9c179e\"],[0.4444444444444444,\"#bd3786\"],[0.5555555555555556,\"#d8576b\"],[0.6666666666666666,\"#ed7953\"],[0.7777777777777778,\"#fb9f3a\"],[0.8888888888888888,\"#fdca26\"],[1.0,\"#f0f921\"]]}],\"heatmapgl\":[{\"type\":\"heatmapgl\",\"colorbar\":{\"outlinewidth\":0,\"ticks\":\"\"},\"colorscale\":[[0.0,\"#0d0887\"],[0.1111111111111111,\"#46039f\"],[0.2222222222222222,\"#7201a8\"],[0.3333333333333333,\"#9c179e\"],[0.4444444444444444,\"#bd3786\"],[0.5555555555555556,\"#d8576b\"],[0.6666666666666666,\"#ed7953\"],[0.7777777777777778,\"#fb9f3a\"],[0.8888888888888888,\"#fdca26\"],[1.0,\"#f0f921\"]]}],\"contourcarpet\":[{\"type\":\"contourcarpet\",\"colorbar\":{\"outlinewidth\":0,\"ticks\":\"\"}}],\"contour\":[{\"type\":\"contour\",\"colorbar\":{\"outlinewidth\":0,\"ticks\":\"\"},\"colorscale\":[[0.0,\"#0d0887\"],[0.1111111111111111,\"#46039f\"],[0.2222222222222222,\"#7201a8\"],[0.3333333333333333,\"#9c179e\"],[0.4444444444444444,\"#bd3786\"],[0.5555555555555556,\"#d8576b\"],[0.6666666666666666,\"#ed7953\"],[0.7777777777777778,\"#fb9f3a\"],[0.8888888888888888,\"#fdca26\"],[1.0,\"#f0f921\"]]}],\"surface\":[{\"type\":\"surface\",\"colorbar\":{\"outlinewidth\":0,\"ticks\":\"\"},\"colorscale\":[[0.0,\"#0d0887\"],[0.1111111111111111,\"#46039f\"],[0.2222222222222222,\"#7201a8\"],[0.3333333333333333,\"#9c179e\"],[0.4444444444444444,\"#bd3786\"],[0.5555555555555556,\"#d8576b\"],[0.6666666666666666,\"#ed7953\"],[0.7777777777777778,\"#fb9f3a\"],[0.8888888888888888,\"#fdca26\"],[1.0,\"#f0f921\"]]}],\"mesh3d\":[{\"type\":\"mesh3d\",\"colorbar\":{\"outlinewidth\":0,\"ticks\":\"\"}}],\"scatter\":[{\"fillpattern\":{\"fillmode\":\"overlay\",\"size\":10,\"solidity\":0.2},\"type\":\"scatter\"}],\"parcoords\":[{\"type\":\"parcoords\",\"line\":{\"colorbar\":{\"outlinewidth\":0,\"ticks\":\"\"}}}],\"scatterpolargl\":[{\"type\":\"scatterpolargl\",\"marker\":{\"colorbar\":{\"outlinewidth\":0,\"ticks\":\"\"}}}],\"bar\":[{\"error_x\":{\"color\":\"#2a3f5f\"},\"error_y\":{\"color\":\"#2a3f5f\"},\"marker\":{\"line\":{\"color\":\"#E5ECF6\",\"width\":0.5},\"pattern\":{\"fillmode\":\"overlay\",\"size\":10,\"solidity\":0.2}},\"type\":\"bar\"}],\"scattergeo\":[{\"type\":\"scattergeo\",\"marker\":{\"colorbar\":{\"outlinewidth\":0,\"ticks\":\"\"}}}],\"scatterpolar\":[{\"type\":\"scatterpolar\",\"marker\":{\"colorbar\":{\"outlinewidth\":0,\"ticks\":\"\"}}}],\"histogram\":[{\"marker\":{\"pattern\":{\"fillmode\":\"overlay\",\"size\":10,\"solidity\":0.2}},\"type\":\"histogram\"}],\"scattergl\":[{\"type\":\"scattergl\",\"marker\":{\"colorbar\":{\"outlinewidth\":0,\"ticks\":\"\"}}}],\"scatter3d\":[{\"type\":\"scatter3d\",\"line\":{\"colorbar\":{\"outlinewidth\":0,\"ticks\":\"\"}},\"marker\":{\"colorbar\":{\"outlinewidth\":0,\"ticks\":\"\"}}}],\"scattermapbox\":[{\"type\":\"scattermapbox\",\"marker\":{\"colorbar\":{\"outlinewidth\":0,\"ticks\":\"\"}}}],\"scatterternary\":[{\"type\":\"scatterternary\",\"marker\":{\"colorbar\":{\"outlinewidth\":0,\"ticks\":\"\"}}}],\"scattercarpet\":[{\"type\":\"scattercarpet\",\"marker\":{\"colorbar\":{\"outlinewidth\":0,\"ticks\":\"\"}}}],\"carpet\":[{\"aaxis\":{\"endlinecolor\":\"#2a3f5f\",\"gridcolor\":\"white\",\"linecolor\":\"white\",\"minorgridcolor\":\"white\",\"startlinecolor\":\"#2a3f5f\"},\"baxis\":{\"endlinecolor\":\"#2a3f5f\",\"gridcolor\":\"white\",\"linecolor\":\"white\",\"minorgridcolor\":\"white\",\"startlinecolor\":\"#2a3f5f\"},\"type\":\"carpet\"}],\"table\":[{\"cells\":{\"fill\":{\"color\":\"#EBF0F8\"},\"line\":{\"color\":\"white\"}},\"header\":{\"fill\":{\"color\":\"#C8D4E3\"},\"line\":{\"color\":\"white\"}},\"type\":\"table\"}],\"barpolar\":[{\"marker\":{\"line\":{\"color\":\"#E5ECF6\",\"width\":0.5},\"pattern\":{\"fillmode\":\"overlay\",\"size\":10,\"solidity\":0.2}},\"type\":\"barpolar\"}],\"pie\":[{\"automargin\":true,\"type\":\"pie\"}]},\"layout\":{\"autotypenumbers\":\"strict\",\"colorway\":[\"#636efa\",\"#EF553B\",\"#00cc96\",\"#ab63fa\",\"#FFA15A\",\"#19d3f3\",\"#FF6692\",\"#B6E880\",\"#FF97FF\",\"#FECB52\"],\"font\":{\"color\":\"#2a3f5f\"},\"hovermode\":\"closest\",\"hoverlabel\":{\"align\":\"left\"},\"paper_bgcolor\":\"white\",\"plot_bgcolor\":\"#E5ECF6\",\"polar\":{\"bgcolor\":\"#E5ECF6\",\"angularaxis\":{\"gridcolor\":\"white\",\"linecolor\":\"white\",\"ticks\":\"\"},\"radialaxis\":{\"gridcolor\":\"white\",\"linecolor\":\"white\",\"ticks\":\"\"}},\"ternary\":{\"bgcolor\":\"#E5ECF6\",\"aaxis\":{\"gridcolor\":\"white\",\"linecolor\":\"white\",\"ticks\":\"\"},\"baxis\":{\"gridcolor\":\"white\",\"linecolor\":\"white\",\"ticks\":\"\"},\"caxis\":{\"gridcolor\":\"white\",\"linecolor\":\"white\",\"ticks\":\"\"}},\"coloraxis\":{\"colorbar\":{\"outlinewidth\":0,\"ticks\":\"\"}},\"colorscale\":{\"sequential\":[[0.0,\"#0d0887\"],[0.1111111111111111,\"#46039f\"],[0.2222222222222222,\"#7201a8\"],[0.3333333333333333,\"#9c179e\"],[0.4444444444444444,\"#bd3786\"],[0.5555555555555556,\"#d8576b\"],[0.6666666666666666,\"#ed7953\"],[0.7777777777777778,\"#fb9f3a\"],[0.8888888888888888,\"#fdca26\"],[1.0,\"#f0f921\"]],\"sequentialminus\":[[0.0,\"#0d0887\"],[0.1111111111111111,\"#46039f\"],[0.2222222222222222,\"#7201a8\"],[0.3333333333333333,\"#9c179e\"],[0.4444444444444444,\"#bd3786\"],[0.5555555555555556,\"#d8576b\"],[0.6666666666666666,\"#ed7953\"],[0.7777777777777778,\"#fb9f3a\"],[0.8888888888888888,\"#fdca26\"],[1.0,\"#f0f921\"]],\"diverging\":[[0,\"#8e0152\"],[0.1,\"#c51b7d\"],[0.2,\"#de77ae\"],[0.3,\"#f1b6da\"],[0.4,\"#fde0ef\"],[0.5,\"#f7f7f7\"],[0.6,\"#e6f5d0\"],[0.7,\"#b8e186\"],[0.8,\"#7fbc41\"],[0.9,\"#4d9221\"],[1,\"#276419\"]]},\"xaxis\":{\"gridcolor\":\"white\",\"linecolor\":\"white\",\"ticks\":\"\",\"title\":{\"standoff\":15},\"zerolinecolor\":\"white\",\"automargin\":true,\"zerolinewidth\":2},\"yaxis\":{\"gridcolor\":\"white\",\"linecolor\":\"white\",\"ticks\":\"\",\"title\":{\"standoff\":15},\"zerolinecolor\":\"white\",\"automargin\":true,\"zerolinewidth\":2},\"scene\":{\"xaxis\":{\"backgroundcolor\":\"#E5ECF6\",\"gridcolor\":\"white\",\"linecolor\":\"white\",\"showbackground\":true,\"ticks\":\"\",\"zerolinecolor\":\"white\",\"gridwidth\":2},\"yaxis\":{\"backgroundcolor\":\"#E5ECF6\",\"gridcolor\":\"white\",\"linecolor\":\"white\",\"showbackground\":true,\"ticks\":\"\",\"zerolinecolor\":\"white\",\"gridwidth\":2},\"zaxis\":{\"backgroundcolor\":\"#E5ECF6\",\"gridcolor\":\"white\",\"linecolor\":\"white\",\"showbackground\":true,\"ticks\":\"\",\"zerolinecolor\":\"white\",\"gridwidth\":2}},\"shapedefaults\":{\"line\":{\"color\":\"#2a3f5f\"}},\"annotationdefaults\":{\"arrowcolor\":\"#2a3f5f\",\"arrowhead\":0,\"arrowwidth\":1},\"geo\":{\"bgcolor\":\"white\",\"landcolor\":\"#E5ECF6\",\"subunitcolor\":\"white\",\"showland\":true,\"showlakes\":true,\"lakecolor\":\"white\"},\"title\":{\"x\":0.05},\"mapbox\":{\"style\":\"light\"}}},\"geo\":{\"domain\":{\"x\":[0.0,1.0],\"y\":[0.0,1.0]},\"center\":{},\"scope\":\"usa\"},\"coloraxis\":{\"colorbar\":{\"title\":{\"text\":\"change\"}},\"colorscale\":[[0.0,\"#440154\"],[0.1111111111111111,\"#482878\"],[0.2222222222222222,\"#3e4989\"],[0.3333333333333333,\"#31688e\"],[0.4444444444444444,\"#26828e\"],[0.5555555555555556,\"#1f9e89\"],[0.6666666666666666,\"#35b779\"],[0.7777777777777778,\"#6ece58\"],[0.8888888888888888,\"#b5de2b\"],[1.0,\"#fde725\"]],\"cmin\":0,\"cmax\":12},\"legend\":{\"tracegroupgap\":0},\"margin\":{\"t\":60}},                        {\"responsive\": true}                    ).then(function(){\n",
       "                            \n",
       "var gd = document.getElementById('c2bf16e0-23dd-469d-af0a-fbb99eebd7b0');\n",
       "var x = new MutationObserver(function (mutations, observer) {{\n",
       "        var display = window.getComputedStyle(gd).display;\n",
       "        if (!display || display === 'none') {{\n",
       "            console.log([gd, 'removed!']);\n",
       "            Plotly.purge(gd);\n",
       "            observer.disconnect();\n",
       "        }}\n",
       "}});\n",
       "\n",
       "// Listen for the removal of the full notebook cells\n",
       "var notebookContainer = gd.closest('#notebook-container');\n",
       "if (notebookContainer) {{\n",
       "    x.observe(notebookContainer, {childList: true});\n",
       "}}\n",
       "\n",
       "// Listen for the clearing of the current output cell\n",
       "var outputEl = gd.closest('.output');\n",
       "if (outputEl) {{\n",
       "    x.observe(outputEl, {childList: true});\n",
       "}}\n",
       "\n",
       "                        })                };                            </script>        </div>\n",
       "</body>\n",
       "</html>"
      ]
     },
     "metadata": {},
     "output_type": "display_data"
    }
   ],
   "source": [
    "fig = px.choropleth(liver_disease_pivot, locations=liver_disease_pivot.index, locationmode=\"USA-states\", color='change',\n",
    "                           color_continuous_scale=\"Viridis\",\n",
    "                           range_color=(0, 12),\n",
    "                           scope=\"usa\",\n",
    "                           labels={'DataValueAlt':'CHANGE in rate'}\n",
    "                          )\n",
    "fig.show()"
   ]
  },
  {
   "cell_type": "code",
   "execution_count": null,
   "metadata": {
    "id": "01SHurmUg5I_"
   },
   "outputs": [],
   "source": []
  },
  {
   "cell_type": "markdown",
   "metadata": {
    "id": "0Vw9CVRqk-q1"
   },
   "source": [
    "to do :\n",
    "- compare geographical trends in chronic diseases -- could this correlate with pm2.5 and ozone concentrations?? - esp for asthma\n",
    "- how does income/SES affect chronic illnesses -- esp alcohol \n",
    "- multiple hypothesis testing of risk factors of chronic illnesses -- based on 'questions' column"
   ]
  },
  {
   "cell_type": "code",
   "execution_count": null,
   "metadata": {
    "colab": {
     "base_uri": "https://localhost:8080/",
     "height": 542
    },
    "executionInfo": {
     "elapsed": 214,
     "status": "ok",
     "timestamp": 1680748743928,
     "user": {
      "displayName": "Nandita Radhakrishnan",
      "userId": "10971545244259237440"
     },
     "user_tz": 420
    },
    "id": "7sv0fR-WlZfy",
    "outputId": "ef93090e-4143-41ce-d537-3495e0d66115"
   },
   "outputs": [
    {
     "data": {
      "text/html": [
       "<html>\n",
       "<head><meta charset=\"utf-8\" /></head>\n",
       "<body>\n",
       "    <div>            <script src=\"https://cdnjs.cloudflare.com/ajax/libs/mathjax/2.7.5/MathJax.js?config=TeX-AMS-MML_SVG\"></script><script type=\"text/javascript\">if (window.MathJax && window.MathJax.Hub && window.MathJax.Hub.Config) {window.MathJax.Hub.Config({SVG: {font: \"STIX-Web\"}});}</script>                <script type=\"text/javascript\">window.PlotlyConfig = {MathJaxConfig: 'local'};</script>\n",
       "        <script src=\"https://cdn.plot.ly/plotly-2.18.2.min.js\"></script>                <div id=\"d0dee6ee-822a-4f33-9ad7-cbe37777b135\" class=\"plotly-graph-div\" style=\"height:525px; width:100%;\"></div>            <script type=\"text/javascript\">                                    window.PLOTLYENV=window.PLOTLYENV || {};                                    if (document.getElementById(\"d0dee6ee-822a-4f33-9ad7-cbe37777b135\")) {                    Plotly.newPlot(                        \"d0dee6ee-822a-4f33-9ad7-cbe37777b135\",                        [{\"coloraxis\":\"coloraxis\",\"geo\":\"geo\",\"hovertemplate\":\"LocationAbbr=%{location}<br>Excise tax $=%{z}<extra></extra>\",\"locationmode\":\"USA-states\",\"locations\":[\"MD\",\"AR\",\"MI\",\"AZ\",\"CO\",\"VT\",\"RI\",\"VT\",\"VA\",\"GU\",\"IA\",\"TN\",\"UT\",\"NC\",\"NE\",\"NH\",\"WV\",\"FL\",\"MS\",\"DC\",\"IN\",\"KY\",\"NM\",\"WI\",\"MI\",\"NY\",\"IN\",\"NV\",\"AL\",\"ME\",\"OH\",\"AK\",\"GA\",\"RI\",\"NH\",\"ND\",\"OR\",\"ND\",\"CO\",\"IA\",\"NV\",\"KS\",\"AL\",\"LA\",\"IL\",\"WI\",\"MD\",\"SD\",\"OK\",\"ME\",\"NE\",\"OR\",\"GA\",\"NH\",\"PR\",\"LA\",\"NM\",\"CA\",\"CT\",\"HI\",\"IA\",\"PA\",\"MT\",\"AK\",\"TN\",\"MO\",\"AL\",\"MN\",\"AZ\",\"NC\",\"WA\",\"VI\",\"SC\",\"MA\",\"VA\",\"WY\",\"OR\",\"HI\",\"KS\",\"TN\",\"NY\",\"ID\",\"TX\",\"MS\",\"NJ\",\"DE\",\"DC\",\"TN\",\"NC\",\"WY\",\"MS\",\"NJ\",\"DE\",\"IN\",\"MA\",\"MN\",\"UT\",\"CO\",\"AK\",\"ND\",\"ID\",\"GU\",\"AR\",\"GA\",\"OR\",\"ND\",\"MO\",\"VI\",\"MA\",\"WV\",\"WI\",\"CA\",\"WA\",\"RI\",\"PA\",\"IA\",\"FL\",\"KY\",\"NV\",\"IL\",\"SD\",\"PR\",\"OH\",\"ID\",\"MO\",\"VI\",\"WY\",\"KY\",\"IA\",\"WV\",\"OH\",\"AR\",\"CA\",\"NH\",\"WA\",\"IN\",\"HI\",\"DE\",\"KY\",\"VA\",\"SC\",\"KS\",\"NY\",\"NJ\",\"ME\",\"DC\",\"AR\",\"MI\",\"LA\",\"UT\",\"CT\",\"SC\",\"NE\",\"MT\",\"AL\",\"OK\",\"MD\",\"GU\",\"MN\",\"FL\",\"MT\",\"AZ\",\"OR\",\"GA\",\"PR\",\"UT\",\"CO\",\"NC\",\"MS\",\"NE\",\"HI\",\"IL\",\"KS\",\"DE\",\"MD\",\"NY\",\"PR\",\"MI\",\"NV\",\"AK\",\"VA\",\"TX\",\"GU\",\"NH\",\"TN\",\"NC\",\"MO\",\"NE\",\"PA\",\"HI\",\"DC\",\"SD\",\"NM\",\"KY\",\"AR\",\"ME\",\"CO\",\"VT\",\"AZ\",\"OH\",\"VT\",\"SC\",\"MA\",\"VI\",\"GU\",\"TX\",\"GA\",\"NJ\",\"DE\",\"CT\",\"WI\",\"SD\",\"AL\",\"CA\",\"MN\",\"CA\",\"MT\",\"WA\",\"IN\",\"ME\",\"SC\",\"MN\",\"VI\",\"OK\",\"WV\",\"FL\",\"PR\",\"KS\",\"ID\",\"NV\",\"CT\",\"WY\",\"NM\",\"MS\",\"AK\",\"IL\",\"MD\",\"LA\",\"WA\",\"NJ\",\"ND\",\"AK\",\"FL\",\"IA\",\"WV\",\"KS\",\"NM\",\"SD\",\"ID\",\"PA\",\"NV\",\"LA\",\"OH\",\"TN\",\"ND\",\"VT\",\"MO\",\"OK\",\"MD\",\"WI\",\"NY\",\"CO\",\"VT\",\"RI\",\"MI\",\"UT\",\"NE\",\"PA\",\"CT\",\"RI\",\"RI\",\"KY\",\"VA\",\"GA\",\"TX\",\"IL\",\"AZ\",\"WV\",\"NC\",\"OH\",\"MS\",\"DC\",\"AR\",\"MI\",\"NH\",\"CT\",\"SC\",\"TX\",\"PA\",\"MT\",\"VA\",\"IL\",\"FL\",\"OR\",\"MN\",\"MT\",\"AZ\",\"ME\",\"WY\",\"NM\",\"DC\",\"AL\",\"HI\",\"DE\",\"OK\",\"UT\",\"SD\",\"GU\",\"PR\",\"IN\",\"OK\",\"ID\",\"NY\",\"TX\",\"NJ\",\"MO\",\"VI\",\"MA\",\"LA\",\"WY\",\"WI\",\"CA\",\"MA\",\"WA\"],\"name\":\"\",\"z\":[1.5,2.5,null,3.0,2.28,null,5.4,null,null,null,null,4.4,null,null,3.75,null,null,6.5,null,1.5,2.68,1.92,6.06,3.36,null,6.44,2.68,3.6,null,null,null,12.8,1.89,3.75,null,2.5,null,2.5,2.28,null,3.6,2.5,null,3.03,8.55,3.36,1.5,3.93,5.56,null,3.75,null,1.89,null,null,3.03,6.06,3.3,5.4,5.98,null,null,null,12.8,4.4,2.0,null,5.03,3.0,null,14.25,null,2.96,4.05,null,null,null,5.98,2.5,4.4,6.44,null,2.4,null,5.5,3.75,1.5,4.4,null,null,null,5.5,4.5,2.68,4.05,5.03,null,2.28,12.8,2.5,null,null,2.5,1.89,null,2.5,2.0,null,4.05,null,3.36,3.3,14.25,5.4,null,null,6.5,1.92,3.6,8.55,3.93,null,null,null,2.0,null,null,1.92,null,null,null,2.5,3.3,null,14.25,2.68,5.98,3.75,1.92,null,2.96,2.5,6.44,5.5,null,1.5,2.5,null,3.03,null,5.4,2.96,3.75,null,null,5.56,1.5,null,5.03,6.5,null,3.0,null,1.89,null,null,2.28,null,null,3.75,5.98,8.55,2.5,4.5,1.5,6.44,null,null,3.6,12.8,null,2.4,null,null,4.4,null,2.0,3.75,null,5.98,1.5,3.93,6.06,1.92,2.5,null,2.28,null,3.0,null,null,2.96,4.05,null,null,2.4,1.89,5.5,3.75,5.94,3.36,3.93,null,3.3,5.03,3.3,null,14.25,2.68,null,2.96,5.03,null,5.56,null,6.5,null,2.5,null,3.6,5.4,null,6.06,null,12.8,8.55,1.5,3.03,14.25,5.5,2.5,12.8,6.5,null,null,2.5,6.06,3.93,null,null,3.6,2.5,null,4.4,2.5,null,2.0,5.56,1.5,3.36,6.44,2.28,null,5.4,null,null,3.75,null,5.94,5.4,5.4,1.92,null,1.89,2.4,8.55,3.0,null,null,null,null,1.5,2.5,null,null,5.4,2.96,2.4,null,null,null,8.55,6.5,null,5.03,null,3.0,null,null,6.06,1.5,null,5.98,4.5,5.56,null,3.93,null,null,2.68,5.56,null,6.44,2.4,5.5,2.0,null,4.05,2.5,null,3.36,3.3,4.05,14.25],\"type\":\"choropleth\"}],                        {\"template\":{\"data\":{\"histogram2dcontour\":[{\"type\":\"histogram2dcontour\",\"colorbar\":{\"outlinewidth\":0,\"ticks\":\"\"},\"colorscale\":[[0.0,\"#0d0887\"],[0.1111111111111111,\"#46039f\"],[0.2222222222222222,\"#7201a8\"],[0.3333333333333333,\"#9c179e\"],[0.4444444444444444,\"#bd3786\"],[0.5555555555555556,\"#d8576b\"],[0.6666666666666666,\"#ed7953\"],[0.7777777777777778,\"#fb9f3a\"],[0.8888888888888888,\"#fdca26\"],[1.0,\"#f0f921\"]]}],\"choropleth\":[{\"type\":\"choropleth\",\"colorbar\":{\"outlinewidth\":0,\"ticks\":\"\"}}],\"histogram2d\":[{\"type\":\"histogram2d\",\"colorbar\":{\"outlinewidth\":0,\"ticks\":\"\"},\"colorscale\":[[0.0,\"#0d0887\"],[0.1111111111111111,\"#46039f\"],[0.2222222222222222,\"#7201a8\"],[0.3333333333333333,\"#9c179e\"],[0.4444444444444444,\"#bd3786\"],[0.5555555555555556,\"#d8576b\"],[0.6666666666666666,\"#ed7953\"],[0.7777777777777778,\"#fb9f3a\"],[0.8888888888888888,\"#fdca26\"],[1.0,\"#f0f921\"]]}],\"heatmap\":[{\"type\":\"heatmap\",\"colorbar\":{\"outlinewidth\":0,\"ticks\":\"\"},\"colorscale\":[[0.0,\"#0d0887\"],[0.1111111111111111,\"#46039f\"],[0.2222222222222222,\"#7201a8\"],[0.3333333333333333,\"#9c179e\"],[0.4444444444444444,\"#bd3786\"],[0.5555555555555556,\"#d8576b\"],[0.6666666666666666,\"#ed7953\"],[0.7777777777777778,\"#fb9f3a\"],[0.8888888888888888,\"#fdca26\"],[1.0,\"#f0f921\"]]}],\"heatmapgl\":[{\"type\":\"heatmapgl\",\"colorbar\":{\"outlinewidth\":0,\"ticks\":\"\"},\"colorscale\":[[0.0,\"#0d0887\"],[0.1111111111111111,\"#46039f\"],[0.2222222222222222,\"#7201a8\"],[0.3333333333333333,\"#9c179e\"],[0.4444444444444444,\"#bd3786\"],[0.5555555555555556,\"#d8576b\"],[0.6666666666666666,\"#ed7953\"],[0.7777777777777778,\"#fb9f3a\"],[0.8888888888888888,\"#fdca26\"],[1.0,\"#f0f921\"]]}],\"contourcarpet\":[{\"type\":\"contourcarpet\",\"colorbar\":{\"outlinewidth\":0,\"ticks\":\"\"}}],\"contour\":[{\"type\":\"contour\",\"colorbar\":{\"outlinewidth\":0,\"ticks\":\"\"},\"colorscale\":[[0.0,\"#0d0887\"],[0.1111111111111111,\"#46039f\"],[0.2222222222222222,\"#7201a8\"],[0.3333333333333333,\"#9c179e\"],[0.4444444444444444,\"#bd3786\"],[0.5555555555555556,\"#d8576b\"],[0.6666666666666666,\"#ed7953\"],[0.7777777777777778,\"#fb9f3a\"],[0.8888888888888888,\"#fdca26\"],[1.0,\"#f0f921\"]]}],\"surface\":[{\"type\":\"surface\",\"colorbar\":{\"outlinewidth\":0,\"ticks\":\"\"},\"colorscale\":[[0.0,\"#0d0887\"],[0.1111111111111111,\"#46039f\"],[0.2222222222222222,\"#7201a8\"],[0.3333333333333333,\"#9c179e\"],[0.4444444444444444,\"#bd3786\"],[0.5555555555555556,\"#d8576b\"],[0.6666666666666666,\"#ed7953\"],[0.7777777777777778,\"#fb9f3a\"],[0.8888888888888888,\"#fdca26\"],[1.0,\"#f0f921\"]]}],\"mesh3d\":[{\"type\":\"mesh3d\",\"colorbar\":{\"outlinewidth\":0,\"ticks\":\"\"}}],\"scatter\":[{\"fillpattern\":{\"fillmode\":\"overlay\",\"size\":10,\"solidity\":0.2},\"type\":\"scatter\"}],\"parcoords\":[{\"type\":\"parcoords\",\"line\":{\"colorbar\":{\"outlinewidth\":0,\"ticks\":\"\"}}}],\"scatterpolargl\":[{\"type\":\"scatterpolargl\",\"marker\":{\"colorbar\":{\"outlinewidth\":0,\"ticks\":\"\"}}}],\"bar\":[{\"error_x\":{\"color\":\"#2a3f5f\"},\"error_y\":{\"color\":\"#2a3f5f\"},\"marker\":{\"line\":{\"color\":\"#E5ECF6\",\"width\":0.5},\"pattern\":{\"fillmode\":\"overlay\",\"size\":10,\"solidity\":0.2}},\"type\":\"bar\"}],\"scattergeo\":[{\"type\":\"scattergeo\",\"marker\":{\"colorbar\":{\"outlinewidth\":0,\"ticks\":\"\"}}}],\"scatterpolar\":[{\"type\":\"scatterpolar\",\"marker\":{\"colorbar\":{\"outlinewidth\":0,\"ticks\":\"\"}}}],\"histogram\":[{\"marker\":{\"pattern\":{\"fillmode\":\"overlay\",\"size\":10,\"solidity\":0.2}},\"type\":\"histogram\"}],\"scattergl\":[{\"type\":\"scattergl\",\"marker\":{\"colorbar\":{\"outlinewidth\":0,\"ticks\":\"\"}}}],\"scatter3d\":[{\"type\":\"scatter3d\",\"line\":{\"colorbar\":{\"outlinewidth\":0,\"ticks\":\"\"}},\"marker\":{\"colorbar\":{\"outlinewidth\":0,\"ticks\":\"\"}}}],\"scattermapbox\":[{\"type\":\"scattermapbox\",\"marker\":{\"colorbar\":{\"outlinewidth\":0,\"ticks\":\"\"}}}],\"scatterternary\":[{\"type\":\"scatterternary\",\"marker\":{\"colorbar\":{\"outlinewidth\":0,\"ticks\":\"\"}}}],\"scattercarpet\":[{\"type\":\"scattercarpet\",\"marker\":{\"colorbar\":{\"outlinewidth\":0,\"ticks\":\"\"}}}],\"carpet\":[{\"aaxis\":{\"endlinecolor\":\"#2a3f5f\",\"gridcolor\":\"white\",\"linecolor\":\"white\",\"minorgridcolor\":\"white\",\"startlinecolor\":\"#2a3f5f\"},\"baxis\":{\"endlinecolor\":\"#2a3f5f\",\"gridcolor\":\"white\",\"linecolor\":\"white\",\"minorgridcolor\":\"white\",\"startlinecolor\":\"#2a3f5f\"},\"type\":\"carpet\"}],\"table\":[{\"cells\":{\"fill\":{\"color\":\"#EBF0F8\"},\"line\":{\"color\":\"white\"}},\"header\":{\"fill\":{\"color\":\"#C8D4E3\"},\"line\":{\"color\":\"white\"}},\"type\":\"table\"}],\"barpolar\":[{\"marker\":{\"line\":{\"color\":\"#E5ECF6\",\"width\":0.5},\"pattern\":{\"fillmode\":\"overlay\",\"size\":10,\"solidity\":0.2}},\"type\":\"barpolar\"}],\"pie\":[{\"automargin\":true,\"type\":\"pie\"}]},\"layout\":{\"autotypenumbers\":\"strict\",\"colorway\":[\"#636efa\",\"#EF553B\",\"#00cc96\",\"#ab63fa\",\"#FFA15A\",\"#19d3f3\",\"#FF6692\",\"#B6E880\",\"#FF97FF\",\"#FECB52\"],\"font\":{\"color\":\"#2a3f5f\"},\"hovermode\":\"closest\",\"hoverlabel\":{\"align\":\"left\"},\"paper_bgcolor\":\"white\",\"plot_bgcolor\":\"#E5ECF6\",\"polar\":{\"bgcolor\":\"#E5ECF6\",\"angularaxis\":{\"gridcolor\":\"white\",\"linecolor\":\"white\",\"ticks\":\"\"},\"radialaxis\":{\"gridcolor\":\"white\",\"linecolor\":\"white\",\"ticks\":\"\"}},\"ternary\":{\"bgcolor\":\"#E5ECF6\",\"aaxis\":{\"gridcolor\":\"white\",\"linecolor\":\"white\",\"ticks\":\"\"},\"baxis\":{\"gridcolor\":\"white\",\"linecolor\":\"white\",\"ticks\":\"\"},\"caxis\":{\"gridcolor\":\"white\",\"linecolor\":\"white\",\"ticks\":\"\"}},\"coloraxis\":{\"colorbar\":{\"outlinewidth\":0,\"ticks\":\"\"}},\"colorscale\":{\"sequential\":[[0.0,\"#0d0887\"],[0.1111111111111111,\"#46039f\"],[0.2222222222222222,\"#7201a8\"],[0.3333333333333333,\"#9c179e\"],[0.4444444444444444,\"#bd3786\"],[0.5555555555555556,\"#d8576b\"],[0.6666666666666666,\"#ed7953\"],[0.7777777777777778,\"#fb9f3a\"],[0.8888888888888888,\"#fdca26\"],[1.0,\"#f0f921\"]],\"sequentialminus\":[[0.0,\"#0d0887\"],[0.1111111111111111,\"#46039f\"],[0.2222222222222222,\"#7201a8\"],[0.3333333333333333,\"#9c179e\"],[0.4444444444444444,\"#bd3786\"],[0.5555555555555556,\"#d8576b\"],[0.6666666666666666,\"#ed7953\"],[0.7777777777777778,\"#fb9f3a\"],[0.8888888888888888,\"#fdca26\"],[1.0,\"#f0f921\"]],\"diverging\":[[0,\"#8e0152\"],[0.1,\"#c51b7d\"],[0.2,\"#de77ae\"],[0.3,\"#f1b6da\"],[0.4,\"#fde0ef\"],[0.5,\"#f7f7f7\"],[0.6,\"#e6f5d0\"],[0.7,\"#b8e186\"],[0.8,\"#7fbc41\"],[0.9,\"#4d9221\"],[1,\"#276419\"]]},\"xaxis\":{\"gridcolor\":\"white\",\"linecolor\":\"white\",\"ticks\":\"\",\"title\":{\"standoff\":15},\"zerolinecolor\":\"white\",\"automargin\":true,\"zerolinewidth\":2},\"yaxis\":{\"gridcolor\":\"white\",\"linecolor\":\"white\",\"ticks\":\"\",\"title\":{\"standoff\":15},\"zerolinecolor\":\"white\",\"automargin\":true,\"zerolinewidth\":2},\"scene\":{\"xaxis\":{\"backgroundcolor\":\"#E5ECF6\",\"gridcolor\":\"white\",\"linecolor\":\"white\",\"showbackground\":true,\"ticks\":\"\",\"zerolinecolor\":\"white\",\"gridwidth\":2},\"yaxis\":{\"backgroundcolor\":\"#E5ECF6\",\"gridcolor\":\"white\",\"linecolor\":\"white\",\"showbackground\":true,\"ticks\":\"\",\"zerolinecolor\":\"white\",\"gridwidth\":2},\"zaxis\":{\"backgroundcolor\":\"#E5ECF6\",\"gridcolor\":\"white\",\"linecolor\":\"white\",\"showbackground\":true,\"ticks\":\"\",\"zerolinecolor\":\"white\",\"gridwidth\":2}},\"shapedefaults\":{\"line\":{\"color\":\"#2a3f5f\"}},\"annotationdefaults\":{\"arrowcolor\":\"#2a3f5f\",\"arrowhead\":0,\"arrowwidth\":1},\"geo\":{\"bgcolor\":\"white\",\"landcolor\":\"#E5ECF6\",\"subunitcolor\":\"white\",\"showland\":true,\"showlakes\":true,\"lakecolor\":\"white\"},\"title\":{\"x\":0.05},\"mapbox\":{\"style\":\"light\"}}},\"geo\":{\"domain\":{\"x\":[0.0,1.0],\"y\":[0.0,1.0]},\"center\":{},\"scope\":\"usa\"},\"coloraxis\":{\"colorbar\":{\"title\":{\"text\":\"Excise tax $\"}},\"colorscale\":[[0.0,\"#440154\"],[0.1111111111111111,\"#482878\"],[0.2222222222222222,\"#3e4989\"],[0.3333333333333333,\"#31688e\"],[0.4444444444444444,\"#26828e\"],[0.5555555555555556,\"#1f9e89\"],[0.6666666666666666,\"#35b779\"],[0.7777777777777778,\"#6ece58\"],[0.8888888888888888,\"#b5de2b\"],[1.0,\"#fde725\"]],\"cmin\":0,\"cmax\":12},\"legend\":{\"tracegroupgap\":0},\"margin\":{\"t\":60}},                        {\"responsive\": true}                    ).then(function(){\n",
       "                            \n",
       "var gd = document.getElementById('d0dee6ee-822a-4f33-9ad7-cbe37777b135');\n",
       "var x = new MutationObserver(function (mutations, observer) {{\n",
       "        var display = window.getComputedStyle(gd).display;\n",
       "        if (!display || display === 'none') {{\n",
       "            console.log([gd, 'removed!']);\n",
       "            Plotly.purge(gd);\n",
       "            observer.disconnect();\n",
       "        }}\n",
       "}});\n",
       "\n",
       "// Listen for the removal of the full notebook cells\n",
       "var notebookContainer = gd.closest('#notebook-container');\n",
       "if (notebookContainer) {{\n",
       "    x.observe(notebookContainer, {childList: true});\n",
       "}}\n",
       "\n",
       "// Listen for the clearing of the current output cell\n",
       "var outputEl = gd.closest('.output');\n",
       "if (outputEl) {{\n",
       "    x.observe(outputEl, {childList: true});\n",
       "}}\n",
       "\n",
       "                        })                };                            </script>        </div>\n",
       "</body>\n",
       "</html>"
      ]
     },
     "metadata": {},
     "output_type": "display_data"
    }
   ],
   "source": [
    "fig2 = px.choropleth(excise_tax_spirits, locations=excise_tax_spirits['LocationAbbr'], locationmode=\"USA-states\", color='DataValueAlt',\n",
    "                           color_continuous_scale=\"Viridis\",\n",
    "                           range_color=(0, 12),\n",
    "                           scope=\"usa\",\n",
    "                           labels={'DataValueAlt':'Excise tax $'}\n",
    "                          )\n",
    "fig2.show()"
   ]
  },
  {
   "cell_type": "code",
   "execution_count": null,
   "metadata": {
    "id": "f6OX9pO64hGn"
   },
   "outputs": [],
   "source": []
  }
 ],
 "metadata": {
  "colab": {
   "authorship_tag": "ABX9TyOW/3E67SCXEP4f28MKR8DF",
   "provenance": []
  },
  "kernelspec": {
   "display_name": "Python 3",
   "name": "python3"
  },
  "language_info": {
   "name": "python"
  }
 },
 "nbformat": 4,
 "nbformat_minor": 0
}