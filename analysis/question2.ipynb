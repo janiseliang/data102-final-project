{
 "cells": [
  {
   "cell_type": "markdown",
   "metadata": {
    "user_expressions": []
   },
   "source": [
    "# Research Question 2:\n",
    "\n",
    "We use **Causal Inference** to determine any causal effect of PM2.5 concentration on COPD (chronic obstructive pulmonary disease).\n",
    "\n",
    "*resources:*\n",
    "\n",
    "* https://towardsdatascience.com/causal-inference-with-continuous-treatments-5ff691869a65\n",
    "* difference in outcomes - lab 8\n",
    "* https://www.practicalpropensityscore.com/continuous.html"
   ]
  },
  {
   "cell_type": "code",
   "execution_count": 1,
   "metadata": {},
   "outputs": [],
   "source": [
    "import pandas as pd\n",
    "import statsmodels.api as sm\n",
    "from scipy import stats\n",
    "import matplotlib.pyplot as plt\n",
    "\n",
    "PATH_TO_DATA = \"../data\"\n",
    "PATH_TO_FIGURES = \"../figures\""
   ]
  },
  {
   "cell_type": "code",
   "execution_count": 2,
   "metadata": {},
   "outputs": [
    {
     "name": "stderr",
     "output_type": "stream",
     "text": [
      "/tmp/ipykernel_56190/1892416865.py:2: DtypeWarning: Columns (10) have mixed types. Specify dtype option on import or set low_memory=False.\n",
      "  cdi = pd.read_csv(PATH_TO_DATA + '/cdi.csv')\n"
     ]
    }
   ],
   "source": [
    "# read CDI data as DataFrame\n",
    "cdi = pd.read_csv(PATH_TO_DATA + '/cdi.csv')"
   ]
  },
  {
   "cell_type": "markdown",
   "metadata": {
    "user_expressions": []
   },
   "source": [
    "## Preparing COPD and smoking datasets"
   ]
  },
  {
   "cell_type": "code",
   "execution_count": 3,
   "metadata": {},
   "outputs": [],
   "source": [
    "copd = cdi[(cdi['Topic'] == \"Chronic Obstructive Pulmonary Disease\") &\n",
    "           (cdi['Question'] == 'Prevalence of chronic obstructive pulmonary disease among adults >= 18') &\n",
    "           (cdi[\"YearStart\"].isin([2011, 2012, 2013, 2014])) &\n",
    "           (cdi[\"StratificationCategory1\"] == 'Overall') &\n",
    "           (cdi[\"DataValueType\"] == 'Age-adjusted Prevalence')]\n",
    "\n",
    "copd = copd[['YearStart', 'LocationAbbr', 'LocationDesc', 'DataValueAlt',\n",
    "             'LowConfidenceLimit', 'HighConfidenceLimit']].rename(columns={\"DataValueAlt\": \"COPD Prevalence\"})"
   ]
  },
  {
   "cell_type": "code",
   "execution_count": 4,
   "metadata": {},
   "outputs": [],
   "source": [
    "smoking = cdi[(cdi[\"Topic\"] == 'Tobacco') & (cdi[\"Question\"] == \"Current smoking among adults aged >= 18 years\") &\n",
    "              (cdi[\"YearStart\"].isin([2011, 2012, 2013, 2014])) &\n",
    "              (cdi[\"StratificationCategory1\"] == 'Overall') &\n",
    "              (cdi[\"DataValueType\"] == 'Age-adjusted Prevalence')]\n",
    "\n",
    "smoking = smoking[['YearStart', 'LocationAbbr', 'LocationDesc', 'DataValueAlt',\n",
    "             'LowConfidenceLimit', 'HighConfidenceLimit']].rename(columns={\"DataValueAlt\": \"Smoking Prevalence\"})"
   ]
  },
  {
   "cell_type": "code",
   "execution_count": 5,
   "metadata": {},
   "outputs": [
    {
     "data": {
      "text/html": [
       "<div>\n",
       "<style scoped>\n",
       "    .dataframe tbody tr th:only-of-type {\n",
       "        vertical-align: middle;\n",
       "    }\n",
       "\n",
       "    .dataframe tbody tr th {\n",
       "        vertical-align: top;\n",
       "    }\n",
       "\n",
       "    .dataframe thead th {\n",
       "        text-align: right;\n",
       "    }\n",
       "</style>\n",
       "<table border=\"1\" class=\"dataframe\">\n",
       "  <thead>\n",
       "    <tr style=\"text-align: right;\">\n",
       "      <th></th>\n",
       "      <th>abbrev</th>\n",
       "      <th>YEAR</th>\n",
       "      <th>pm25</th>\n",
       "    </tr>\n",
       "  </thead>\n",
       "  <tbody>\n",
       "    <tr>\n",
       "      <th>0</th>\n",
       "      <td>AL</td>\n",
       "      <td>2011</td>\n",
       "      <td>11.748242</td>\n",
       "    </tr>\n",
       "    <tr>\n",
       "      <th>1</th>\n",
       "      <td>AZ</td>\n",
       "      <td>2011</td>\n",
       "      <td>7.838444</td>\n",
       "    </tr>\n",
       "    <tr>\n",
       "      <th>2</th>\n",
       "      <td>AR</td>\n",
       "      <td>2011</td>\n",
       "      <td>11.059018</td>\n",
       "    </tr>\n",
       "    <tr>\n",
       "      <th>3</th>\n",
       "      <td>CA</td>\n",
       "      <td>2011</td>\n",
       "      <td>9.746000</td>\n",
       "    </tr>\n",
       "    <tr>\n",
       "      <th>4</th>\n",
       "      <td>CO</td>\n",
       "      <td>2011</td>\n",
       "      <td>5.870499</td>\n",
       "    </tr>\n",
       "  </tbody>\n",
       "</table>\n",
       "</div>"
      ],
      "text/plain": [
       "  abbrev  YEAR       pm25\n",
       "0     AL  2011  11.748242\n",
       "1     AZ  2011   7.838444\n",
       "2     AR  2011  11.059018\n",
       "3     CA  2011   9.746000\n",
       "4     CO  2011   5.870499"
      ]
     },
     "execution_count": 5,
     "metadata": {},
     "output_type": "execute_result"
    }
   ],
   "source": [
    "yearly_pm25_avg = pd.read_csv(PATH_TO_DATA + \"/yearly_pm_by_state.csv\")\n",
    "yearly_pm25_avg = yearly_pm25_avg.melt(id_vars='abbrev').rename(columns={'variable': 'YEAR', 'value': 'pm25'})\n",
    "yearly_pm25_avg.head()"
   ]
  },
  {
   "cell_type": "code",
   "execution_count": 6,
   "metadata": {},
   "outputs": [],
   "source": [
    "copd[\"YearStart\"] = copd[\"YearStart\"].astype(str)\n",
    "smoking[\"YearStart\"] = smoking[\"YearStart\"].astype(str)\n",
    "yearly_pm25_avg[\"YEAR\"] = yearly_pm25_avg[\"YEAR\"].astype(str)"
   ]
  },
  {
   "cell_type": "markdown",
   "metadata": {
    "user_expressions": []
   },
   "source": [
    "## Merging CDI and PM2.5 datasets"
   ]
  },
  {
   "cell_type": "code",
   "execution_count": 7,
   "metadata": {},
   "outputs": [],
   "source": [
    "data = yearly_pm25_avg.merge(smoking, left_on=[\"YEAR\", \"abbrev\"], right_on=['YearStart', 'LocationAbbr'], how='inner')\n",
    "data = data[[\"YEAR\", \"abbrev\", \"pm25\", \"Smoking Prevalence\"]]"
   ]
  },
  {
   "cell_type": "code",
   "execution_count": 8,
   "metadata": {},
   "outputs": [
    {
     "data": {
      "text/html": [
       "<div>\n",
       "<style scoped>\n",
       "    .dataframe tbody tr th:only-of-type {\n",
       "        vertical-align: middle;\n",
       "    }\n",
       "\n",
       "    .dataframe tbody tr th {\n",
       "        vertical-align: top;\n",
       "    }\n",
       "\n",
       "    .dataframe thead th {\n",
       "        text-align: right;\n",
       "    }\n",
       "</style>\n",
       "<table border=\"1\" class=\"dataframe\">\n",
       "  <thead>\n",
       "    <tr style=\"text-align: right;\">\n",
       "      <th></th>\n",
       "      <th>YearStart</th>\n",
       "      <th>LocationAbbr</th>\n",
       "      <th>LocationDesc</th>\n",
       "      <th>COPD Prevalence</th>\n",
       "      <th>LowConfidenceLimit</th>\n",
       "      <th>HighConfidenceLimit</th>\n",
       "      <th>YEAR</th>\n",
       "      <th>abbrev</th>\n",
       "      <th>pm25</th>\n",
       "      <th>Smoking Prevalence</th>\n",
       "    </tr>\n",
       "  </thead>\n",
       "  <tbody>\n",
       "    <tr>\n",
       "      <th>0</th>\n",
       "      <td>2011</td>\n",
       "      <td>AL</td>\n",
       "      <td>Alabama</td>\n",
       "      <td>9.3</td>\n",
       "      <td>8.4</td>\n",
       "      <td>10.2</td>\n",
       "      <td>2011</td>\n",
       "      <td>AL</td>\n",
       "      <td>11.748242</td>\n",
       "      <td>24.6</td>\n",
       "    </tr>\n",
       "    <tr>\n",
       "      <th>1</th>\n",
       "      <td>2013</td>\n",
       "      <td>AL</td>\n",
       "      <td>Alabama</td>\n",
       "      <td>9.9</td>\n",
       "      <td>8.9</td>\n",
       "      <td>11.0</td>\n",
       "      <td>2013</td>\n",
       "      <td>AL</td>\n",
       "      <td>9.714757</td>\n",
       "      <td>22.1</td>\n",
       "    </tr>\n",
       "    <tr>\n",
       "      <th>2</th>\n",
       "      <td>2012</td>\n",
       "      <td>AL</td>\n",
       "      <td>Alabama</td>\n",
       "      <td>9.3</td>\n",
       "      <td>8.5</td>\n",
       "      <td>10.2</td>\n",
       "      <td>2012</td>\n",
       "      <td>AL</td>\n",
       "      <td>11.454434</td>\n",
       "      <td>24.4</td>\n",
       "    </tr>\n",
       "    <tr>\n",
       "      <th>3</th>\n",
       "      <td>2014</td>\n",
       "      <td>AL</td>\n",
       "      <td>Alabama</td>\n",
       "      <td>9.7</td>\n",
       "      <td>8.9</td>\n",
       "      <td>10.5</td>\n",
       "      <td>2014</td>\n",
       "      <td>AL</td>\n",
       "      <td>12.506239</td>\n",
       "      <td>21.7</td>\n",
       "    </tr>\n",
       "    <tr>\n",
       "      <th>4</th>\n",
       "      <td>2012</td>\n",
       "      <td>AR</td>\n",
       "      <td>Arkansas</td>\n",
       "      <td>8.2</td>\n",
       "      <td>7.4</td>\n",
       "      <td>9.2</td>\n",
       "      <td>2012</td>\n",
       "      <td>AR</td>\n",
       "      <td>9.843660</td>\n",
       "      <td>25.7</td>\n",
       "    </tr>\n",
       "  </tbody>\n",
       "</table>\n",
       "</div>"
      ],
      "text/plain": [
       "  YearStart LocationAbbr LocationDesc  COPD Prevalence  LowConfidenceLimit  \\\n",
       "0      2011           AL      Alabama              9.3                 8.4   \n",
       "1      2013           AL      Alabama              9.9                 8.9   \n",
       "2      2012           AL      Alabama              9.3                 8.5   \n",
       "3      2014           AL      Alabama              9.7                 8.9   \n",
       "4      2012           AR     Arkansas              8.2                 7.4   \n",
       "\n",
       "   HighConfidenceLimit  YEAR abbrev       pm25  Smoking Prevalence  \n",
       "0                 10.2  2011     AL  11.748242                24.6  \n",
       "1                 11.0  2013     AL   9.714757                22.1  \n",
       "2                 10.2  2012     AL  11.454434                24.4  \n",
       "3                 10.5  2014     AL  12.506239                21.7  \n",
       "4                  9.2  2012     AR   9.843660                25.7  "
      ]
     },
     "execution_count": 8,
     "metadata": {},
     "output_type": "execute_result"
    }
   ],
   "source": [
    "df = copd.merge(data, left_on=[\"LocationAbbr\", \"YearStart\"], right_on=[\"abbrev\", \"YEAR\"], how='inner')\n",
    "df.head()"
   ]
  },
  {
   "cell_type": "code",
   "execution_count": 9,
   "metadata": {},
   "outputs": [
    {
     "data": {
      "text/html": [
       "<div>\n",
       "<style scoped>\n",
       "    .dataframe tbody tr th:only-of-type {\n",
       "        vertical-align: middle;\n",
       "    }\n",
       "\n",
       "    .dataframe tbody tr th {\n",
       "        vertical-align: top;\n",
       "    }\n",
       "\n",
       "    .dataframe thead th {\n",
       "        text-align: right;\n",
       "    }\n",
       "</style>\n",
       "<table border=\"1\" class=\"dataframe\">\n",
       "  <thead>\n",
       "    <tr style=\"text-align: right;\">\n",
       "      <th></th>\n",
       "      <th>YEAR</th>\n",
       "      <th>abbrev</th>\n",
       "      <th>pm25</th>\n",
       "      <th>smoking_prevalence</th>\n",
       "      <th>copd_prevalence</th>\n",
       "    </tr>\n",
       "  </thead>\n",
       "  <tbody>\n",
       "    <tr>\n",
       "      <th>195</th>\n",
       "      <td>2014</td>\n",
       "      <td>WY</td>\n",
       "      <td>4.797520</td>\n",
       "      <td>19.9</td>\n",
       "      <td>6.4</td>\n",
       "    </tr>\n",
       "    <tr>\n",
       "      <th>97</th>\n",
       "      <td>2013</td>\n",
       "      <td>MT</td>\n",
       "      <td>4.929152</td>\n",
       "      <td>19.6</td>\n",
       "      <td>5.9</td>\n",
       "    </tr>\n",
       "    <tr>\n",
       "      <th>193</th>\n",
       "      <td>2013</td>\n",
       "      <td>WY</td>\n",
       "      <td>5.199149</td>\n",
       "      <td>20.8</td>\n",
       "      <td>6.7</td>\n",
       "    </tr>\n",
       "    <tr>\n",
       "      <th>104</th>\n",
       "      <td>2014</td>\n",
       "      <td>ND</td>\n",
       "      <td>5.200405</td>\n",
       "      <td>20.6</td>\n",
       "      <td>4.4</td>\n",
       "    </tr>\n",
       "    <tr>\n",
       "      <th>182</th>\n",
       "      <td>2012</td>\n",
       "      <td>WA</td>\n",
       "      <td>5.418286</td>\n",
       "      <td>17.2</td>\n",
       "      <td>5.5</td>\n",
       "    </tr>\n",
       "  </tbody>\n",
       "</table>\n",
       "</div>"
      ],
      "text/plain": [
       "     YEAR abbrev      pm25  smoking_prevalence  copd_prevalence\n",
       "195  2014     WY  4.797520                19.9              6.4\n",
       "97   2013     MT  4.929152                19.6              5.9\n",
       "193  2013     WY  5.199149                20.8              6.7\n",
       "104  2014     ND  5.200405                20.6              4.4\n",
       "182  2012     WA  5.418286                17.2              5.5"
      ]
     },
     "execution_count": 9,
     "metadata": {},
     "output_type": "execute_result"
    }
   ],
   "source": [
    "data_filtered = df[[\"YEAR\", \"abbrev\", \"pm25\", \"Smoking Prevalence\", \"COPD Prevalence\"]]\n",
    "data_filtered = data_filtered.rename(columns={'Smoking Prevalence':\"smoking_prevalence\", \"COPD Prevalence\": \"copd_prevalence\"})\n",
    "data_filtered.sort_values(by='pm25').head()"
   ]
  },
  {
   "cell_type": "markdown",
   "metadata": {
    "user_expressions": []
   },
   "source": [
    "## Outcome regression with IPW"
   ]
  },
  {
   "cell_type": "code",
   "execution_count": 10,
   "metadata": {},
   "outputs": [],
   "source": [
    "def conditional_densities(data, use_confounders=True):\n",
    "    formula = \"pm25 ~ 1\"\n",
    "    if use_confounders:\n",
    "        formula += \"+ smoking_prevalence\"\n",
    "    model = sm.formula.ols(formula, data=data).fit()\n",
    "    density = stats.norm(\n",
    "        loc=model.fittedvalues,\n",
    "        scale=model.resid.std(),\n",
    "    )\n",
    "    densities = density.pdf(data[\"pm25\"])\n",
    "    densities = pd.Series(densities, index=model.fittedvalues.index)\n",
    "    return densities"
   ]
  },
  {
   "cell_type": "code",
   "execution_count": 11,
   "metadata": {},
   "outputs": [],
   "source": [
    "denominator = conditional_densities(data_filtered, use_confounders=True)\n",
    "numerator = conditional_densities(data_filtered, use_confounders=False)\n",
    "generalized_ipw = numerator / denominator"
   ]
  },
  {
   "cell_type": "code",
   "execution_count": 12,
   "metadata": {},
   "outputs": [
    {
     "data": {
      "text/plain": [
       "0      0.729269\n",
       "1      0.954873\n",
       "2      0.764066\n",
       "3      0.893179\n",
       "4      0.953540\n",
       "         ...   \n",
       "191    0.916872\n",
       "192    1.652012\n",
       "193    1.242220\n",
       "194    1.423198\n",
       "195    1.110807\n",
       "Length: 196, dtype: float64"
      ]
     },
     "execution_count": 12,
     "metadata": {},
     "output_type": "execute_result"
    }
   ],
   "source": [
    "generalized_ipw"
   ]
  },
  {
   "cell_type": "code",
   "execution_count": 13,
   "metadata": {},
   "outputs": [],
   "source": [
    "model_copd = sm.formula.wls(\n",
    "    \"copd_prevalence ~ 1 + pm25 \",\n",
    "    data=data_filtered,\n",
    "    weights=generalized_ipw,\n",
    ").fit()"
   ]
  },
  {
   "cell_type": "code",
   "execution_count": 14,
   "metadata": {},
   "outputs": [
    {
     "data": {
      "image/png": "[encoded data removed]",
      "text/plain": [
       "<Figure size 640x480 with 1 Axes>"
      ]
     },
     "metadata": {},
     "output_type": "display_data"
    }
   ],
   "source": [
    "concentration = list(range(26))\n",
    "concentration = pd.DataFrame(\n",
    "    data={\"pm25\": concentration},\n",
    "    index=concentration)\n",
    "response = model_copd.predict(concentration)\n",
    "ax = response.plot(\n",
    "    kind=\"line\",\n",
    "    xlabel=\"Increase in PM2.5 concentrations\",\n",
    "    ylabel=\"Change in COPD Prevalence\",\n",
    "    title=\"Dose-response Curve of Effect of PM2.5 on COPD\"\n",
    ")\n",
    "\n",
    "plt.savefig(PATH_TO_FIGURES + \"/IPW_graph.png\")"
   ]
  },
  {
   "cell_type": "code",
   "execution_count": 15,
   "metadata": {},
   "outputs": [
    {
     "data": {
      "text/html": [
       "<div>\n",
       "<style scoped>\n",
       "    .dataframe tbody tr th:only-of-type {\n",
       "        vertical-align: middle;\n",
       "    }\n",
       "\n",
       "    .dataframe tbody tr th {\n",
       "        vertical-align: top;\n",
       "    }\n",
       "\n",
       "    .dataframe thead th {\n",
       "        text-align: right;\n",
       "    }\n",
       "</style>\n",
       "<table border=\"1\" class=\"dataframe\">\n",
       "  <thead>\n",
       "    <tr style=\"text-align: right;\">\n",
       "      <th></th>\n",
       "      <th>0</th>\n",
       "      <th>1</th>\n",
       "    </tr>\n",
       "  </thead>\n",
       "  <tbody>\n",
       "    <tr>\n",
       "      <th>Intercept</th>\n",
       "      <td>3.827262</td>\n",
       "      <td>5.865089</td>\n",
       "    </tr>\n",
       "    <tr>\n",
       "      <th>pm25</th>\n",
       "      <td>0.037483</td>\n",
       "      <td>0.249698</td>\n",
       "    </tr>\n",
       "  </tbody>\n",
       "</table>\n",
       "</div>"
      ],
      "text/plain": [
       "                  0         1\n",
       "Intercept  3.827262  5.865089\n",
       "pm25       0.037483  0.249698"
      ]
     },
     "execution_count": 15,
     "metadata": {},
     "output_type": "execute_result"
    }
   ],
   "source": [
    "model_copd.conf_int()"
   ]
  },
  {
   "cell_type": "code",
   "execution_count": 16,
   "metadata": {},
   "outputs": [
    {
     "data": {
      "text/html": [
       "<table class=\"simpletable\">\n",
       "<caption>WLS Regression Results</caption>\n",
       "<tr>\n",
       "  <th>Dep. Variable:</th>     <td>copd_prevalence</td> <th>  R-squared:         </th> <td>   0.035</td>\n",
       "</tr>\n",
       "<tr>\n",
       "  <th>Model:</th>                   <td>WLS</td>       <th>  Adj. R-squared:    </th> <td>   0.030</td>\n",
       "</tr>\n",
       "<tr>\n",
       "  <th>Method:</th>             <td>Least Squares</td>  <th>  F-statistic:       </th> <td>   7.123</td>\n",
       "</tr>\n",
       "<tr>\n",
       "  <th>Date:</th>             <td>Fri, 12 May 2023</td> <th>  Prob (F-statistic):</th>  <td>0.00825</td>\n",
       "</tr>\n",
       "<tr>\n",
       "  <th>Time:</th>                 <td>06:23:37</td>     <th>  Log-Likelihood:    </th> <td> -356.43</td>\n",
       "</tr>\n",
       "<tr>\n",
       "  <th>No. Observations:</th>      <td>   196</td>      <th>  AIC:               </th> <td>   716.9</td>\n",
       "</tr>\n",
       "<tr>\n",
       "  <th>Df Residuals:</th>          <td>   194</td>      <th>  BIC:               </th> <td>   723.4</td>\n",
       "</tr>\n",
       "<tr>\n",
       "  <th>Df Model:</th>              <td>     1</td>      <th>                     </th>     <td> </td>   \n",
       "</tr>\n",
       "<tr>\n",
       "  <th>Covariance Type:</th>      <td>nonrobust</td>    <th>                     </th>     <td> </td>   \n",
       "</tr>\n",
       "</table>\n",
       "<table class=\"simpletable\">\n",
       "<tr>\n",
       "      <td></td>         <th>coef</th>     <th>std err</th>      <th>t</th>      <th>P>|t|</th>  <th>[0.025</th>    <th>0.975]</th>  \n",
       "</tr>\n",
       "<tr>\n",
       "  <th>Intercept</th> <td>    4.8462</td> <td>    0.517</td> <td>    9.381</td> <td> 0.000</td> <td>    3.827</td> <td>    5.865</td>\n",
       "</tr>\n",
       "<tr>\n",
       "  <th>pm25</th>      <td>    0.1436</td> <td>    0.054</td> <td>    2.669</td> <td> 0.008</td> <td>    0.037</td> <td>    0.250</td>\n",
       "</tr>\n",
       "</table>\n",
       "<table class=\"simpletable\">\n",
       "<tr>\n",
       "  <th>Omnibus:</th>       <td>29.642</td> <th>  Durbin-Watson:     </th> <td>   1.034</td>\n",
       "</tr>\n",
       "<tr>\n",
       "  <th>Prob(Omnibus):</th> <td> 0.000</td> <th>  Jarque-Bera (JB):  </th> <td>  41.991</td>\n",
       "</tr>\n",
       "<tr>\n",
       "  <th>Skew:</th>          <td> 0.890</td> <th>  Prob(JB):          </th> <td>7.62e-10</td>\n",
       "</tr>\n",
       "<tr>\n",
       "  <th>Kurtosis:</th>      <td> 4.406</td> <th>  Cond. No.          </th> <td>    47.4</td>\n",
       "</tr>\n",
       "</table><br/><br/>Notes:<br/>[1] Standard Errors assume that the covariance matrix of the errors is correctly specified."
      ],
      "text/plain": [
       "<class 'statsmodels.iolib.summary.Summary'>\n",
       "\"\"\"\n",
       "                            WLS Regression Results                            \n",
       "==============================================================================\n",
       "Dep. Variable:        copd_prevalence   R-squared:                       0.035\n",
       "Model:                            WLS   Adj. R-squared:                  0.030\n",
       "Method:                 Least Squares   F-statistic:                     7.123\n",
       "Date:                Fri, 12 May 2023   Prob (F-statistic):            0.00825\n",
       "Time:                        06:23:37   Log-Likelihood:                -356.43\n",
       "No. Observations:                 196   AIC:                             716.9\n",
       "Df Residuals:                     194   BIC:                             723.4\n",
       "Df Model:                           1                                         \n",
       "Covariance Type:            nonrobust                                         \n",
       "==============================================================================\n",
       "                 coef    std err          t      P>|t|      [0.025      0.975]\n",
       "------------------------------------------------------------------------------\n",
       "Intercept      4.8462      0.517      9.381      0.000       3.827       5.865\n",
       "pm25           0.1436      0.054      2.669      0.008       0.037       0.250\n",
       "==============================================================================\n",
       "Omnibus:                       29.642   Durbin-Watson:                   1.034\n",
       "Prob(Omnibus):                  0.000   Jarque-Bera (JB):               41.991\n",
       "Skew:                           0.890   Prob(JB):                     7.62e-10\n",
       "Kurtosis:                       4.406   Cond. No.                         47.4\n",
       "==============================================================================\n",
       "\n",
       "Notes:\n",
       "[1] Standard Errors assume that the covariance matrix of the errors is correctly specified.\n",
       "\"\"\""
      ]
     },
     "execution_count": 16,
     "metadata": {},
     "output_type": "execute_result"
    }
   ],
   "source": [
    "model_copd.summary()"
   ]
  }
 ],
 "metadata": {
  "colab": {
   "provenance": []
  },
  "kernelspec": {
   "display_name": "Python 3 (ipykernel)",
   "language": "python",
   "name": "python3"
  },
  "language_info": {
   "codemirror_mode": {
    "name": "ipython",
    "version": 3
   },
   "file_extension": ".py",
   "mimetype": "text/x-python",
   "name": "python",
   "nbconvert_exporter": "python",
   "pygments_lexer": "ipython3",
   "version": "3.10.8"
  }
 },
 "nbformat": 4,
 "nbformat_minor": 0
}
