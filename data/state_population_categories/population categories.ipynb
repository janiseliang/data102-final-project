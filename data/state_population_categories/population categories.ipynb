{
 "cells": [
  {
   "cell_type": "code",
   "execution_count": 1,
   "metadata": {
    "executionInfo": {
     "elapsed": 3581,
     "status": "ok",
     "timestamp": 1682923078280,
     "user": {
      "displayName": "Janise Liang",
      "userId": "07823039032861255410"
     },
     "user_tz": 420
    },
    "id": "L4FZbyUSLYnY"
   },
   "outputs": [],
   "source": [
    "import pandas as pd\n",
    "import numpy as np\n",
    "import matplotlib.pyplot as plt"
   ]
  },
  {
   "cell_type": "markdown",
   "metadata": {
    "id": "wjJkwHrCMUwQ"
   },
   "source": [
    "CSV data downloaded from https://www2.census.gov/programs-surveys/popest/datasets/2010-2020/state/asrh/SC-EST2020-AGESEX-CIV.csv\n",
    "\n",
    "details about the table format can be found here: https://www2.census.gov/programs-surveys/popest/technical-documentation/file-layouts/2010-2020/sc-est2020-18+pop-res.pdf"
   ]
  },
  {
   "cell_type": "code",
   "execution_count": 2,
   "metadata": {
    "executionInfo": {
     "elapsed": 150,
     "status": "ok",
     "timestamp": 1682925880744,
     "user": {
      "displayName": "Janise Liang",
      "userId": "07823039032861255410"
     },
     "user_tz": 420
    },
    "id": "g4hxfgYlcpCb"
   },
   "outputs": [],
   "source": [
    "pop_agesex_path = \"state_pop_by_agesex.csv\""
   ]
  },
  {
   "cell_type": "code",
   "execution_count": 3,
   "metadata": {
    "colab": {
     "base_uri": "https://localhost:8080/"
    },
    "executionInfo": {
     "elapsed": 3349,
     "status": "ok",
     "timestamp": 1682679087623,
     "user": {
      "displayName": "Janise Liang",
      "userId": "07823039032861255410"
     },
     "user_tz": 420
    },
    "id": "7b3ZOV22cKi1",
    "outputId": "aab77c0e-081b-49a3-c662-47070a854d1e"
   },
   "outputs": [
    {
     "name": "stderr",
     "output_type": "stream",
     "text": [
      "  % Total    % Received % Xferd  Average Speed   Time    Time     Time  Current\n",
      "                                 Dload  Upload   Total   Spent    Left  Speed\n",
      "\n",
      "  0     0    0     0    0     0      0      0 --:--:-- --:--:-- --:--:--     0\n",
      "100 15950    0 15950    0     0   126k      0 --:--:-- --:--:-- --:--:--  135k\n",
      "100 1297k    0 1297k    0     0  4723k      0 --:--:-- --:--:-- --:--:-- 4858k\n"
     ]
    }
   ],
   "source": [
    "!curl -o {pop_agesex_path} https://www2.census.gov/programs-surveys/popest/datasets/2010-2020/state/asrh/SC-EST2020-AGESEX-CIV.csv"
   ]
  },
  {
   "cell_type": "code",
   "execution_count": 4,
   "metadata": {
    "colab": {
     "base_uri": "https://localhost:8080/",
     "height": 206
    },
    "executionInfo": {
     "elapsed": 212,
     "status": "ok",
     "timestamp": 1682925892955,
     "user": {
      "displayName": "Janise Liang",
      "userId": "07823039032861255410"
     },
     "user_tz": 420
    },
    "id": "38YsVfn8LyOl",
    "outputId": "92ff1c2f-ec23-4943-c945-c4bbf4761341"
   },
   "outputs": [
    {
     "data": {
      "text/html": [
       "<div>\n",
       "<style scoped>\n",
       "    .dataframe tbody tr th:only-of-type {\n",
       "        vertical-align: middle;\n",
       "    }\n",
       "\n",
       "    .dataframe tbody tr th {\n",
       "        vertical-align: top;\n",
       "    }\n",
       "\n",
       "    .dataframe thead th {\n",
       "        text-align: right;\n",
       "    }\n",
       "</style>\n",
       "<table border=\"1\" class=\"dataframe\">\n",
       "  <thead>\n",
       "    <tr style=\"text-align: right;\">\n",
       "      <th></th>\n",
       "      <th>NAME</th>\n",
       "      <th>SEX</th>\n",
       "      <th>AGE</th>\n",
       "      <th>POPEST2014_CIV</th>\n",
       "    </tr>\n",
       "  </thead>\n",
       "  <tbody>\n",
       "    <tr>\n",
       "      <th>261</th>\n",
       "      <td>Alabama</td>\n",
       "      <td>0</td>\n",
       "      <td>0</td>\n",
       "      <td>58335</td>\n",
       "    </tr>\n",
       "    <tr>\n",
       "      <th>262</th>\n",
       "      <td>Alabama</td>\n",
       "      <td>0</td>\n",
       "      <td>1</td>\n",
       "      <td>57721</td>\n",
       "    </tr>\n",
       "    <tr>\n",
       "      <th>263</th>\n",
       "      <td>Alabama</td>\n",
       "      <td>0</td>\n",
       "      <td>2</td>\n",
       "      <td>58621</td>\n",
       "    </tr>\n",
       "    <tr>\n",
       "      <th>264</th>\n",
       "      <td>Alabama</td>\n",
       "      <td>0</td>\n",
       "      <td>3</td>\n",
       "      <td>59479</td>\n",
       "    </tr>\n",
       "    <tr>\n",
       "      <th>265</th>\n",
       "      <td>Alabama</td>\n",
       "      <td>0</td>\n",
       "      <td>4</td>\n",
       "      <td>59524</td>\n",
       "    </tr>\n",
       "  </tbody>\n",
       "</table>\n",
       "</div>"
      ],
      "text/plain": [
       "        NAME  SEX  AGE  POPEST2014_CIV\n",
       "261  Alabama    0    0           58335\n",
       "262  Alabama    0    1           57721\n",
       "263  Alabama    0    2           58621\n",
       "264  Alabama    0    3           59479\n",
       "265  Alabama    0    4           59524"
      ]
     },
     "execution_count": 4,
     "metadata": {},
     "output_type": "execute_result"
    }
   ],
   "source": [
    "data = pd.read_csv(pop_agesex_path)\n",
    "pop2014 = data[data['SUMLEV'] == 40][['NAME', 'SEX', 'AGE', 'POPEST2014_CIV']]\n",
    "pop2014.head()"
   ]
  },
  {
   "cell_type": "code",
   "execution_count": 5,
   "metadata": {},
   "outputs": [
    {
     "data": {
      "text/html": [
       "<div>\n",
       "<style scoped>\n",
       "    .dataframe tbody tr th:only-of-type {\n",
       "        vertical-align: middle;\n",
       "    }\n",
       "\n",
       "    .dataframe tbody tr th {\n",
       "        vertical-align: top;\n",
       "    }\n",
       "\n",
       "    .dataframe thead th {\n",
       "        text-align: right;\n",
       "    }\n",
       "</style>\n",
       "<table border=\"1\" class=\"dataframe\">\n",
       "  <thead>\n",
       "    <tr style=\"text-align: right;\">\n",
       "      <th></th>\n",
       "      <th>State</th>\n",
       "      <th>Postal</th>\n",
       "    </tr>\n",
       "  </thead>\n",
       "  <tbody>\n",
       "    <tr>\n",
       "      <th>0</th>\n",
       "      <td>Alabama</td>\n",
       "      <td>AL</td>\n",
       "    </tr>\n",
       "    <tr>\n",
       "      <th>1</th>\n",
       "      <td>Alaska</td>\n",
       "      <td>AK</td>\n",
       "    </tr>\n",
       "    <tr>\n",
       "      <th>2</th>\n",
       "      <td>Arizona</td>\n",
       "      <td>AZ</td>\n",
       "    </tr>\n",
       "    <tr>\n",
       "      <th>3</th>\n",
       "      <td>Arkansas</td>\n",
       "      <td>AR</td>\n",
       "    </tr>\n",
       "    <tr>\n",
       "      <th>4</th>\n",
       "      <td>California</td>\n",
       "      <td>CA</td>\n",
       "    </tr>\n",
       "  </tbody>\n",
       "</table>\n",
       "</div>"
      ],
      "text/plain": [
       "        State Postal\n",
       "0     Alabama     AL\n",
       "1      Alaska     AK\n",
       "2     Arizona     AZ\n",
       "3    Arkansas     AR\n",
       "4  California     CA"
      ]
     },
     "execution_count": 5,
     "metadata": {},
     "output_type": "execute_result"
    }
   ],
   "source": [
    "abbrevs = pd.read_csv(\"../county_to_state_aggregation/state_abbreviations.csv\")\n",
    "abbrevs.head()"
   ]
  },
  {
   "cell_type": "markdown",
   "metadata": {
    "id": "GHgLDvXKByPm"
   },
   "source": [
    "# Gender stratification"
   ]
  },
  {
   "cell_type": "code",
   "execution_count": 6,
   "metadata": {
    "colab": {
     "base_uri": "https://localhost:8080/",
     "height": 237
    },
    "executionInfo": {
     "elapsed": 743,
     "status": "ok",
     "timestamp": 1682925896765,
     "user": {
      "displayName": "Janise Liang",
      "userId": "07823039032861255410"
     },
     "user_tz": 420
    },
    "id": "zMK9fIWwNXn9",
    "outputId": "eeaa62d3-748a-42ba-8df5-a518ef88cb81"
   },
   "outputs": [
    {
     "data": {
      "text/html": [
       "<div>\n",
       "<style scoped>\n",
       "    .dataframe tbody tr th:only-of-type {\n",
       "        vertical-align: middle;\n",
       "    }\n",
       "\n",
       "    .dataframe tbody tr th {\n",
       "        vertical-align: top;\n",
       "    }\n",
       "\n",
       "    .dataframe thead th {\n",
       "        text-align: right;\n",
       "    }\n",
       "</style>\n",
       "<table border=\"1\" class=\"dataframe\">\n",
       "  <thead>\n",
       "    <tr style=\"text-align: right;\">\n",
       "      <th>SEX</th>\n",
       "      <th>male</th>\n",
       "      <th>female</th>\n",
       "    </tr>\n",
       "    <tr>\n",
       "      <th>State</th>\n",
       "      <th></th>\n",
       "      <th></th>\n",
       "    </tr>\n",
       "  </thead>\n",
       "  <tbody>\n",
       "    <tr>\n",
       "      <th>Alabama</th>\n",
       "      <td>4670522</td>\n",
       "      <td>4987132</td>\n",
       "    </tr>\n",
       "    <tr>\n",
       "      <th>Alaska</th>\n",
       "      <td>733848</td>\n",
       "      <td>696076</td>\n",
       "    </tr>\n",
       "    <tr>\n",
       "      <th>Arizona</th>\n",
       "      <td>6661362</td>\n",
       "      <td>6765100</td>\n",
       "    </tr>\n",
       "    <tr>\n",
       "      <th>Arkansas</th>\n",
       "      <td>2904282</td>\n",
       "      <td>3019690</td>\n",
       "    </tr>\n",
       "    <tr>\n",
       "      <th>California</th>\n",
       "      <td>38066644</td>\n",
       "      <td>38800530</td>\n",
       "    </tr>\n",
       "  </tbody>\n",
       "</table>\n",
       "</div>"
      ],
      "text/plain": [
       "SEX             male    female\n",
       "State                         \n",
       "Alabama      4670522   4987132\n",
       "Alaska        733848    696076\n",
       "Arizona      6661362   6765100\n",
       "Arkansas     2904282   3019690\n",
       "California  38066644  38800530"
      ]
     },
     "execution_count": 6,
     "metadata": {},
     "output_type": "execute_result"
    }
   ],
   "source": [
    "fn = lambda state_df: state_df.groupby(\"SEX\").agg({'POPEST2014_CIV': np.sum})\n",
    "gender = pop2014[pop2014[\"SEX\"] > 0].groupby([\"NAME\"]).apply(fn)\n",
    "\n",
    "gender = gender.reset_index()\n",
    "gender = gender.pivot(index=\"NAME\", columns=\"SEX\", values=\"POPEST2014_CIV\")\n",
    "\n",
    "gender.index = gender.index.rename(\"State\")\n",
    "gender = gender.rename(columns={1:'male', 2:'female'})\n",
    "\n",
    "gender.to_csv(\"state_pop_by_gender_2014.csv\")\n",
    "gender.head()"
   ]
  },
  {
   "cell_type": "markdown",
   "metadata": {
    "id": "pPHKXv5YB0lT"
   },
   "source": [
    "# Age stratification"
   ]
  },
  {
   "cell_type": "code",
   "execution_count": 7,
   "metadata": {
    "colab": {
     "base_uri": "https://localhost:8080/",
     "height": 237
    },
    "executionInfo": {
     "elapsed": 1933,
     "status": "ok",
     "timestamp": 1682925903716,
     "user": {
      "displayName": "Janise Liang",
      "userId": "07823039032861255410"
     },
     "user_tz": 420
    },
    "id": "cbrz4gH8Nlxi",
    "outputId": "1c4eb3c1-d949-45e7-e55c-25fce32364a2"
   },
   "outputs": [
    {
     "data": {
      "text/html": [
       "<div>\n",
       "<style scoped>\n",
       "    .dataframe tbody tr th:only-of-type {\n",
       "        vertical-align: middle;\n",
       "    }\n",
       "\n",
       "    .dataframe tbody tr th {\n",
       "        vertical-align: top;\n",
       "    }\n",
       "\n",
       "    .dataframe thead th {\n",
       "        text-align: right;\n",
       "    }\n",
       "</style>\n",
       "<table border=\"1\" class=\"dataframe\">\n",
       "  <thead>\n",
       "    <tr style=\"text-align: right;\">\n",
       "      <th></th>\n",
       "      <th>18-44</th>\n",
       "      <th>45-64</th>\n",
       "      <th>65-74</th>\n",
       "      <th>75+</th>\n",
       "    </tr>\n",
       "    <tr>\n",
       "      <th>State</th>\n",
       "      <th></th>\n",
       "      <th></th>\n",
       "      <th></th>\n",
       "      <th></th>\n",
       "    </tr>\n",
       "  </thead>\n",
       "  <tbody>\n",
       "    <tr>\n",
       "      <th>Alabama</th>\n",
       "      <td>3393670</td>\n",
       "      <td>2567578</td>\n",
       "      <td>868434</td>\n",
       "      <td>615550</td>\n",
       "    </tr>\n",
       "    <tr>\n",
       "      <th>Alaska</th>\n",
       "      <td>531160</td>\n",
       "      <td>384772</td>\n",
       "      <td>94312</td>\n",
       "      <td>45696</td>\n",
       "    </tr>\n",
       "    <tr>\n",
       "      <th>Arizona</th>\n",
       "      <td>4802234</td>\n",
       "      <td>3253942</td>\n",
       "      <td>1236350</td>\n",
       "      <td>884624</td>\n",
       "    </tr>\n",
       "    <tr>\n",
       "      <th>Arkansas</th>\n",
       "      <td>2069850</td>\n",
       "      <td>1507858</td>\n",
       "      <td>539356</td>\n",
       "      <td>392032</td>\n",
       "    </tr>\n",
       "    <tr>\n",
       "      <th>California</th>\n",
       "      <td>29348878</td>\n",
       "      <td>19348970</td>\n",
       "      <td>5615772</td>\n",
       "      <td>4281790</td>\n",
       "    </tr>\n",
       "  </tbody>\n",
       "</table>\n",
       "</div>"
      ],
      "text/plain": [
       "               18-44     45-64    65-74      75+\n",
       "State                                           \n",
       "Alabama      3393670   2567578   868434   615550\n",
       "Alaska        531160    384772    94312    45696\n",
       "Arizona      4802234   3253942  1236350   884624\n",
       "Arkansas     2069850   1507858   539356   392032\n",
       "California  29348878  19348970  5615772  4281790"
      ]
     },
     "execution_count": 7,
     "metadata": {},
     "output_type": "execute_result"
    }
   ],
   "source": [
    "age_groups = [18, 45, 65, 75, 100]\n",
    "fn = lambda state_df: state_df.groupby(pd.cut(state_df['AGE'], bins=age_groups, right=False)).agg({\"POPEST2014_CIV\": np.sum})\n",
    "age = pop2014.groupby([\"NAME\"]).apply(fn)\n",
    "\n",
    "age = age.reset_index()\n",
    "age = age.pivot(index=\"NAME\", columns='AGE', values=\"POPEST2014_CIV\")\n",
    "\n",
    "age.index = age.index.rename(\"State\")\n",
    "age.columns = [\"18-44\", \"45-64\", \"65-74\", \"75+\"]\n",
    "\n",
    "age.to_csv(\"state_pop_by_age_group_2014.csv\")\n",
    "age.head()"
   ]
  },
  {
   "cell_type": "markdown",
   "metadata": {
    "id": "iV6mCQO2B3G5"
   },
   "source": [
    "# High school-aged population size (2013)"
   ]
  },
  {
   "cell_type": "code",
   "execution_count": 8,
   "metadata": {
    "colab": {
     "base_uri": "https://localhost:8080/",
     "height": 206
    },
    "executionInfo": {
     "elapsed": 147,
     "status": "ok",
     "timestamp": 1682923863558,
     "user": {
      "displayName": "Janise Liang",
      "userId": "07823039032861255410"
     },
     "user_tz": 420
    },
    "id": "vqOtgVSmB2vB",
    "outputId": "fa04603d-71e1-4157-f815-cc8532d41cc6"
   },
   "outputs": [
    {
     "data": {
      "text/html": [
       "<div>\n",
       "<style scoped>\n",
       "    .dataframe tbody tr th:only-of-type {\n",
       "        vertical-align: middle;\n",
       "    }\n",
       "\n",
       "    .dataframe tbody tr th {\n",
       "        vertical-align: top;\n",
       "    }\n",
       "\n",
       "    .dataframe thead th {\n",
       "        text-align: right;\n",
       "    }\n",
       "</style>\n",
       "<table border=\"1\" class=\"dataframe\">\n",
       "  <thead>\n",
       "    <tr style=\"text-align: right;\">\n",
       "      <th></th>\n",
       "      <th>num HS age</th>\n",
       "      <th>State</th>\n",
       "      <th>Postal</th>\n",
       "    </tr>\n",
       "  </thead>\n",
       "  <tbody>\n",
       "    <tr>\n",
       "      <th>0</th>\n",
       "      <td>638222</td>\n",
       "      <td>Alabama</td>\n",
       "      <td>AL</td>\n",
       "    </tr>\n",
       "    <tr>\n",
       "      <th>1</th>\n",
       "      <td>99028</td>\n",
       "      <td>Alaska</td>\n",
       "      <td>AK</td>\n",
       "    </tr>\n",
       "    <tr>\n",
       "      <th>2</th>\n",
       "      <td>901416</td>\n",
       "      <td>Arizona</td>\n",
       "      <td>AZ</td>\n",
       "    </tr>\n",
       "    <tr>\n",
       "      <th>3</th>\n",
       "      <td>394124</td>\n",
       "      <td>Arkansas</td>\n",
       "      <td>AR</td>\n",
       "    </tr>\n",
       "    <tr>\n",
       "      <th>4</th>\n",
       "      <td>5255478</td>\n",
       "      <td>California</td>\n",
       "      <td>CA</td>\n",
       "    </tr>\n",
       "  </tbody>\n",
       "</table>\n",
       "</div>"
      ],
      "text/plain": [
       "   num HS age       State Postal\n",
       "0      638222     Alabama     AL\n",
       "1       99028      Alaska     AK\n",
       "2      901416     Arizona     AZ\n",
       "3      394124    Arkansas     AR\n",
       "4     5255478  California     CA"
      ]
     },
     "execution_count": 8,
     "metadata": {},
     "output_type": "execute_result"
    }
   ],
   "source": [
    "pop2013 = pd.read_csv(pop_agesex_path)\n",
    "pop2013 = pop2013[pop2013['SUMLEV'] == 40][['NAME', 'SEX', 'AGE', 'POPEST2013_CIV']]\n",
    "\n",
    "hs = pop2013[pop2013['AGE'].between(14, 18)].groupby(\"NAME\").agg({'POPEST2013_CIV': np.sum})\n",
    "hs = hs.merge(abbrevs, left_index=True, right_on='State')\n",
    "hs = hs.rename(columns={\"POPEST2013_CIV\": \"num HS age\"})\n",
    "hs.head()"
   ]
  },
  {
   "cell_type": "code",
   "execution_count": 9,
   "metadata": {
    "executionInfo": {
     "elapsed": 145,
     "status": "ok",
     "timestamp": 1682923867695,
     "user": {
      "displayName": "Janise Liang",
      "userId": "07823039032861255410"
     },
     "user_tz": 420
    },
    "id": "CLGjsLUcDU4D"
   },
   "outputs": [],
   "source": [
    "hs.to_csv(\"hs_aged_pop_2013.csv\")"
   ]
  },
  {
   "cell_type": "markdown",
   "metadata": {
    "id": "XR1LQlZxLoIe"
   },
   "source": [
    "# Adults (18 or older) in 2014"
   ]
  },
  {
   "cell_type": "code",
   "execution_count": 10,
   "metadata": {
    "colab": {
     "base_uri": "https://localhost:8080/",
     "height": 206
    },
    "executionInfo": {
     "elapsed": 257,
     "status": "ok",
     "timestamp": 1682925956235,
     "user": {
      "displayName": "Janise Liang",
      "userId": "07823039032861255410"
     },
     "user_tz": 420
    },
    "id": "7o6qPLB2Lnjh",
    "outputId": "9de9e95a-7a3a-4688-ffd3-12627f451b67"
   },
   "outputs": [
    {
     "data": {
      "text/html": [
       "<div>\n",
       "<style scoped>\n",
       "    .dataframe tbody tr th:only-of-type {\n",
       "        vertical-align: middle;\n",
       "    }\n",
       "\n",
       "    .dataframe tbody tr th {\n",
       "        vertical-align: top;\n",
       "    }\n",
       "\n",
       "    .dataframe thead th {\n",
       "        text-align: right;\n",
       "    }\n",
       "</style>\n",
       "<table border=\"1\" class=\"dataframe\">\n",
       "  <thead>\n",
       "    <tr style=\"text-align: right;\">\n",
       "      <th></th>\n",
       "      <th>adult population</th>\n",
       "      <th>State</th>\n",
       "      <th>Postal</th>\n",
       "    </tr>\n",
       "  </thead>\n",
       "  <tbody>\n",
       "    <tr>\n",
       "      <th>0</th>\n",
       "      <td>17102886</td>\n",
       "      <td>Alabama</td>\n",
       "      <td>AL</td>\n",
       "    </tr>\n",
       "    <tr>\n",
       "      <th>1</th>\n",
       "      <td>2485864</td>\n",
       "      <td>Alaska</td>\n",
       "      <td>AK</td>\n",
       "    </tr>\n",
       "    <tr>\n",
       "      <th>2</th>\n",
       "      <td>23603612</td>\n",
       "      <td>Arizona</td>\n",
       "      <td>AZ</td>\n",
       "    </tr>\n",
       "    <tr>\n",
       "      <th>3</th>\n",
       "      <td>10433068</td>\n",
       "      <td>Arkansas</td>\n",
       "      <td>AR</td>\n",
       "    </tr>\n",
       "    <tr>\n",
       "      <th>4</th>\n",
       "      <td>135462584</td>\n",
       "      <td>California</td>\n",
       "      <td>CA</td>\n",
       "    </tr>\n",
       "  </tbody>\n",
       "</table>\n",
       "</div>"
      ],
      "text/plain": [
       "   adult population       State Postal\n",
       "0          17102886     Alabama     AL\n",
       "1           2485864      Alaska     AK\n",
       "2          23603612     Arizona     AZ\n",
       "3          10433068    Arkansas     AR\n",
       "4         135462584  California     CA"
      ]
     },
     "execution_count": 10,
     "metadata": {},
     "output_type": "execute_result"
    }
   ],
   "source": [
    "adult = pop2014[pop2014['AGE'] >= 18].groupby(\"NAME\").agg({'POPEST2014_CIV': np.sum})\n",
    "adult = adult.merge(abbrevs, left_index=True, right_on='State')\n",
    "adult = adult.rename(columns={\"POPEST2014_CIV\": \"adult population\"})\n",
    "adult.head()"
   ]
  },
  {
   "cell_type": "code",
   "execution_count": 11,
   "metadata": {
    "executionInfo": {
     "elapsed": 2,
     "status": "ok",
     "timestamp": 1682925971560,
     "user": {
      "displayName": "Janise Liang",
      "userId": "07823039032861255410"
     },
     "user_tz": 420
    },
    "id": "maqMBIMwNCop"
   },
   "outputs": [],
   "source": [
    "adult.to_csv(\"adult_pop_2014.csv\")"
   ]
  }
 ],
 "metadata": {
  "colab": {
   "authorship_tag": "ABX9TyMEPJToqXo9a/TuYndbI0az",
   "collapsed_sections": [
    "GHgLDvXKByPm",
    "pPHKXv5YB0lT",
    "iV6mCQO2B3G5"
   ],
   "provenance": []
  },
  "kernelspec": {
   "display_name": "Python 3",
   "language": "python",
   "name": "python3"
  },
  "language_info": {
   "codemirror_mode": {
    "name": "ipython",
    "version": 3
   },
   "file_extension": ".py",
   "mimetype": "text/x-python",
   "name": "python",
   "nbconvert_exporter": "python",
   "pygments_lexer": "ipython3",
   "version": "3.7.4"
  }
 },
 "nbformat": 4,
 "nbformat_minor": 1
}
